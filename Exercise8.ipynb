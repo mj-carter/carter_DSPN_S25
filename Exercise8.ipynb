{
  "cells": [
    {
      "cell_type": "markdown",
      "metadata": {
        "id": "view-in-github",
        "colab_type": "text"
      },
      "source": [
        "<a href=\"https://colab.research.google.com/github/mj-carter/carter_DSPN_S25/blob/main/Exercise8.ipynb\" target=\"_parent\"><img src=\"https://colab.research.google.com/assets/colab-badge.svg\" alt=\"Open In Colab\"/></a>"
      ]
    },
    {
      "cell_type": "markdown",
      "metadata": {
        "id": "szkkhiCZDF52"
      },
      "source": [
        "# Exercise 8:  Linear models, continued\n",
        "\n",
        "This homework assignment is designed to give you a deeper understanding of linear models. First, we'll dive into the math behind the closed-form solution of maximum likelihood estimation. **In the first section below, write your answers using Latex equation formatting.**\n",
        "\n",
        "*Note: Check out [this page](https://gtribello.github.io/mathNET/assets/notebook-writing.html) and [this page](https://towardsdatascience.com/write-markdown-latex-in-the-jupyter-notebook-10985edb91fd) for resources on how to do Latex formatting. You can also double click on the question cells in this notebook to see how math is formatted in the questions.*\n"
      ]
    },
    {
      "cell_type": "markdown",
      "source": [
        "1. Deriving the Maximum Likelihood Estimate for Simple Linear Regression 6/6\n",
        "2. Connecting to Data 4/4"
      ],
      "metadata": {
        "id": "jvkMQURvKwfL"
      }
    },
    {
      "cell_type": "markdown",
      "metadata": {
        "id": "QJscNReoylRt"
      },
      "source": [
        "---\n",
        "## 1. Deriving the Maximum Likelihood Estimate for Simple Linear Regression (6 points)"
      ]
    },
    {
      "cell_type": "markdown",
      "metadata": {
        "id": "nH82gwuymPi0"
      },
      "source": [
        "Using the mean squared error (MSE) as your objective function (the thing you're trying to minimize when you fit your model) allows for a closed form solution to finding the maximum likelihood estimate (MLE) of your model parameters in linear regression. Let’s consider the simple, single predictor variable model, i.e. simple linear regression :  $Y= \\beta_0 + \\beta_1 X $.\n",
        "\n",
        "a) Use algebra to show how you can expand out $MSE(\\beta_0, \\beta_1)$ to get from i to ii below.\n",
        "\n",
        "> _i)_ $E[ (Y-(\\beta_0 + \\beta_1 X))^2]$\n",
        "\n",
        "> _ii)_ $E[Y^2] -2 \\beta_0E[Y]-2 \\beta_1 Cov[X,Y]-2 \\beta_1 E[X]E[Y]+ \\beta_0^2 +2 \\beta_0 \\beta_1 E[X]+\\beta_1^2 Var[X]+ \\beta_1^2 (E[X])^2$\n",
        "\n",
        "\n",
        "\n",
        "\n"
      ]
    },
    {
      "cell_type": "markdown",
      "metadata": {
        "id": "dn2hveNho-Of"
      },
      "source": [
        "Given: $MSE(\\beta_0, \\beta_1) = E[(Y - (\\beta_0 + \\beta_1 X))^2]$\n",
        "\n",
        "$E[Y^2 - 2Y(\\beta_0 + \\beta_1 X) + (\\beta_0 + \\beta_1 X)^2]$\n",
        "\n",
        "$E[Y^2] - 2E[Y(\\beta_0 + \\beta_1 X)] + E[(\\beta_0 + \\beta_1 X)^2]$\n",
        "\n",
        "$E[Y^2] - 2E[Y] \\beta_0 - 2E[YX] \\beta_1 + E[\\beta_0^2 + 2\\beta_0 \\beta_1 X + \\beta_1^2 X^2]$\n",
        "\n",
        "$E[Y^2] - 2 \\beta_0E[Y] - 2\\beta_1 E[YX] + \\beta_0^2 + 2\\beta_0 \\beta_1 E[X] + \\beta_1^2 E[X^2]$\n",
        "\n",
        "$E[Y^2] - 2 \\beta_0E[Y] - 2\\beta_1 (Cov[x,Y] + E[X]E[Y]) + \\beta_0^2 + 2\\beta_0 \\beta_1 E[X] + \\beta_1^2 (Var[X] + (E[X])^2)$\n",
        "\n",
        "$E[Y^2] - 2 \\beta_0E[Y] - 2 \\beta_1 Cov[X,Y] - 2 \\beta_1 E[X]E[Y] + \\beta_0^2 + 2 \\beta_0 \\beta_1 E[X] + \\beta_1^2 Var[X] + \\beta_1^2 (E[X])^2$"
      ]
    },
    {
      "cell_type": "markdown",
      "metadata": {
        "id": "GCr46r9xwRXP"
      },
      "source": [
        "b) Prove that the MLE of $\\beta_0$ is $E[Y]- \\beta_1 E[X]$ by taking the derivative of _ii_ above, with respect to $\\beta_0$, setting the derivative to zero, and solving for $\\beta_0$."
      ]
    },
    {
      "cell_type": "markdown",
      "metadata": {
        "id": "Ul-PZyLbwTCQ"
      },
      "source": [
        "**Answer:**\n",
        "\n",
        "$\\frac{d}{d\\beta_0} MSE(\\beta_0, \\beta_1) = \\frac{d}{d\\beta_0} \\Big( E[Y^2] - 2 \\beta_0E[Y] - 2 \\beta_1 Cov[X,Y] - 2 \\beta_1 E[X]E[Y] + \\beta_0^2 + 2 \\beta_0 \\beta_1 E[X] + \\beta_1^2 Var[X] + \\beta_1^2 (E[X])^2 \\Big)$\n",
        "\n",
        "$-2E[Y] + 2\\beta_0 + 2\\beta_1 E[X]$ = $0$\n",
        "\n",
        "Thus: $2(\\beta_0) = 2(E[Y] - \\beta_1 E[X])$\n",
        "\n",
        "And: $\\beta_0 = E[Y] - \\beta_1 E[X]$"
      ]
    },
    {
      "cell_type": "markdown",
      "metadata": {
        "id": "-uv4Z7afw4gB"
      },
      "source": [
        "c) Prove that the MLE for $\\beta_1$ is $Cov[X,Y]/Var[X]$ by taking the derivative of equation _ii_ above, with respect to $\\beta_1$, setting the derivative to zero, and solving for $\\beta_1$. *Hint: after you've simplified / expanded a bit, plug in the solution for $\\beta_0$ from part b.*"
      ]
    },
    {
      "cell_type": "markdown",
      "metadata": {
        "id": "sWTFZ6ZSw6sh"
      },
      "source": [
        "**Answer:**\n",
        "\n",
        "$\\frac{d}{d\\beta_1} MSE(\\beta_0, \\beta_1) = \\frac{d}{d\\beta_1}( E[y^2] - 2 \\beta_0E[Y] - 2 \\beta_1 Cov[X,Y] - 2 \\beta_1 E[X]E[Y] + \\beta_0^2 + 2 \\beta_0 \\beta_1 E[X] + \\beta_1^2 Var[X] + \\beta_1^2 (E[X])^2)$\n",
        "\n",
        "$= -2 Cov[X,Y] - 2E[X]E[Y] + 2\\beta_0 E[X] + 2\\beta_1 Var[X] + 2\\beta_1 (E[X])^2 = 0$\n",
        "\n",
        "Thus: $-2 Cov[X,Y] - 2E[X]E[Y] + 2\\beta_0 E[X] + 2\\beta_1 (Var[X] + (E[X])^2) = 0$\n",
        "\n",
        "Given: $\\beta_0 = E[Y] - \\beta_1 E[X]$ (from part b):\n",
        "\n",
        "$-2 Cov[X,Y] - 2E[X]E[Y] + 2(E[Y] - \\beta_1 E[X]) E[X] + 2\\beta_1 (Var[X] + (E[X])^2) = 0$\n",
        "\n",
        "$-2 Cov[X,Y] - 2E[X]E[Y] + 2E[Y]E[X] - 2\\beta_1 (E[X])^2 + 2\\beta_1 (Var[X] + (E[X])^2) = 0$\n",
        "\n",
        "$-2 Cov[X,Y] + 2\\beta_1 Var[X] = 0$\n",
        "\n",
        "Thus: $ 2\\beta_1 Var[X] = 2 Cov[X,Y]$\n",
        "\n",
        "And: $ \\beta_1 = \\frac{Cov[X,Y]}{Var[X]}$"
      ]
    },
    {
      "cell_type": "markdown",
      "metadata": {
        "id": "66X264ZpDF58"
      },
      "source": [
        "---\n",
        "## 2. Connecting to data (4 points)\n",
        "\n",
        "Now let's connect this to some real data. Once again we'll be using the  **unrestricted_trimmed_1_7_2020_10_50_44.csv** file from the *Homework/hcp_data* folder in the class GitHub repository.\n",
        "\n",
        "​\n",
        "This data is a portion of the [Human Connectome Project database](http://www.humanconnectomeproject.org/). It provides measures of cognitive tasks and brain morphology measurements from 1206 participants. The full description of each variable is provided in the **HCP_S1200_DataDictionary_April_20_2018.csv** file in the *Homework/hcp_data* folder in the class GitHub repository.\n",
        "\n",
        "a) Use the `setwd` and `read.csv` functions to load data from the **unrestricted_trimmed_1_7_2020_10_50_44.csv** file. Then use the `tidyverse` tools make a new dataframe `d1` that only inclues the subject ID (`Subject`), Flanker Task performance (`Flanker_Unadj`), and total grey matter volume (`FS_Total_GM_Vol`) variables and remove all _NA_ values.\n",
        "\n",
        "Use the `head` function to look at the first few rows of each data frame."
      ]
    },
    {
      "cell_type": "code",
      "execution_count": null,
      "metadata": {
        "id": "PZ0lngBjDF58",
        "vscode": {
          "languageId": "r"
        },
        "outputId": "b11d18df-8d08-46bf-8b1b-4dc3726be5f6"
      },
      "outputs": [
        {
          "data": {
            "text/html": [
              "<table class=\"dataframe\">\n",
              "<caption>A data.frame: 6 × 3</caption>\n",
              "<thead>\n",
              "\t<tr><th></th><th scope=col>Subject</th><th scope=col>Flanker_Unadj</th><th scope=col>FS_Total_GM_Vol</th></tr>\n",
              "\t<tr><th></th><th scope=col>&lt;int&gt;</th><th scope=col>&lt;dbl&gt;</th><th scope=col>&lt;int&gt;</th></tr>\n",
              "</thead>\n",
              "<tbody>\n",
              "\t<tr><th scope=row>2</th><td>100206</td><td>130.42</td><td>807245</td></tr>\n",
              "\t<tr><th scope=row>3</th><td>100307</td><td>112.56</td><td>664124</td></tr>\n",
              "\t<tr><th scope=row>4</th><td>100408</td><td>121.18</td><td>726206</td></tr>\n",
              "\t<tr><th scope=row>5</th><td>100610</td><td>126.53</td><td>762308</td></tr>\n",
              "\t<tr><th scope=row>6</th><td>101006</td><td>101.85</td><td>579632</td></tr>\n",
              "\t<tr><th scope=row>7</th><td>101107</td><td>107.04</td><td>665024</td></tr>\n",
              "</tbody>\n",
              "</table>\n"
            ],
            "text/latex": [
              "A data.frame: 6 × 3\n",
              "\\begin{tabular}{r|lll}\n",
              "  & Subject & Flanker\\_Unadj & FS\\_Total\\_GM\\_Vol\\\\\n",
              "  & <int> & <dbl> & <int>\\\\\n",
              "\\hline\n",
              "\t2 & 100206 & 130.42 & 807245\\\\\n",
              "\t3 & 100307 & 112.56 & 664124\\\\\n",
              "\t4 & 100408 & 121.18 & 726206\\\\\n",
              "\t5 & 100610 & 126.53 & 762308\\\\\n",
              "\t6 & 101006 & 101.85 & 579632\\\\\n",
              "\t7 & 101107 & 107.04 & 665024\\\\\n",
              "\\end{tabular}\n"
            ],
            "text/markdown": [
              "\n",
              "A data.frame: 6 × 3\n",
              "\n",
              "| <!--/--> | Subject &lt;int&gt; | Flanker_Unadj &lt;dbl&gt; | FS_Total_GM_Vol &lt;int&gt; |\n",
              "|---|---|---|---|\n",
              "| 2 | 100206 | 130.42 | 807245 |\n",
              "| 3 | 100307 | 112.56 | 664124 |\n",
              "| 4 | 100408 | 121.18 | 726206 |\n",
              "| 5 | 100610 | 126.53 | 762308 |\n",
              "| 6 | 101006 | 101.85 | 579632 |\n",
              "| 7 | 101107 | 107.04 | 665024 |\n",
              "\n"
            ],
            "text/plain": [
              "  Subject Flanker_Unadj FS_Total_GM_Vol\n",
              "2 100206  130.42        807245         \n",
              "3 100307  112.56        664124         \n",
              "4 100408  121.18        726206         \n",
              "5 100610  126.53        762308         \n",
              "6 101006  101.85        579632         \n",
              "7 101107  107.04        665024         "
            ]
          },
          "metadata": {},
          "output_type": "display_data"
        }
      ],
      "source": [
        "setwd(\"C:/Users/MJ/Desktop/data_science\")\n",
        "df = read.csv(\"unrestricted_trimmed_1_7_2020_10_50_44.csv\", header = TRUE)\n",
        "library(tidyverse)\n",
        "d1 = na.omit(select(df, Subject, Flanker_Unadj, FS_Total_GM_Vol))\n",
        "head(d1)\n"
      ]
    },
    {
      "cell_type": "markdown",
      "metadata": {
        "id": "J3owDQ0U2Ewn"
      },
      "source": [
        "b) Now we're going to see if the solutions we proved above actually line up with the model fit that R gives us (it should...). Calculate what the $\\beta_0$ and $\\beta_1$ coefficients should be for a simple linear regression model using `Flanker_Unadj` as $Y$ and `FS_Total_GM_Vol` as $X$. Use the formulas we derived above ($\\beta_1 = Cov[XY]/Var[X]$ , $\\beta_0 = E[Y] - \\beta_1E[X]$). Then use `lm()` to compare the coefficients you calculated with the ones R gives you."
      ]
    },
    {
      "cell_type": "code",
      "execution_count": null,
      "metadata": {
        "id": "mWvD8shRDF5_",
        "vscode": {
          "languageId": "r"
        },
        "outputId": "32ad5bfe-bb87-4aab-c4b0-a291709bdd25"
      },
      "outputs": [
        {
          "data": {
            "text/html": [
              "'beta0 = 90.2564608190943, beta1 =3.10996547106463e-05'"
            ],
            "text/latex": [
              "'beta0 = 90.2564608190943, beta1 =3.10996547106463e-05'"
            ],
            "text/markdown": [
              "'beta0 = 90.2564608190943, beta1 =3.10996547106463e-05'"
            ],
            "text/plain": [
              "[1] \"beta0 = 90.2564608190943, beta1 =3.10996547106463e-05\""
            ]
          },
          "metadata": {},
          "output_type": "display_data"
        },
        {
          "data": {
            "text/html": [
              "<style>\n",
              ".dl-inline {width: auto; margin:0; padding: 0}\n",
              ".dl-inline>dt, .dl-inline>dd {float: none; width: auto; display: inline-block}\n",
              ".dl-inline>dt::after {content: \":\\0020\"; padding-right: .5ex}\n",
              ".dl-inline>dt:not(:first-of-type) {padding-left: .5ex}\n",
              "</style><dl class=dl-inline><dt>(Intercept)</dt><dd>90.2564608190943</dd><dt>FS_Total_GM_Vol</dt><dd>3.10996547106466e-05</dd></dl>\n"
            ],
            "text/latex": [
              "\\begin{description*}\n",
              "\\item[(Intercept)] 90.2564608190943\n",
              "\\item[FS\\textbackslash{}\\_Total\\textbackslash{}\\_GM\\textbackslash{}\\_Vol] 3.10996547106466e-05\n",
              "\\end{description*}\n"
            ],
            "text/markdown": [
              "(Intercept)\n",
              ":   90.2564608190943FS_Total_GM_Vol\n",
              ":   3.10996547106466e-05\n",
              "\n"
            ],
            "text/plain": [
              "    (Intercept) FS_Total_GM_Vol \n",
              "   9.025646e+01    3.109965e-05 "
            ]
          },
          "metadata": {},
          "output_type": "display_data"
        },
        {
          "name": "stdout",
          "output_type": "stream",
          "text": [
            "[1] \"The values are almost exactly the same\"\n"
          ]
        }
      ],
      "source": [
        "beta1 = (cov(d1$FS_Total_GM_Vol, d1$Flanker_Unadj))/var(d1$FS_Total_GM_Vol)\n",
        "beta0 = mean(d1$Flanker_Unadj) - beta1 * mean(d1$FS_Total_GM_Vol)\n",
        "\n",
        "paste0(\"beta0 = \", beta0, \", beta1 =\", beta1)\n",
        "\n",
        "mod = lm(Flanker_Unadj ~ FS_Total_GM_Vol, data = d1)\n",
        "mod$coefficients\n",
        "\n",
        "print(\"The values are almost exactly the same\")\n"
      ]
    },
    {
      "cell_type": "markdown",
      "metadata": {
        "id": "xcnXbsZvDF6B"
      },
      "source": [
        "**DUE:** 5pm EST, Feb 26, 2025"
      ]
    },
    {
      "cell_type": "markdown",
      "metadata": {
        "id": "aG5swCweDF6B"
      },
      "source": [
        "**IMPORTANT** Did you collaborate with anyone on this assignment? If so, list their names here.\n",
        "> *Someone's Name*"
      ]
    }
  ],
  "metadata": {
    "colab": {
      "provenance": [],
      "toc_visible": true,
      "include_colab_link": true
    },
    "kernelspec": {
      "display_name": "R",
      "language": "R",
      "name": "ir"
    },
    "language_info": {
      "codemirror_mode": "r",
      "file_extension": ".r",
      "mimetype": "text/x-r-source",
      "name": "R",
      "pygments_lexer": "r",
      "version": "4.4.2"
    }
  },
  "nbformat": 4,
  "nbformat_minor": 0
}