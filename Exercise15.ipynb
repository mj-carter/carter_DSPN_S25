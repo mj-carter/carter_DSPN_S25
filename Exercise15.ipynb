{
  "cells": [
    {
      "cell_type": "markdown",
      "metadata": {
        "id": "MW7OvpZ27QBd"
      },
      "source": [
        "<a href=\"https://colab.research.google.com/github/CoAxLab/Data-Explorations/blob/main/book/exercises/power-analysis-via-simulations.ipynb\" target=\"_parent\"><img src=\"https://colab.research.google.com/assets/colab-badge.svg\" alt=\"Open In Colab\"/></a>"
      ]
    },
    {
      "cell_type": "markdown",
      "metadata": {
        "id": "-2W919d2ZXp7"
      },
      "source": [
        "# Exercise 15: Power analyses"
      ]
    },
    {
      "cell_type": "markdown",
      "metadata": {
        "id": "L4nOzVhyZXqK"
      },
      "source": [
        "This  assignment is designed to give you practice with Monte Carlo methods to conduct power analyses via simulation. You won't need to load in any data for this homework. We will, however, be using parts of the homework from last week."
      ]
    },
    {
      "cell_type": "markdown",
      "source": [
        "1. Simulating data 1/1\n",
        "2. run_analysis() function 2/2\n",
        "3. repeat_analysis() function 3/3\n",
        "4. Testing different sample sizes 2/2\n",
        "5. Reflection 2/2"
      ],
      "metadata": {
        "id": "sWqS1Z177aHH"
      }
    },
    {
      "cell_type": "markdown",
      "metadata": {
        "id": "9DsyBTB6ZXqN"
      },
      "source": [
        "---\n",
        "## 1. Simulating data (1 points)\n"
      ]
    },
    {
      "cell_type": "markdown",
      "metadata": {
        "id": "J1f6MywYhyzN"
      },
      "source": [
        "Pull your `simulate_data()` function from your last homework and add it below.\n",
        "\n",
        "As a reminder, this function simulates the relationship between age, word reading experience, and reading comprehension skill.\n",
        "\n",
        "`c` is reading comprehension, and `x` is word reading experience."
      ]
    },
    {
      "cell_type": "code",
      "execution_count": null,
      "metadata": {
        "id": "UnBVazYfZXqP",
        "vscode": {
          "languageId": "r"
        },
        "outputId": "9b925bb9-1b57-4099-fc12-e5a7b258c3f1"
      },
      "outputs": [
        {
          "data": {
            "text/html": [
              "<table class=\"dataframe\">\n",
              "<caption>A data.frame: 6 × 3</caption>\n",
              "<thead>\n",
              "\t<tr><th></th><th scope=col>age</th><th scope=col>x</th><th scope=col>c</th></tr>\n",
              "\t<tr><th></th><th scope=col>&lt;dbl&gt;</th><th scope=col>&lt;dbl&gt;</th><th scope=col>&lt;dbl&gt;</th></tr>\n",
              "</thead>\n",
              "<tbody>\n",
              "\t<tr><th scope=row>1</th><td>193.1795</td><td> 69.03887</td><td>330.8223</td></tr>\n",
              "\t<tr><th scope=row>2</th><td>181.3471</td><td> 68.69928</td><td>377.3407</td></tr>\n",
              "\t<tr><th scope=row>3</th><td> 87.8368</td><td> 35.19186</td><td>254.3320</td></tr>\n",
              "\t<tr><th scope=row>4</th><td>100.0407</td><td> 88.42237</td><td>282.4148</td></tr>\n",
              "\t<tr><th scope=row>5</th><td>167.2947</td><td>127.11352</td><td>504.9612</td></tr>\n",
              "\t<tr><th scope=row>6</th><td>163.9109</td><td>119.55963</td><td>406.8852</td></tr>\n",
              "</tbody>\n",
              "</table>\n"
            ],
            "text/latex": [
              "A data.frame: 6 × 3\n",
              "\\begin{tabular}{r|lll}\n",
              "  & age & x & c\\\\\n",
              "  & <dbl> & <dbl> & <dbl>\\\\\n",
              "\\hline\n",
              "\t1 & 193.1795 &  69.03887 & 330.8223\\\\\n",
              "\t2 & 181.3471 &  68.69928 & 377.3407\\\\\n",
              "\t3 &  87.8368 &  35.19186 & 254.3320\\\\\n",
              "\t4 & 100.0407 &  88.42237 & 282.4148\\\\\n",
              "\t5 & 167.2947 & 127.11352 & 504.9612\\\\\n",
              "\t6 & 163.9109 & 119.55963 & 406.8852\\\\\n",
              "\\end{tabular}\n"
            ],
            "text/markdown": [
              "\n",
              "A data.frame: 6 × 3\n",
              "\n",
              "| <!--/--> | age &lt;dbl&gt; | x &lt;dbl&gt; | c &lt;dbl&gt; |\n",
              "|---|---|---|---|\n",
              "| 1 | 193.1795 |  69.03887 | 330.8223 |\n",
              "| 2 | 181.3471 |  68.69928 | 377.3407 |\n",
              "| 3 |  87.8368 |  35.19186 | 254.3320 |\n",
              "| 4 | 100.0407 |  88.42237 | 282.4148 |\n",
              "| 5 | 167.2947 | 127.11352 | 504.9612 |\n",
              "| 6 | 163.9109 | 119.55963 | 406.8852 |\n",
              "\n"
            ],
            "text/plain": [
              "  age      x         c       \n",
              "1 193.1795  69.03887 330.8223\n",
              "2 181.3471  68.69928 377.3407\n",
              "3  87.8368  35.19186 254.3320\n",
              "4 100.0407  88.42237 282.4148\n",
              "5 167.2947 127.11352 504.9612\n",
              "6 163.9109 119.55963 406.8852"
            ]
          },
          "metadata": {},
          "output_type": "display_data"
        }
      ],
      "source": [
        "sample_size = 100 # How many children in data set?\n",
        "age_lo = 80     # minimum age, in months\n",
        "age_hi = 200    # maximum age, in months\n",
        "beta_xa = 0.5   # amount by which experience changes for increase of one month in age\n",
        "beta_x0 = -5    # amount of experience when age = 0 (not interpretable, since minimum age for this data is 80 months)\n",
        "sd_x = 50       # standard dev of gaussian noise term, epsilon_x\n",
        "beta_ca = 0.8   # amount that comprehension score improves for every increase of one unit in age\n",
        "beta_cx = 3     # amount that comprehension score improves for every increase of one unit in reading experience\n",
        "beta_c0 = 10    # comprehension score when reading experience is 0.\n",
        "sd_c = 85      # standard dev of gaussian noise term, epsilon_c\n",
        "\n",
        "simulate_data <- function(sample_size, age_lo, age_hi, beta_xa, beta_x0, sd_x, beta_ca, beta_cx, beta_c0, sd_c) {\n",
        "    age = runif(sample_size, min = age_lo, max = age_hi)\n",
        "    epsilon_x = rnorm(sample_size, mean = 0, sd = sd_x)\n",
        "    x = beta_xa * age + beta_x0 + epsilon_x\n",
        "    epsilon_c = rnorm(sample_size, mean = 0, sd = sd_c)\n",
        "    c = beta_ca * age + beta_cx * x + beta_c0 + epsilon_c\n",
        "\n",
        "      return(data.frame(age=age,x=x,c=c)) # it's actually bad form to have a variable named \"c\" in R, my bad...\n",
        "}\n",
        "\n",
        "dat <- simulate_data(sample_size, age_lo, age_hi, beta_xa, beta_x0, sd_x, beta_ca, beta_cx, beta_c0, sd_c)\n",
        "head(dat)"
      ]
    },
    {
      "cell_type": "markdown",
      "metadata": {
        "id": "T3b3_KsHk-xD"
      },
      "source": [
        "---\n",
        "## 2. `run_analysis()` function (2 pts)"
      ]
    },
    {
      "cell_type": "markdown",
      "metadata": {
        "id": "TJyPIaTO8zCS"
      },
      "source": [
        "Last week, we looked at whether word reading experience(`x`) mediated the relation between `age` and reading comprehension (`c`).\n",
        "\n",
        "Now we're going to use our `simulate_data()` function to conduct a power analysis. The goal is to determine how many participants we would need in order to detect both the mediated and the direct effects in this data.\n",
        "\n",
        "*Note: We're going to pretend for the sake of simplicity that we don't have any control over the ages of the children we get (so ages are generated using `runif(sample_size, age_lo, age_hi)`, although of course this would be an unusual situation in reality.*\n",
        "\n",
        "First, write a function, `run_analysis()`, that takes in simulated data, runs **your mediation from last week**, and returns a vector containing the ACME and ADE estimates and p-values (these are the `d0`, `d0.p`, `z0`, and `z0.p` features of the mediated model object, e.g., `fitMed$d0.p`). Print this function's output for the data we simulated previously."
      ]
    },
    {
      "cell_type": "code",
      "execution_count": null,
      "metadata": {
        "id": "AidH_KidrX9L",
        "scrolled": true,
        "vscode": {
          "languageId": "r"
        },
        "outputId": "5bb2ee6d-428b-4c3e-95b8-f54cf20cbf01"
      },
      "outputs": [
        {
          "name": "stderr",
          "output_type": "stream",
          "text": [
            "Running nonparametric bootstrap\n",
            "\n",
            "\n"
          ]
        },
        {
          "data": {
            "text/html": [
              "<style>\n",
              ".dl-inline {width: auto; margin:0; padding: 0}\n",
              ".dl-inline>dt, .dl-inline>dd {float: none; width: auto; display: inline-block}\n",
              ".dl-inline>dt::after {content: \":\\0020\"; padding-right: .5ex}\n",
              ".dl-inline>dt:not(:first-of-type) {padding-left: .5ex}\n",
              "</style><dl class=dl-inline><dt>ACME</dt><dd>1.17749147689977</dd><dt>ACME_p</dt><dd>0.018</dd><dt>ADE</dt><dd>0.915983847682388</dd><dt>ADE_p</dt><dd>0</dd></dl>\n"
            ],
            "text/latex": [
              "\\begin{description*}\n",
              "\\item[ACME] 1.17749147689977\n",
              "\\item[ACME\\textbackslash{}\\_p] 0.018\n",
              "\\item[ADE] 0.915983847682388\n",
              "\\item[ADE\\textbackslash{}\\_p] 0\n",
              "\\end{description*}\n"
            ],
            "text/markdown": [
              "ACME\n",
              ":   1.17749147689977ACME_p\n",
              ":   0.018ADE\n",
              ":   0.915983847682388ADE_p\n",
              ":   0\n",
              "\n"
            ],
            "text/plain": [
              "     ACME    ACME_p       ADE     ADE_p \n",
              "1.1774915 0.0180000 0.9159838 0.0000000 "
            ]
          },
          "metadata": {},
          "output_type": "display_data"
        }
      ],
      "source": [
        "library(mediation)\n",
        "\n",
        "run_analysis = function(dat) {\n",
        "  model.m = lm(x ~ age, data = dat)\n",
        "  model.y = lm(c ~ age + x, data = dat)\n",
        "  fitMed = mediate(model.m, model.y, treat = \"age\", mediator = \"x\", boot = TRUE, sims = 1000)\n",
        "  return(c(ACME = fitMed$d0, ACME_p = fitMed$d0.p, ADE = fitMed$z0, ADE_p = fitMed$z0.p))\n",
        "}\n",
        "\n",
        "run_analysis(dat)\n"
      ]
    },
    {
      "cell_type": "markdown",
      "metadata": {
        "id": "bHxz5W2r5s79"
      },
      "source": [
        "---\n",
        "## 3. `repeat_analysis()` function (3 pts)"
      ]
    },
    {
      "cell_type": "markdown",
      "metadata": {
        "id": "G_jvc1XQBCpH"
      },
      "source": [
        "Next fill in the function `repeat_analysis()` below so that it simulates and analyzes data `num_simulations` times. Store the outputs from each simulation in the `simouts` matrix. Calculate and return the coverage across all the simulations run for both ACME and ADE."
      ]
    },
    {
      "cell_type": "code",
      "execution_count": null,
      "metadata": {
        "id": "NheOpBDsBBo9",
        "vscode": {
          "languageId": "r"
        }
      },
      "outputs": [],
      "source": [
        "repeat_analysis <- function(num_simulations, alpha, sample_size, age_lo, age_hi,\n",
        "        beta_xa, beta_x0, sd_x, beta_ca, beta_cx, beta_c0, sd_c) {\n",
        "    # Initialize simouts matrix for storing each output from run_analysis()\n",
        "    simouts <- matrix(rep(NA, num_simulations*4), nrow=num_simulations, ncol=4)\n",
        "\n",
        "    # Start simulating\n",
        "    for (i in 1:num_simulations) {\n",
        "        dat = simulate_data(sample_size, age_lo, age_hi, beta_xa, beta_x0, sd_x,\n",
        "                            beta_ca, beta_cx, beta_c0, sd_c)\n",
        "        simouts[i, ] = run_analysis(dat)\n",
        "\n",
        "    }\n",
        "\n",
        "    # Calculate coverage for both ACME and ADE estimates using p-values in simouts\n",
        "    ACME_cov = mean(simouts[, 2] < alpha)\n",
        "    ADE_cov =  mean(simouts[, 4] < alpha)\n",
        "\n",
        "    return(list(ACME_cov = ACME_cov, ADE_cov = ADE_cov))\n",
        "}"
      ]
    },
    {
      "cell_type": "markdown",
      "metadata": {
        "id": "bM5J5pYyQoRL"
      },
      "source": [
        "Now run the `repeat_analysis()` function using the same parameter settings as above, for 10 simulations, with an alpha criterion of 0.01."
      ]
    },
    {
      "cell_type": "code",
      "execution_count": null,
      "metadata": {
        "id": "RpURGbZQQlEK",
        "vscode": {
          "languageId": "r"
        },
        "outputId": "e8837bc0-eec2-4e18-8700-1e9d437f18e5"
      },
      "outputs": [
        {
          "name": "stderr",
          "output_type": "stream",
          "text": [
            "Running nonparametric bootstrap\n",
            "\n",
            "\n",
            "Running nonparametric bootstrap\n",
            "\n",
            "\n",
            "Running nonparametric bootstrap\n",
            "\n",
            "\n",
            "Running nonparametric bootstrap\n",
            "\n",
            "\n",
            "Running nonparametric bootstrap\n",
            "\n",
            "\n",
            "Running nonparametric bootstrap\n",
            "\n",
            "\n",
            "Running nonparametric bootstrap\n",
            "\n",
            "\n",
            "Running nonparametric bootstrap\n",
            "\n",
            "\n",
            "Running nonparametric bootstrap\n",
            "\n",
            "\n",
            "Running nonparametric bootstrap\n",
            "\n",
            "\n"
          ]
        },
        {
          "data": {
            "text/html": [
              "<dl>\n",
              "\t<dt>$ACME_cov</dt>\n",
              "\t\t<dd>0.8</dd>\n",
              "\t<dt>$ADE_cov</dt>\n",
              "\t\t<dd>0.7</dd>\n",
              "</dl>\n"
            ],
            "text/latex": [
              "\\begin{description}\n",
              "\\item[\\$ACME\\_cov] 0.8\n",
              "\\item[\\$ADE\\_cov] 0.7\n",
              "\\end{description}\n"
            ],
            "text/markdown": [
              "$ACME_cov\n",
              ":   0.8\n",
              "$ADE_cov\n",
              ":   0.7\n",
              "\n",
              "\n"
            ],
            "text/plain": [
              "$ACME_cov\n",
              "[1] 0.8\n",
              "\n",
              "$ADE_cov\n",
              "[1] 0.7\n"
            ]
          },
          "metadata": {},
          "output_type": "display_data"
        }
      ],
      "source": [
        "repeat_analysis(\n",
        "  num_simulations = 10, alpha = 0.01, sample_size = 100,\n",
        "  age_lo = 80, age_hi = 200, beta_xa = 0.5, beta_x0 = -5, sd_x = 50,\n",
        "  beta_ca = 0.8, beta_cx = 3, beta_c0 = 10, sd_c = 85\n",
        ")\n"
      ]
    },
    {
      "cell_type": "markdown",
      "metadata": {
        "id": "imIoN4w65s7_"
      },
      "source": [
        "---\n",
        "## 4. Testing different sample sizes (2 pts)"
      ]
    },
    {
      "cell_type": "markdown",
      "metadata": {
        "id": "CzeTaoY7SaXv"
      },
      "source": [
        "Finally, do the same thing (10 simulations, alpha criterion of 0.01) but for 5 different sample sizes: 50, 75, 100, 125, 150. You can do this using `map` (as in the tutorial), or a simple `for` loop, or by calculating each individually. Up to you! This should take around 3 minutes to run."
      ]
    },
    {
      "cell_type": "code",
      "execution_count": null,
      "metadata": {
        "id": "mp-a19XsS8Md",
        "vscode": {
          "languageId": "r"
        },
        "outputId": "621fde4c-2a9d-4415-84b1-b30340f3db7d"
      },
      "outputs": [
        {
          "name": "stderr",
          "output_type": "stream",
          "text": [
            "Running nonparametric bootstrap\n",
            "\n",
            "\n",
            "Running nonparametric bootstrap\n",
            "\n",
            "\n",
            "Running nonparametric bootstrap\n",
            "\n",
            "\n",
            "Running nonparametric bootstrap\n",
            "\n",
            "\n",
            "Running nonparametric bootstrap\n",
            "\n",
            "\n",
            "Running nonparametric bootstrap\n",
            "\n",
            "\n",
            "Running nonparametric bootstrap\n",
            "\n",
            "\n",
            "Running nonparametric bootstrap\n",
            "\n",
            "\n",
            "Running nonparametric bootstrap\n",
            "\n",
            "\n",
            "Running nonparametric bootstrap\n",
            "\n",
            "\n",
            "Running nonparametric bootstrap\n",
            "\n",
            "\n",
            "Running nonparametric bootstrap\n",
            "\n",
            "\n",
            "Running nonparametric bootstrap\n",
            "\n",
            "\n",
            "Running nonparametric bootstrap\n",
            "\n",
            "\n",
            "Running nonparametric bootstrap\n",
            "\n",
            "\n",
            "Running nonparametric bootstrap\n",
            "\n",
            "\n",
            "Running nonparametric bootstrap\n",
            "\n",
            "\n",
            "Running nonparametric bootstrap\n",
            "\n",
            "\n",
            "Running nonparametric bootstrap\n",
            "\n",
            "\n",
            "Running nonparametric bootstrap\n",
            "\n",
            "\n",
            "Running nonparametric bootstrap\n",
            "\n",
            "\n",
            "Running nonparametric bootstrap\n",
            "\n",
            "\n",
            "Running nonparametric bootstrap\n",
            "\n",
            "\n",
            "Running nonparametric bootstrap\n",
            "\n",
            "\n",
            "Running nonparametric bootstrap\n",
            "\n",
            "\n",
            "Running nonparametric bootstrap\n",
            "\n",
            "\n",
            "Running nonparametric bootstrap\n",
            "\n",
            "\n",
            "Running nonparametric bootstrap\n",
            "\n",
            "\n",
            "Running nonparametric bootstrap\n",
            "\n",
            "\n",
            "Running nonparametric bootstrap\n",
            "\n",
            "\n",
            "Running nonparametric bootstrap\n",
            "\n",
            "\n",
            "Running nonparametric bootstrap\n",
            "\n",
            "\n",
            "Running nonparametric bootstrap\n",
            "\n",
            "\n",
            "Running nonparametric bootstrap\n",
            "\n",
            "\n",
            "Running nonparametric bootstrap\n",
            "\n",
            "\n",
            "Running nonparametric bootstrap\n",
            "\n",
            "\n",
            "Running nonparametric bootstrap\n",
            "\n",
            "\n",
            "Running nonparametric bootstrap\n",
            "\n",
            "\n",
            "Running nonparametric bootstrap\n",
            "\n",
            "\n",
            "Running nonparametric bootstrap\n",
            "\n",
            "\n",
            "Running nonparametric bootstrap\n",
            "\n",
            "\n",
            "Running nonparametric bootstrap\n",
            "\n",
            "\n",
            "Running nonparametric bootstrap\n",
            "\n",
            "\n",
            "Running nonparametric bootstrap\n",
            "\n",
            "\n",
            "Running nonparametric bootstrap\n",
            "\n",
            "\n",
            "Running nonparametric bootstrap\n",
            "\n",
            "\n",
            "Running nonparametric bootstrap\n",
            "\n",
            "\n",
            "Running nonparametric bootstrap\n",
            "\n",
            "\n",
            "Running nonparametric bootstrap\n",
            "\n",
            "\n",
            "Running nonparametric bootstrap\n",
            "\n",
            "\n"
          ]
        }
      ],
      "source": [
        "sample_sizes = c(50, 75, 100, 125, 150)\n",
        "results = list()\n",
        "\n",
        "for (s in sample_sizes) {\n",
        "  res = repeat_analysis(\n",
        "    num_simulations = 10, alpha = 0.01, sample_size = s,\n",
        "    age_lo = 80, age_hi = 200, beta_xa = 0.5, beta_x0 = -5, sd_x = 50,\n",
        "    beta_ca = 0.8, beta_cx = 3, beta_c0 = 10, sd_c = 85\n",
        "  )\n",
        "  results[[paste0(\"Sample size = \", s)]] = res\n",
        "}\n"
      ]
    },
    {
      "cell_type": "markdown",
      "metadata": {
        "id": "akJwKCB7dkDw"
      },
      "source": [
        "Print your results."
      ]
    },
    {
      "cell_type": "code",
      "execution_count": null,
      "metadata": {
        "id": "gIkkWTG2aR4d",
        "scrolled": true,
        "vscode": {
          "languageId": "r"
        },
        "outputId": "e40c31bc-c2e8-4436-fd90-7dc4a1dc44b7"
      },
      "outputs": [
        {
          "name": "stdout",
          "output_type": "stream",
          "text": [
            "$`Sample size = 50`\n",
            "$`Sample size = 50`$ACME_cov\n",
            "[1] 0.3\n",
            "\n",
            "$`Sample size = 50`$ADE_cov\n",
            "[1] 0.4\n",
            "\n",
            "\n",
            "$`Sample size = 75`\n",
            "$`Sample size = 75`$ACME_cov\n",
            "[1] 0.8\n",
            "\n",
            "$`Sample size = 75`$ADE_cov\n",
            "[1] 0.6\n",
            "\n",
            "\n",
            "$`Sample size = 100`\n",
            "$`Sample size = 100`$ACME_cov\n",
            "[1] 0.9\n",
            "\n",
            "$`Sample size = 100`$ADE_cov\n",
            "[1] 0.8\n",
            "\n",
            "\n",
            "$`Sample size = 125`\n",
            "$`Sample size = 125`$ACME_cov\n",
            "[1] 0.8\n",
            "\n",
            "$`Sample size = 125`$ADE_cov\n",
            "[1] 0.8\n",
            "\n",
            "\n",
            "$`Sample size = 150`\n",
            "$`Sample size = 150`$ACME_cov\n",
            "[1] 1\n",
            "\n",
            "$`Sample size = 150`$ADE_cov\n",
            "[1] 0.8\n",
            "\n",
            "\n"
          ]
        }
      ],
      "source": [
        "print(results)\n"
      ]
    },
    {
      "cell_type": "markdown",
      "metadata": {
        "id": "q3Oo6npB5s8B"
      },
      "source": [
        "## 5. Reflection (2 pts)"
      ]
    },
    {
      "cell_type": "markdown",
      "metadata": {
        "id": "tpbGkul2dr-5"
      },
      "source": [
        "If this were a real power analysis, we'd want to run more simulations per sample size (to get a more precise estimate of power) and we may also want to test out some other values of the parameters we used to simulate our data. However, what would you conclude just based on the results above?\n",
        "\n",
        "> Just based on the results above, we would conclude that larger sample sizes increase the ability to detect ACME and ADE effects. Specifically, sample sizes around 125 to 150 showed much higher detection rates. As such, this suggests that we would need at least this many participants to detect both effects at an alpha = 0.01.\n",
        ">"
      ]
    },
    {
      "cell_type": "markdown",
      "metadata": {
        "id": "RcCo3QOifUi5"
      },
      "source": [
        "**Given** how we generated the data, why was the direct effect harder to detect than the mediated effect?\n",
        "> The direct effect was harder to detect because the mediated path because the variance of comprehension by age diredtlywas smaller in comparison to the variance of comprehension by age through comprehension. Thus, it became harder to detect"
      ]
    },
    {
      "cell_type": "markdown",
      "metadata": {
        "id": "C4MPECMmZXqe"
      },
      "source": [
        "**DUE:** 5pm EST, April 3, 2024"
      ]
    },
    {
      "cell_type": "markdown",
      "metadata": {
        "id": "r9GUofXN4BVy"
      },
      "source": [
        "**IMPORTANT** Did you collaborate with anyone on this assignment? If so, list their names here.\n",
        "> *Someone's Name*"
      ]
    }
  ],
  "metadata": {
    "colab": {
      "provenance": [],
      "toc_visible": true
    },
    "kernelspec": {
      "display_name": "R",
      "language": "R",
      "name": "ir"
    },
    "language_info": {
      "codemirror_mode": "r",
      "file_extension": ".r",
      "mimetype": "text/x-r-source",
      "name": "R",
      "pygments_lexer": "r",
      "version": "4.4.2"
    }
  },
  "nbformat": 4,
  "nbformat_minor": 0
}