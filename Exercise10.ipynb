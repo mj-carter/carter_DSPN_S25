{
  "cells": [
    {
      "cell_type": "markdown",
      "metadata": {
        "id": "view-in-github",
        "colab_type": "text"
      },
      "source": [
        "<a href=\"https://colab.research.google.com/github/mj-carter/carter_DSPN_S25/blob/main/Exercise10.ipynb\" target=\"_parent\"><img src=\"https://colab.research.google.com/assets/colab-badge.svg\" alt=\"Open In Colab\"/></a>"
      ]
    },
    {
      "cell_type": "markdown",
      "metadata": {
        "id": "-2W919d2ZXp7"
      },
      "source": [
        "# Exercise 10: Mixed effects"
      ]
    },
    {
      "cell_type": "markdown",
      "source": [
        "1. Loading data 1/1\n",
        "2. Model fitting 4/4\n",
        "3. Model assessment 4/4\n",
        "4. Reflection 1/1"
      ],
      "metadata": {
        "id": "jANMB7npUU3r"
      }
    },
    {
      "cell_type": "markdown",
      "metadata": {
        "id": "L4nOzVhyZXqK"
      },
      "source": [
        "This homework assignment is designed to give you practice fitting and interpreting mixed effects models.\n",
        "\n",
        "We will be using the **LexicalData.csv** and **Items.csv** files from the *Homework/lexDat* folder in the class GitHub repository again.\n",
        "\n",
        "This data is a subset of the [English Lexicon Project database](https://elexicon.wustl.edu/). It provides the reaction times (in milliseconds) of many subjects as they are presented with letter strings and asked to decide, as quickly and as accurately as possible, whether the letter string is a word or not. The **Items.csv** provides characteristics of the words used, namely frequency (how common is this word?) and length (how many letters?). Unlike in the previous homework, there isn't any missing data in the **LexicalData.csv** file.\n",
        "\n",
        "*Data courtesy of Balota, D.A., Yap, M.J., Cortese, M.J., Hutchison, K.A., Kessler, B., Loftis, B., Neely, J.H., Nelson, D.L., Simpson, G.B., & Treiman, R. (2007). The English Lexicon Project. Behavior Research Methods, 39, 445-459.*"
      ]
    },
    {
      "cell_type": "markdown",
      "metadata": {
        "id": "9DsyBTB6ZXqN"
      },
      "source": [
        "---\n",
        "## 1. Loading and formatting the data (1 point)\n",
        "\n",
        "Load in data from the **LexicalData.csv** and **Items.csv** files. As in the previous homeworks, remove the commas from the reaction times and convert them from strings to numbers. Use `left_join` to add word characteristics `Length` and `Log_Freq_Hal` from **Items** to **LexicalData**.\n",
        "\n",
        "*Note: the `Freq_HAL` variable in **Items.csv** has a similar formatting issue, using string values with commas. We're not going to worry about fixing this since we're only using `Log_Freq_HAL`, which is the natural log transformation of `Freq_HAL`, in this homework.*"
      ]
    },
    {
      "cell_type": "code",
      "execution_count": null,
      "metadata": {
        "id": "UnBVazYfZXqP",
        "vscode": {
          "languageId": "r"
        },
        "outputId": "301c942c-acba-4789-fd7a-f5d89d029ce0"
      },
      "outputs": [
        {
          "data": {
            "text/html": [
              "<table class=\"dataframe\">\n",
              "<caption>A data.frame: 6 × 11</caption>\n",
              "<thead>\n",
              "\t<tr><th></th><th scope=col>X</th><th scope=col>Sub_ID</th><th scope=col>Trial</th><th scope=col>Type</th><th scope=col>D_RT</th><th scope=col>D_Word</th><th scope=col>Outlier</th><th scope=col>D_Zscore</th><th scope=col>Correct</th><th scope=col>Length</th><th scope=col>Log_Freq_HAL</th></tr>\n",
              "\t<tr><th></th><th scope=col>&lt;int&gt;</th><th scope=col>&lt;int&gt;</th><th scope=col>&lt;int&gt;</th><th scope=col>&lt;int&gt;</th><th scope=col>&lt;dbl&gt;</th><th scope=col>&lt;chr&gt;</th><th scope=col>&lt;chr&gt;</th><th scope=col>&lt;dbl&gt;</th><th scope=col>&lt;int&gt;</th><th scope=col>&lt;int&gt;</th><th scope=col>&lt;dbl&gt;</th></tr>\n",
              "</thead>\n",
              "<tbody>\n",
              "\t<tr><th scope=row>1</th><td>1</td><td>157</td><td>1</td><td>1</td><td> 710</td><td>browse     </td><td>false</td><td>-0.437</td><td>1</td><td> 6</td><td>8.856</td></tr>\n",
              "\t<tr><th scope=row>2</th><td>2</td><td> 67</td><td>1</td><td>1</td><td>1094</td><td>refrigerant</td><td>false</td><td> 0.825</td><td>1</td><td>11</td><td>4.644</td></tr>\n",
              "\t<tr><th scope=row>3</th><td>3</td><td>120</td><td>1</td><td>1</td><td> 587</td><td>gaining    </td><td>false</td><td>-0.645</td><td>1</td><td> 7</td><td>8.304</td></tr>\n",
              "\t<tr><th scope=row>4</th><td>4</td><td> 21</td><td>1</td><td>1</td><td> 984</td><td>cheerless  </td><td>false</td><td> 0.025</td><td>1</td><td> 9</td><td>2.639</td></tr>\n",
              "\t<tr><th scope=row>5</th><td>5</td><td>236</td><td>1</td><td>1</td><td> 577</td><td>pattered   </td><td>false</td><td>-0.763</td><td>1</td><td> 8</td><td>1.386</td></tr>\n",
              "\t<tr><th scope=row>6</th><td>6</td><td>236</td><td>2</td><td>1</td><td> 715</td><td>conjures   </td><td>false</td><td>-0.364</td><td>1</td><td> 8</td><td>5.268</td></tr>\n",
              "</tbody>\n",
              "</table>\n"
            ],
            "text/latex": [
              "A data.frame: 6 × 11\n",
              "\\begin{tabular}{r|lllllllllll}\n",
              "  & X & Sub\\_ID & Trial & Type & D\\_RT & D\\_Word & Outlier & D\\_Zscore & Correct & Length & Log\\_Freq\\_HAL\\\\\n",
              "  & <int> & <int> & <int> & <int> & <dbl> & <chr> & <chr> & <dbl> & <int> & <int> & <dbl>\\\\\n",
              "\\hline\n",
              "\t1 & 1 & 157 & 1 & 1 &  710 & browse      & false & -0.437 & 1 &  6 & 8.856\\\\\n",
              "\t2 & 2 &  67 & 1 & 1 & 1094 & refrigerant & false &  0.825 & 1 & 11 & 4.644\\\\\n",
              "\t3 & 3 & 120 & 1 & 1 &  587 & gaining     & false & -0.645 & 1 &  7 & 8.304\\\\\n",
              "\t4 & 4 &  21 & 1 & 1 &  984 & cheerless   & false &  0.025 & 1 &  9 & 2.639\\\\\n",
              "\t5 & 5 & 236 & 1 & 1 &  577 & pattered    & false & -0.763 & 1 &  8 & 1.386\\\\\n",
              "\t6 & 6 & 236 & 2 & 1 &  715 & conjures    & false & -0.364 & 1 &  8 & 5.268\\\\\n",
              "\\end{tabular}\n"
            ],
            "text/markdown": [
              "\n",
              "A data.frame: 6 × 11\n",
              "\n",
              "| <!--/--> | X &lt;int&gt; | Sub_ID &lt;int&gt; | Trial &lt;int&gt; | Type &lt;int&gt; | D_RT &lt;dbl&gt; | D_Word &lt;chr&gt; | Outlier &lt;chr&gt; | D_Zscore &lt;dbl&gt; | Correct &lt;int&gt; | Length &lt;int&gt; | Log_Freq_HAL &lt;dbl&gt; |\n",
              "|---|---|---|---|---|---|---|---|---|---|---|---|\n",
              "| 1 | 1 | 157 | 1 | 1 |  710 | browse      | false | -0.437 | 1 |  6 | 8.856 |\n",
              "| 2 | 2 |  67 | 1 | 1 | 1094 | refrigerant | false |  0.825 | 1 | 11 | 4.644 |\n",
              "| 3 | 3 | 120 | 1 | 1 |  587 | gaining     | false | -0.645 | 1 |  7 | 8.304 |\n",
              "| 4 | 4 |  21 | 1 | 1 |  984 | cheerless   | false |  0.025 | 1 |  9 | 2.639 |\n",
              "| 5 | 5 | 236 | 1 | 1 |  577 | pattered    | false | -0.763 | 1 |  8 | 1.386 |\n",
              "| 6 | 6 | 236 | 2 | 1 |  715 | conjures    | false | -0.364 | 1 |  8 | 5.268 |\n",
              "\n"
            ],
            "text/plain": [
              "  X Sub_ID Trial Type D_RT D_Word      Outlier D_Zscore Correct Length\n",
              "1 1 157    1     1     710 browse      false   -0.437   1        6    \n",
              "2 2  67    1     1    1094 refrigerant false    0.825   1       11    \n",
              "3 3 120    1     1     587 gaining     false   -0.645   1        7    \n",
              "4 4  21    1     1     984 cheerless   false    0.025   1        9    \n",
              "5 5 236    1     1     577 pattered    false   -0.763   1        8    \n",
              "6 6 236    2     1     715 conjures    false   -0.364   1        8    \n",
              "  Log_Freq_HAL\n",
              "1 8.856       \n",
              "2 4.644       \n",
              "3 8.304       \n",
              "4 2.639       \n",
              "5 1.386       \n",
              "6 5.268       "
            ]
          },
          "metadata": {},
          "output_type": "display_data"
        }
      ],
      "source": [
        "library(tidyverse)\n",
        "lex_data = read.csv(\"LexicalData_withIncorrect.csv\")\n",
        "items = read.csv(\"Items.csv\")\n",
        "\n",
        "lex_data$D_RT = as.numeric(gsub(\",\", \"\", lex_data$D_RT))\n",
        "lex_data = subset(lex_data, D_RT != \"NA\" & D_RT >= 0)\n",
        "\n",
        "lex_data = lex_data %>%\n",
        "  left_join(select(items, Word, Length, Log_Freq_HAL), by = c(\"D_Word\" = \"Word\")) %>%\n",
        "  drop_na()\n",
        "\n",
        "head(lex_data)\n"
      ]
    },
    {
      "cell_type": "markdown",
      "metadata": {
        "id": "bXy81Viishk1"
      },
      "source": [
        "\n",
        "## 2. Model fitting (4 points)"
      ]
    },
    {
      "cell_type": "markdown",
      "metadata": {
        "id": "H7_gEgkbzFtU"
      },
      "source": [
        "First, fit a linear model with `Log_Freq_HAL` and `Length` as predictors, and `D_RT` as the output. Include an interaction term. Use `summary()` to look at the model output."
      ]
    },
    {
      "cell_type": "code",
      "execution_count": null,
      "metadata": {
        "id": "OIOIg-GRz4rN",
        "vscode": {
          "languageId": "r"
        },
        "outputId": "ae6f16dc-e0c5-44b0-e7d2-58e4f2a0ec8e"
      },
      "outputs": [
        {
          "data": {
            "text/plain": [
              "\n",
              "Call:\n",
              "lm(formula = D_RT ~ Log_Freq_HAL * Length, data = lex_data)\n",
              "\n",
              "Residuals:\n",
              "    Min      1Q  Median      3Q     Max \n",
              "-1128.3  -217.6   -94.0    94.2  3317.2 \n",
              "\n",
              "Coefficients:\n",
              "                    Estimate Std. Error t value Pr(>|t|)    \n",
              "(Intercept)         650.3764    14.3247  45.403  < 2e-16 ***\n",
              "Log_Freq_HAL        -10.0802     1.9643  -5.132 2.88e-07 ***\n",
              "Length               45.5806     1.5992  28.503  < 2e-16 ***\n",
              "Log_Freq_HAL:Length  -2.6346     0.2345 -11.236  < 2e-16 ***\n",
              "---\n",
              "Signif. codes:  0 '***' 0.001 '**' 0.01 '*' 0.05 '.' 0.1 ' ' 1\n",
              "\n",
              "Residual standard error: 384.2 on 70585 degrees of freedom\n",
              "Multiple R-squared:  0.08867,\tAdjusted R-squared:  0.08863 \n",
              "F-statistic:  2289 on 3 and 70585 DF,  p-value: < 2.2e-16\n"
            ]
          },
          "metadata": {},
          "output_type": "display_data"
        }
      ],
      "source": [
        "mod1 = lm(D_RT ~ Log_Freq_HAL * Length, data = lex_data)\n",
        "summary(mod1)\n"
      ]
    },
    {
      "cell_type": "markdown",
      "metadata": {
        "id": "Pbeg_JrS3mwU"
      },
      "source": [
        "Now, install `lme4` using `install.packages()` and then load the library."
      ]
    },
    {
      "cell_type": "code",
      "execution_count": null,
      "metadata": {
        "id": "hFSnvvb_re2O",
        "vscode": {
          "languageId": "r"
        },
        "outputId": "1cf4ce29-35ea-48c1-a7e0-ba0dd1036076"
      },
      "outputs": [
        {
          "name": "stderr",
          "output_type": "stream",
          "text": [
            "Loading required package: Matrix\n",
            "\n",
            "\n",
            "Attaching package: 'Matrix'\n",
            "\n",
            "\n",
            "The following objects are masked from 'package:tidyr':\n",
            "\n",
            "    expand, pack, unpack\n",
            "\n",
            "\n"
          ]
        }
      ],
      "source": [
        "library(lme4)\n"
      ]
    },
    {
      "cell_type": "markdown",
      "metadata": {
        "id": "xZJns7xr41nW"
      },
      "source": [
        "Now fit a mixed effects model that includes the same predictors as the linear model above, as well as random intercepts for `Sub_ID` (i.e., cases where subject ID shifts the RT mean). Use `summary()` to look at the model output."
      ]
    },
    {
      "cell_type": "code",
      "execution_count": null,
      "metadata": {
        "id": "8kjwT0je57N7",
        "vscode": {
          "languageId": "r"
        },
        "outputId": "cf35d29c-5d85-427c-db28-38653d593876"
      },
      "outputs": [
        {
          "data": {
            "text/plain": [
              "Linear mixed model fit by REML ['lmerMod']\n",
              "Formula: D_RT ~ Log_Freq_HAL * Length + (1 | Sub_ID)\n",
              "   Data: lex_data\n",
              "\n",
              "REML criterion at convergence: 1012299\n",
              "\n",
              "Scaled residuals: \n",
              "    Min      1Q  Median      3Q     Max \n",
              "-4.2579 -0.5401 -0.1555  0.2986 11.0922 \n",
              "\n",
              "Random effects:\n",
              " Groups   Name        Variance Std.Dev.\n",
              " Sub_ID   (Intercept) 51061    226.0   \n",
              " Residual             97009    311.5   \n",
              "Number of obs: 70589, groups:  Sub_ID, 299\n",
              "\n",
              "Fixed effects:\n",
              "                    Estimate Std. Error t value\n",
              "(Intercept)         652.6262    17.4987  37.296\n",
              "Log_Freq_HAL        -11.0297     1.5960  -6.911\n",
              "Length               45.7392     1.2990  35.211\n",
              "Log_Freq_HAL:Length  -2.5742     0.1905 -13.514\n",
              "\n",
              "Correlation of Fixed Effects:\n",
              "            (Intr) Lg_F_HAL Length\n",
              "Log_Frq_HAL -0.621                \n",
              "Length      -0.635  0.913         \n",
              "Lg_Fr_HAL:L  0.561 -0.943   -0.919"
            ]
          },
          "metadata": {},
          "output_type": "display_data"
        }
      ],
      "source": [
        "mod2 = lmer(D_RT ~ Log_Freq_HAL * Length + (1|Sub_ID), data = lex_data)\n",
        "summary(mod2)\n"
      ]
    },
    {
      "cell_type": "markdown",
      "metadata": {
        "id": "Vfb_ovk7JFGt"
      },
      "source": [
        "---\n",
        "## 3. Model assessment (4 points)"
      ]
    },
    {
      "cell_type": "markdown",
      "metadata": {
        "id": "r7B1Ux6RHGjy"
      },
      "source": [
        "Compare the three t-values for the fixed effects and the mixed effects models. How do they differ, and why?"
      ]
    },
    {
      "cell_type": "markdown",
      "metadata": {
        "id": "kCi5gYOeHo6m"
      },
      "source": [
        "> For Log_Freq_HAL, Length, and the interaction effect respectively, t = (-5.1, 28.5, -11.3)(Linear Model) and t = (-6.9, 35.2, -13.5)(Mixed Effects Model). The t values are greater in magnitude for the mixed effects model. This is because a mixed effects model controls for multiple instances of partcipant trials and within particpant variation that would otherwise be counted as separate individuals (in a linear model, thereby \"cancelling out\" some of the true effects in the model)."
      ]
    },
    {
      "cell_type": "markdown",
      "metadata": {
        "id": "hukKG1AbGqXM"
      },
      "source": [
        "Use the Aikeke Information Criterion (AIC) to compare these two models. Which one is better?"
      ]
    },
    {
      "cell_type": "code",
      "execution_count": null,
      "metadata": {
        "id": "KMDg8qb5FhJz",
        "vscode": {
          "languageId": "r"
        },
        "outputId": "eff751a5-db30-43c6-cd50-a1f335c3c876"
      },
      "outputs": [
        {
          "data": {
            "text/html": [
              "1040519.2035956"
            ],
            "text/latex": [
              "1040519.2035956"
            ],
            "text/markdown": [
              "1040519.2035956"
            ],
            "text/plain": [
              "[1] 1040519"
            ]
          },
          "metadata": {},
          "output_type": "display_data"
        },
        {
          "data": {
            "text/html": [
              "1012311.03085374"
            ],
            "text/latex": [
              "1012311.03085374"
            ],
            "text/markdown": [
              "1012311.03085374"
            ],
            "text/plain": [
              "[1] 1012311"
            ]
          },
          "metadata": {},
          "output_type": "display_data"
        }
      ],
      "source": [
        "AIC(mod1)\n",
        "AIC(mod2)\n",
        "\n"
      ]
    },
    {
      "cell_type": "markdown",
      "metadata": {
        "id": "T4oTfsYmIvYt"
      },
      "source": [
        "> The mixed effects model is better - it has the lower AIC.\n",
        ">"
      ]
    },
    {
      "cell_type": "markdown",
      "metadata": {
        "id": "ARF2PF2yLXkZ"
      },
      "source": [
        "---\n",
        "##  4. Reflection (1 point)\n",
        "\n",
        "What other random effects could be controlled for in this data set?\n",
        "\n",
        "> Within word variability - different words may cause idiosyncratic differences in reaction time/accuracy.\n",
        ">"
      ]
    },
    {
      "cell_type": "markdown",
      "metadata": {
        "id": "C4MPECMmZXqe"
      },
      "source": [
        "**DUE:** 5pm EST, March 17, 2025"
      ]
    },
    {
      "cell_type": "markdown",
      "metadata": {
        "id": "r9GUofXN4BVy"
      },
      "source": [
        "**IMPORTANT** Did you collaborate with anyone on this assignment? If so, list their names here.\n",
        "> *Someone's Name*"
      ]
    }
  ],
  "metadata": {
    "colab": {
      "provenance": [],
      "toc_visible": true,
      "include_colab_link": true
    },
    "kernelspec": {
      "display_name": "R",
      "language": "R",
      "name": "ir"
    },
    "language_info": {
      "codemirror_mode": "r",
      "file_extension": ".r",
      "mimetype": "text/x-r-source",
      "name": "R",
      "pygments_lexer": "r",
      "version": "4.4.2"
    }
  },
  "nbformat": 4,
  "nbformat_minor": 0
}