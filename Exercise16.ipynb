{
 "cells": [
  {
   "cell_type": "markdown",
   "id": "70e2f213",
   "metadata": {},
   "source": [
    "<a href=\"https://colab.research.google.com/github/CoAxLab/Data-Explorations/blob/main/book/exercises/selecting-the-best-model.ipynb\" target=\"_parent\"><img src=\"https://colab.research.google.com/assets/colab-badge.svg\" alt=\"Open In Colab\"/></a>"
   ]
  },
  {
   "cell_type": "markdown",
   "id": "eebc055f",
   "metadata": {
    "id": "614c6a4a"
   },
   "source": [
    "# Exercise 16: Model selection"
   ]
  },
  {
   "cell_type": "markdown",
   "id": "24fa3631",
   "metadata": {
    "id": "7e861f62"
   },
   "source": [
    "This homework is designed to give you practice implementing model selection techniques, including best subset selection and forward/backward stepwise selection.\n",
    "\n",
    "You won't need to load in any data for this homework, we will be simulating our own."
   ]
  },
  {
   "cell_type": "markdown",
   "id": "fcc138cb",
   "metadata": {
    "id": "b065256e"
   },
   "source": [
    "---\n",
    "## 1. Best subset selection (4 points)"
   ]
  },
  {
   "cell_type": "markdown",
   "id": "da52518c",
   "metadata": {
    "id": "bfe412c5"
   },
   "source": [
    "In this question, we will first generate simulated data, and then use it to perform best subset selection.\n",
    "\n",
    "a) Use `rnorm()` to generate a dataset including a predictor $X$ of length $n = 100$ and a noise vector $\\epsilon$ of length $n = 100$. Generate data for a response variable $Y$ of length $n = 100$ according to the model\n",
    "\n",
    "$Y = \\beta_0 + \\beta_1X + \\beta_2X^2 + \\beta_3X^3 + \\epsilon$\n",
    "\n",
    "where $\\beta_0$, $\\beta_1$, $\\beta_2$, and $\\beta_3$ are constants of your choice.\n"
   ]
  },
  {
   "cell_type": "code",
   "execution_count": 1,
   "id": "9aa27faf",
   "metadata": {
    "id": "82a01047",
    "vscode": {
     "languageId": "r"
    }
   },
   "outputs": [],
   "source": [
    "set.seed(15)\n",
    "n = 100\n",
    "X = rnorm(n)\n",
    "epsilon = rnorm(n, mean = 0, sd = 1)\n",
    "\n",
    "beta_0 = 2\n",
    "beta_1 = 1.5\n",
    "beta_2 = -3\n",
    "beta_3 = 0.5\n",
    "\n",
    "Y = beta_0 + beta_1*X + beta_2*X^2 + beta_3*X^3 + epsilon\n",
    "\n",
    "data = data.frame(Y = Y, X = X)\n",
    "for (i in 2:10) {\n",
    "  data[[paste0(\"X\", i)]] = X^i\n",
    "}\n"
   ]
  },
  {
   "cell_type": "markdown",
   "id": "e0ba66b4",
   "metadata": {
    "id": "19065c60"
   },
   "source": [
    "b) Use `regsubsets()` to perform best subset selection to determine the best model that contains the predictor variables $X$, $X^2$, . . . , $X^{10}$. Print the model summary."
   ]
  },
  {
   "cell_type": "code",
   "execution_count": 5,
   "id": "4f5c746e",
   "metadata": {
    "id": "2d0ea51f",
    "vscode": {
     "languageId": "r"
    }
   },
   "outputs": [
    {
     "data": {
      "text/plain": [
       "Subset selection object\n",
       "Call: regsubsets.formula(Y ~ ., data = data, nvmax = 10)\n",
       "10 Variables  (and intercept)\n",
       "    Forced in Forced out\n",
       "X       FALSE      FALSE\n",
       "X2      FALSE      FALSE\n",
       "X3      FALSE      FALSE\n",
       "X4      FALSE      FALSE\n",
       "X5      FALSE      FALSE\n",
       "X6      FALSE      FALSE\n",
       "X7      FALSE      FALSE\n",
       "X8      FALSE      FALSE\n",
       "X9      FALSE      FALSE\n",
       "X10     FALSE      FALSE\n",
       "1 subsets of each size up to 10\n",
       "Selection Algorithm: exhaustive\n",
       "          X   X2  X3  X4  X5  X6  X7  X8  X9  X10\n",
       "1  ( 1 )  \" \" \"*\" \" \" \" \" \" \" \" \" \" \" \" \" \" \" \" \"\n",
       "2  ( 1 )  \"*\" \"*\" \" \" \" \" \" \" \" \" \" \" \" \" \" \" \" \"\n",
       "3  ( 1 )  \"*\" \"*\" \"*\" \" \" \" \" \" \" \" \" \" \" \" \" \" \"\n",
       "4  ( 1 )  \"*\" \"*\" \"*\" \" \" \" \" \"*\" \" \" \" \" \" \" \" \"\n",
       "5  ( 1 )  \"*\" \"*\" \"*\" \" \" \"*\" \"*\" \" \" \" \" \" \" \" \"\n",
       "6  ( 1 )  \"*\" \"*\" \"*\" \" \" \" \" \"*\" \" \" \"*\" \" \" \"*\"\n",
       "7  ( 1 )  \"*\" \"*\" \"*\" \"*\" \" \" \"*\" \" \" \"*\" \" \" \"*\"\n",
       "8  ( 1 )  \"*\" \"*\" \"*\" \"*\" \"*\" \"*\" \" \" \"*\" \" \" \"*\"\n",
       "9  ( 1 )  \"*\" \"*\" \" \" \"*\" \"*\" \"*\" \"*\" \"*\" \"*\" \"*\"\n",
       "10  ( 1 ) \"*\" \"*\" \"*\" \"*\" \"*\" \"*\" \"*\" \"*\" \"*\" \"*\""
      ]
     },
     "metadata": {},
     "output_type": "display_data"
    }
   ],
   "source": [
    "library(leaps)\n",
    "\n",
    "best_subset = regsubsets(Y ~ ., data = data, nvmax = 10)\n",
    "best_summary = summary(best_subset)\n",
    "best_summary\n",
    "\n"
   ]
  },
  {
   "cell_type": "code",
   "execution_count": null,
   "id": "f04ad23f",
   "metadata": {
    "id": "e584b852",
    "vscode": {
     "languageId": "r"
    }
   },
   "outputs": [],
   "source": [
    "# Note: if your model summary doesn't show up when viewing your notebook on github, copy and paste the output below.\n",
    "# Otherwise you can either delete this cell or leave it blank.\n",
    "\n",
    "```\n",
    "# paste here\n",
    "\n",
    "```"
   ]
  },
  {
   "cell_type": "markdown",
   "id": "082f2f06",
   "metadata": {
    "id": "3528231b"
   },
   "source": [
    "c) Plot the Mallows' Cp, Bayesian Information Criteria (BIC) and the adjusted coefficient of determination, $R^2$, for each model tested. Which is the best model? Report the coefficients of the best model. "
   ]
  },
  {
   "cell_type": "code",
   "execution_count": 14,
   "id": "405f934d",
   "metadata": {
    "id": "6a817913",
    "vscode": {
     "languageId": "r"
    }
   },
   "outputs": [
    {
     "data": {
      "text/html": [
       "<style>\n",
       ".dl-inline {width: auto; margin:0; padding: 0}\n",
       ".dl-inline>dt, .dl-inline>dd {float: none; width: auto; display: inline-block}\n",
       ".dl-inline>dt::after {content: \":\\0020\"; padding-right: .5ex}\n",
       ".dl-inline>dt:not(:first-of-type) {padding-left: .5ex}\n",
       "</style><dl class=dl-inline><dt>(Intercept)</dt><dd>1.56961161203453</dd><dt>X</dt><dd>1.53196689125548</dd><dt>X2</dt><dd>-2.49913368769195</dd><dt>X3</dt><dd>0.490805491983524</dd><dt>X6</dt><dd>-0.0173007238063714</dd></dl>\n"
      ],
      "text/latex": [
       "\\begin{description*}\n",
       "\\item[(Intercept)] 1.56961161203453\n",
       "\\item[X] 1.53196689125548\n",
       "\\item[X2] -2.49913368769195\n",
       "\\item[X3] 0.490805491983524\n",
       "\\item[X6] -0.0173007238063714\n",
       "\\end{description*}\n"
      ],
      "text/markdown": [
       "(Intercept)\n",
       ":   1.56961161203453X\n",
       ":   1.53196689125548X2\n",
       ":   -2.49913368769195X3\n",
       ":   0.490805491983524X6\n",
       ":   -0.0173007238063714\n",
       "\n"
      ],
      "text/plain": [
       "(Intercept)           X          X2          X3          X6 \n",
       " 1.56961161  1.53196689 -2.49913369  0.49080549 -0.01730072 "
      ]
     },
     "metadata": {},
     "output_type": "display_data"
    },
    {
     "data": {
      "image/png": "[encoded data removed]",
      "text/plain": [
       "Plot with title \"R2\""
      ]
     },
     "metadata": {
      "image/png": {
       "height": 420,
       "width": 420
      }
     },
     "output_type": "display_data"
    }
   ],
   "source": [
    "par(mfrow = c(1, 3))\n",
    "\n",
    "#cp\n",
    "plot(best_summary$cp, xlab = \"num\", ylab = \"Cp\", type = \"b\", main = \"Cp\")\n",
    "best_cp = which.min(best_summary$cp)\n",
    "points(best_cp, best_summary$cp[best_cp], col = \"red\", pch = 19)\n",
    "\n",
    "#BIC\n",
    "plot(best_summary$bic, xlab = \"num\", ylab = \"BIC\", type = \"b\", main = \"BIC\")\n",
    "best_bic = which.min(best_summary$bic)\n",
    "points(best_bic, best_summary$bic[best_bic], col = \"red\", pch = 19)\n",
    "\n",
    "#adj R2\n",
    "plot(best_summary$adjr2, xlab = \"num\", ylab = \"R2\", type = \"b\", main = \"R2\")\n",
    "best_adjr2 = which.max(best_summary$adjr2)\n",
    "points(best_adjr2, best_summary$adjr2[best_adjr2], col = \"red\", pch = 19)\n",
    "\n",
    "coef(best_subset, best_bic) \n"
   ]
  },
  {
   "cell_type": "markdown",
   "id": "6db19b31",
   "metadata": {
    "id": "e7f16d76"
   },
   "source": [
    "> The best model appears to have 4 predictors The coefficients are: intercept = 1.60, X = 1.53, X2 = -2.50, X3 = 0.50, X6 =-0.017\n",
    "> "
   ]
  },
  {
   "cell_type": "markdown",
   "id": "2a3649a8",
   "metadata": {
    "id": "19d388b0"
   },
   "source": [
    "---\n",
    "## 2. Forward and backwards stepwise selection (3 points)"
   ]
  },
  {
   "cell_type": "markdown",
   "id": "ab4981cf",
   "metadata": {
    "id": "620dc14c"
   },
   "source": [
    "Using the same simulated data from question 1, use forward stepwise selection, and backwards stepwise selections to determine the best model. Again, for both model selection methods, plot the Mallows' Cp, Bayesian Information Criteria (BIC) and the adjusted coefficient of determination, $R^2$, for each model tested. Report the coefficients of the best model. "
   ]
  },
  {
   "cell_type": "markdown",
   "id": "14a3f43f",
   "metadata": {
    "id": "d734954e"
   },
   "source": [
    "a) Forward stepwise selection:"
   ]
  },
  {
   "cell_type": "code",
   "execution_count": 17,
   "id": "17a0a7a0",
   "metadata": {
    "id": "8018ba62",
    "vscode": {
     "languageId": "r"
    }
   },
   "outputs": [
    {
     "data": {
      "text/html": [
       "<style>\n",
       ".dl-inline {width: auto; margin:0; padding: 0}\n",
       ".dl-inline>dt, .dl-inline>dd {float: none; width: auto; display: inline-block}\n",
       ".dl-inline>dt::after {content: \":\\0020\"; padding-right: .5ex}\n",
       ".dl-inline>dt:not(:first-of-type) {padding-left: .5ex}\n",
       "</style><dl class=dl-inline><dt>(Intercept)</dt><dd>1.56961161203453</dd><dt>X</dt><dd>1.53196689125548</dd><dt>X2</dt><dd>-2.49913368769195</dd><dt>X3</dt><dd>0.490805491983524</dd><dt>X6</dt><dd>-0.0173007238063713</dd></dl>\n"
      ],
      "text/latex": [
       "\\begin{description*}\n",
       "\\item[(Intercept)] 1.56961161203453\n",
       "\\item[X] 1.53196689125548\n",
       "\\item[X2] -2.49913368769195\n",
       "\\item[X3] 0.490805491983524\n",
       "\\item[X6] -0.0173007238063713\n",
       "\\end{description*}\n"
      ],
      "text/markdown": [
       "(Intercept)\n",
       ":   1.56961161203453X\n",
       ":   1.53196689125548X2\n",
       ":   -2.49913368769195X3\n",
       ":   0.490805491983524X6\n",
       ":   -0.0173007238063713\n",
       "\n"
      ],
      "text/plain": [
       "(Intercept)           X          X2          X3          X6 \n",
       " 1.56961161  1.53196689 -2.49913369  0.49080549 -0.01730072 "
      ]
     },
     "metadata": {},
     "output_type": "display_data"
    },
    {
     "data": {
      "image/png": "[encoded data removed]",
      "text/plain": [
       "Plot with title \"fwd R2\""
      ]
     },
     "metadata": {
      "image/png": {
       "height": 420,
       "width": 420
      }
     },
     "output_type": "display_data"
    }
   ],
   "source": [
    "forward_model = regsubsets(Y ~ ., data = data, nvmax = 10, method = \"forward\")\n",
    "forward_summary = summary(forward_model)\n",
    "\n",
    "par(mfrow = c(1, 3))\n",
    "plot(forward_summary$cp, type = \"b\", main = \"fwd Cp\", xlab = \"num\", ylab = \"Cp\")\n",
    "plot(forward_summary$bic, type = \"b\", main = \"fwd BIC\", xlab = \"num\", ylab = \"BIC\")\n",
    "plot(forward_summary$adjr2, type = \"b\", main = \"fwd R2\", xlab = \"num\", ylab = \"R2\")\n",
    "\n",
    "coef(forward_model, which.min(forward_summary$bic))"
   ]
  },
  {
   "cell_type": "code",
   "execution_count": null,
   "id": "90e0cd39",
   "metadata": {
    "id": "861cedcd",
    "vscode": {
     "languageId": "r"
    }
   },
   "outputs": [],
   "source": [
    "# Note: if your model summary doesn't show up when viewing your notebook on github, copy and paste the output below.\n",
    "# Otherwise you can either delete this cell or leave it blank.\n",
    "\n",
    "```\n",
    "# paste here\n",
    "\n",
    "```"
   ]
  },
  {
   "cell_type": "markdown",
   "id": "fe324294",
   "metadata": {
    "id": "955e381d"
   },
   "source": [
    "b) Backwards stepwise selection:"
   ]
  },
  {
   "cell_type": "code",
   "execution_count": 18,
   "id": "473444aa",
   "metadata": {
    "id": "c9a50756",
    "vscode": {
     "languageId": "r"
    }
   },
   "outputs": [
    {
     "data": {
      "text/html": [
       "<style>\n",
       ".dl-inline {width: auto; margin:0; padding: 0}\n",
       ".dl-inline>dt, .dl-inline>dd {float: none; width: auto; display: inline-block}\n",
       ".dl-inline>dt::after {content: \":\\0020\"; padding-right: .5ex}\n",
       ".dl-inline>dt:not(:first-of-type) {padding-left: .5ex}\n",
       "</style><dl class=dl-inline><dt>(Intercept)</dt><dd>1.59814290166332</dd><dt>X</dt><dd>1.78224282787921</dd><dt>X2</dt><dd>-2.54726428536518</dd><dt>X5</dt><dd>0.222564383659573</dd><dt>X6</dt><dd>-0.0160406318914171</dd><dt>X7</dt><dd>-0.0252887741448014</dd></dl>\n"
      ],
      "text/latex": [
       "\\begin{description*}\n",
       "\\item[(Intercept)] 1.59814290166332\n",
       "\\item[X] 1.78224282787921\n",
       "\\item[X2] -2.54726428536518\n",
       "\\item[X5] 0.222564383659573\n",
       "\\item[X6] -0.0160406318914171\n",
       "\\item[X7] -0.0252887741448014\n",
       "\\end{description*}\n"
      ],
      "text/markdown": [
       "(Intercept)\n",
       ":   1.59814290166332X\n",
       ":   1.78224282787921X2\n",
       ":   -2.54726428536518X5\n",
       ":   0.222564383659573X6\n",
       ":   -0.0160406318914171X7\n",
       ":   -0.0252887741448014\n",
       "\n"
      ],
      "text/plain": [
       "(Intercept)           X          X2          X5          X6          X7 \n",
       " 1.59814290  1.78224283 -2.54726429  0.22256438 -0.01604063 -0.02528877 "
      ]
     },
     "metadata": {},
     "output_type": "display_data"
    },
    {
     "data": {
      "image/png": "[encoded data removed]",
      "text/plain": [
       "Plot with title \"bwd R2\""
      ]
     },
     "metadata": {
      "image/png": {
       "height": 420,
       "width": 420
      }
     },
     "output_type": "display_data"
    }
   ],
   "source": [
    "backward_model = regsubsets(Y ~ ., data = data, nvmax = 10, method = \"backward\")\n",
    "backward_summary = summary(backward_model)\n",
    "\n",
    "# Plots\n",
    "par(mfrow = c(1, 3))\n",
    "plot(backward_summary$cp, type = \"b\", main = \"bwd Cp\", xlab = \"num\", ylab = \"Cp\")\n",
    "plot(backward_summary$bic, type = \"b\", main = \"bwd BIC\", xlab = \"num\", ylab = \"BIC\")\n",
    "plot(backward_summary$adjr2, type = \"b\", main = \"bwd R2\", xlab = \"num\", ylab = \"R2\")\n",
    "\n",
    "coef(backward_model, which.min(backward_summary$bic))"
   ]
  },
  {
   "cell_type": "code",
   "execution_count": null,
   "id": "b0ff7509",
   "metadata": {
    "id": "30746619",
    "vscode": {
     "languageId": "r"
    }
   },
   "outputs": [],
   "source": [
    "# Note: if your model summary doesn't show up when viewing your notebook on github, copy and paste the output below.\n",
    "# Otherwise you can either delete this cell or leave it blank.\n",
    "\n",
    "```\n",
    "# paste here\n",
    "\n",
    "```"
   ]
  },
  {
   "cell_type": "markdown",
   "id": "2a9f1ff8",
   "metadata": {
    "id": "25dbc027"
   },
   "source": [
    "c) Compare your results from parts a and b with those of question 1."
   ]
  },
  {
   "cell_type": "markdown",
   "id": "a2417795",
   "metadata": {
    "id": "34ac850e"
   },
   "source": [
    "> Forward stepwise selection seems to have performed best in this instance, as it identifyied all true predictors (X1, X2, X3) with one extra (X6). Backward selection missed X3 and included additional noise predictors (X5 and x7)\n",
    "> "
   ]
  },
  {
   "cell_type": "markdown",
   "id": "2f50c631",
   "metadata": {
    "id": "630f4909"
   },
   "source": [
    "---\n",
    "## 3. Training and test error (3 points)"
   ]
  },
  {
   "cell_type": "markdown",
   "id": "6ee411db",
   "metadata": {
    "id": "cdea3f49"
   },
   "source": [
    "This question will explore the relationship between training and test error and the number of features included in a model. We will again use a simulated dataset. \n",
    "\n",
    "a) Simulate dataset with features $p = 20$ and observations $n = 1,000$. Generate data for a response variable $Y$ according to the model\n",
    "\n",
    "$Y = X\\beta + \\epsilon$ \n",
    "\n",
    "where $\\beta$ is random with some elements that are exactly zero.\n",
    "\n",
    "Split your simulated dataset into a training set containing $n=100$ observations and a test set containing $n=900$ observations."
   ]
  },
  {
   "cell_type": "code",
   "execution_count": 19,
   "id": "81878642",
   "metadata": {
    "id": "3f113879",
    "vscode": {
     "languageId": "r"
    }
   },
   "outputs": [],
   "source": [
    "set.seed(123)\n",
    "n = 1000\n",
    "p = 20\n",
    "\n",
    "X = matrix(rnorm(n * p), nrow = n, ncol = p)\n",
    "colnames(X) = paste0(\"X\", 1:p)\n",
    "\n",
    "beta = c(runif(5, -2, 2), rep(0, p - 5))\n",
    "\n",
    "epsilon = rnorm(n)\n",
    "Y = X %*% beta + epsilon\n",
    "\n",
    "df = data.frame(Y = Y, X)\n",
    "\n",
    "train_indices = sample(1:n, 100)\n",
    "test_indices = setdiff(1:n, train_indices)\n",
    "\n",
    "train = df[train_indices, ]\n",
    "test = df[test_indices, ]\n",
    "\n"
   ]
  },
  {
   "cell_type": "markdown",
   "id": "ee8c04c6",
   "metadata": {
    "id": "5886639c"
   },
   "source": [
    "b) Perform best subset selection on the training set, and plot the associated training and test set MSE for the best model of each size."
   ]
  },
  {
   "cell_type": "code",
   "execution_count": 32,
   "id": "3e42d39d",
   "metadata": {
    "id": "a1dbdf04",
    "vscode": {
     "languageId": "r"
    }
   },
   "outputs": [
    {
     "data": {
      "image/png": "[encoded data removed]",
      "text/plain": [
       "plot without title"
      ]
     },
     "metadata": {
      "image/png": {
       "height": 420,
       "width": 420
      }
     },
     "output_type": "display_data"
    }
   ],
   "source": [
    "library(ggplot2)\n",
    "library(tibble)\n",
    "library(tidyr)\n",
    "\n",
    "mse_df = tibble(\n",
    "  num = 1:p,\n",
    "  train = train_errors,\n",
    "  test = test_errors\n",
    ")\n",
    "\n",
    "mse_long = pivot_longer(mse_df, cols = c(\"train\", \"test\"),\n",
    "               names_to = \"set\",\n",
    "               values_to = \"MSE\")\n",
    "\n",
    "# Plot using ggplot2\n",
    "ggplot(mse_long, aes(x = num, y = MSE, color = set)) +\n",
    "  geom_line() +\n",
    "  geom_point()"
   ]
  },
  {
   "cell_type": "markdown",
   "id": "178c0b6b",
   "metadata": {
    "id": "24f9d2f1"
   },
   "source": [
    "c) Identify the best model according the test MSE. How does this model compare to the actual model used to simulate the dataset?\n",
    "\n",
    "*Note: If the model identified contains only an intercept or all of the features, then generate a new dataset (i.e. repeat part a with a different random seed) until the test set MSE is minimized for an intermediate model size.*"
   ]
  },
  {
   "cell_type": "code",
   "execution_count": 33,
   "id": "70f32642",
   "metadata": {
    "id": "87db7d52",
    "vscode": {
     "languageId": "r"
    }
   },
   "outputs": [
    {
     "data": {
      "text/html": [
       "5"
      ],
      "text/latex": [
       "5"
      ],
      "text/markdown": [
       "5"
      ],
      "text/plain": [
       "[1] 5"
      ]
     },
     "metadata": {},
     "output_type": "display_data"
    }
   ],
   "source": [
    "best_size = which.min(test_errors)\n",
    "best_size\n"
   ]
  },
  {
   "cell_type": "markdown",
   "id": "d612c951",
   "metadata": {
    "id": "894b4503"
   },
   "source": [
    "> The model with the lowest test MSE had 5 predictors. Even though the true model only used 3 (X1, X2, and X3), this was still the model with the lowest error - the additional variables may be due to random noise."
   ]
  },
  {
   "cell_type": "markdown",
   "id": "31e6d71b",
   "metadata": {
    "id": "35b974f0"
   },
   "source": [
    "**DUE:** 5pm EST, April 7, 2025"
   ]
  },
  {
   "cell_type": "markdown",
   "id": "ce2e2b16",
   "metadata": {
    "id": "957a72c5"
   },
   "source": [
    "**IMPORTANT** Did you collaborate with anyone on this assignment? If so, list their names here. \n",
    "> *Someone's Name*"
   ]
  }
 ],
 "metadata": {
  "colab": {
   "provenance": []
  },
  "kernelspec": {
   "display_name": "R",
   "language": "R",
   "name": "ir"
  },
  "language_info": {
   "codemirror_mode": "r",
   "file_extension": ".r",
   "mimetype": "text/x-r-source",
   "name": "R",
   "pygments_lexer": "r",
   "version": "4.4.2"
  }
 },
 "nbformat": 4,
 "nbformat_minor": 5
}
