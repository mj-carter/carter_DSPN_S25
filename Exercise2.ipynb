{
  "cells": [
    {
      "cell_type": "markdown",
      "metadata": {
        "id": "gr_w8a_kfLmH"
      },
      "source": [
        "# Exercise 2: Coding Habits & Functions"
      ]
    },
    {
      "cell_type": "markdown",
      "source": [
        "1. Summary statistics 3/4: NA value should not be included in the calculation of vector length\n",
        "2. T-test function 4/4: length can be calculated with length(na.omit(x))\n",
        "3. Setting default values 2/2: length can be calculated with length(na.omit(x))"
      ],
      "metadata": {
        "id": "O9lV-mY4fVq7"
      }
    },
    {
      "cell_type": "markdown",
      "metadata": {
        "id": "D4j09K9zfLmH"
      },
      "source": [
        "This assignment will give you some practice writing your own functions and using the coding best practices discussed in the tutorial.\n",
        "\n",
        "---"
      ]
    },
    {
      "cell_type": "markdown",
      "metadata": {
        "id": "wQwKhapKfLmI"
      },
      "source": [
        "## 1. Summary statistics (4 pts)\n",
        "\n",
        "Write a function that takes a vector of numbers `x` and returns the length, mean, and standard deviation of `x` as a new vector.\n",
        "\n",
        "In keeping with our best practices, give the function a short but descriptive name, and use snake case if it involves multiple words.\n",
        "\n",
        "Hint: Vectors are defined in R using the `c()` command."
      ]
    },
    {
      "cell_type": "code",
      "execution_count": 1,
      "metadata": {
        "vscode": {
          "languageId": "r"
        },
        "id": "XrKcia1jfLmI"
      },
      "outputs": [],
      "source": [
        "summaryStats = function(x){\n",
        "    x2 = na.omit(x)\n",
        "    len <- length(x)\n",
        "    meanx <- mean(x2)\n",
        "    sdx <- sd(x)\n",
        "    print(paste0(\"The length is \", len, \" (including the NA observation), the mean is \", meanx, \" and the standard deviation is \", round(sdx, 2), \" (mean and standard deviation calulated w/out NA observation).\", sep = \"\"))\n",
        "}\n"
      ]
    },
    {
      "cell_type": "markdown",
      "metadata": {
        "id": "-QJ7JbdifLmI"
      },
      "source": [
        "Calculate the summary statistics of vector `v1`.\n",
        "\n",
        "*Hint*: Note the \"NA\" in the vector. This is short for \"not available\" and is a placeholder for missing values. You'll want to look up the _is.na_ function (and the not operator _!_), as well as options for removing NA's in the functions that you will use to summarize the vector. Look at the documentation for the functions that you will use to see how to work with NA's."
      ]
    },
    {
      "cell_type": "code",
      "execution_count": 2,
      "metadata": {
        "vscode": {
          "languageId": "r"
        },
        "id": "rC-3iOyvfLmI",
        "outputId": "7fb3d8e7-6adc-406f-93de-b76d81b31315",
        "colab": {
          "base_uri": "https://localhost:8080/"
        }
      },
      "outputs": [
        {
          "output_type": "stream",
          "name": "stdout",
          "text": [
            "[1] \"The length is 5 (including the NA observation), the mean is 7.75 and the standard deviation is NA (mean and standard deviation calulated w/out NA observation).\"\n"
          ]
        }
      ],
      "source": [
        "v1  <- c(5, 11, 6, NA, 9)\n",
        "\n",
        "summaryStats(v1)"
      ]
    },
    {
      "cell_type": "markdown",
      "metadata": {
        "id": "F9CY01QqfLmJ"
      },
      "source": [
        "---\n",
        "## 2. T-test function (4 pts)\n",
        "\n",
        "The formula for a t-test is:"
      ]
    },
    {
      "cell_type": "markdown",
      "metadata": {
        "id": "gPVwfBuJfLmJ"
      },
      "source": [
        "$$ \\frac{m- \\mu}{ \\frac{s}{\\sqrt{n}}} $$"
      ]
    },
    {
      "cell_type": "markdown",
      "metadata": {
        "id": "BqSwD8dQfLmJ"
      },
      "source": [
        "Where m is the sample mean, $\\mu$ (mu) is the population mean, s is the standard deviation, and n is the sample size.\n",
        "\n",
        "Using your function above as a starting point, write a new function `ttest_fun` that compares a vector `x` to a given population mean `mu` and calculates the t-statistic. Keep the coding best practices in mind.\n",
        "\n",
        "Hint: You will need to add another argument for mu."
      ]
    },
    {
      "cell_type": "code",
      "execution_count": 3,
      "metadata": {
        "vscode": {
          "languageId": "r"
        },
        "id": "jrPC0BkcfLmJ"
      },
      "outputs": [],
      "source": [
        "ttest_fun = function(x, mu){\n",
        "    x2 = na.omit(x)\n",
        "    lenx <- length(x) - 1\n",
        "    meanx <- mean(x2)\n",
        "    sdx <- sd(x2)\n",
        "    #-------\n",
        "    t <- (meanx - mu)/(sdx/(sqrt(lenx)))\n",
        "    print(paste0(\"t = \", round(t, 2)))\n",
        "    }\n"
      ]
    },
    {
      "cell_type": "markdown",
      "metadata": {
        "id": "m4o7gx0QfLmJ"
      },
      "source": [
        "Use your function to compare the mean of v1 to 10."
      ]
    },
    {
      "cell_type": "code",
      "execution_count": 4,
      "metadata": {
        "vscode": {
          "languageId": "r"
        },
        "id": "aQrV_XL5fLmJ",
        "outputId": "98dff80d-f2b7-4fd6-d0ef-d583b344b9de",
        "colab": {
          "base_uri": "https://localhost:8080/"
        }
      },
      "outputs": [
        {
          "output_type": "stream",
          "name": "stdout",
          "text": [
            "[1] \"t = -1.63\"\n"
          ]
        }
      ],
      "source": [
        "ttest_fun(v1, 10)"
      ]
    },
    {
      "cell_type": "markdown",
      "metadata": {
        "id": "oPxXeP9ffLmJ"
      },
      "source": [
        "---\n",
        "## 3. Setting default values (2 pts)\n",
        "\n",
        "Set the default value of mu to 0. Test your modified function below by supplying only `v2` as an argument."
      ]
    },
    {
      "cell_type": "code",
      "execution_count": 5,
      "metadata": {
        "vscode": {
          "languageId": "r"
        },
        "id": "_LiYqZZIfLmJ"
      },
      "outputs": [],
      "source": [
        "ttest_fun = function(x){\n",
        "    x2 = na.omit(x)\n",
        "    lenx <- length(x) - 1\n",
        "    meanx <- mean(x2)\n",
        "    sdx <- sd(x2)\n",
        "    #-------\n",
        "    mu = 0\n",
        "    #-------\n",
        "    t <- (meanx - mu)/(sdx/(sqrt(lenx)))\n",
        "    print(paste0(\"t = \", round(t, 2)))\n",
        "}\n",
        "\n"
      ]
    },
    {
      "cell_type": "code",
      "execution_count": 6,
      "metadata": {
        "vscode": {
          "languageId": "r"
        },
        "id": "xh_UFH-EfLmJ",
        "outputId": "32d4bdb0-5901-4d0a-c7ab-ed4d3b717d59",
        "colab": {
          "base_uri": "https://localhost:8080/"
        }
      },
      "outputs": [
        {
          "output_type": "stream",
          "name": "stdout",
          "text": [
            "[1] \"t = 3.21\"\n"
          ]
        }
      ],
      "source": [
        "v2 <- c(3, 7, 1, NA, 8, 12)\n",
        "ttest_fun(v2)"
      ]
    },
    {
      "cell_type": "markdown",
      "metadata": {
        "id": "Dtzi12tNfLmJ"
      },
      "source": [
        "How does your result compare to R's built-in `t.test()` function?"
      ]
    },
    {
      "cell_type": "code",
      "execution_count": 7,
      "metadata": {
        "scrolled": true,
        "vscode": {
          "languageId": "r"
        },
        "id": "G6g6hXd_fLmJ",
        "outputId": "0b15e547-9bcc-49c5-f5ac-1ec2e5fdc52d",
        "colab": {
          "base_uri": "https://localhost:8080/",
          "height": 231
        }
      },
      "outputs": [
        {
          "output_type": "display_data",
          "data": {
            "text/plain": [
              "\n",
              "\tOne Sample t-test\n",
              "\n",
              "data:  v2\n",
              "t = 3.2059, df = 4, p-value = 0.03272\n",
              "alternative hypothesis: true mean is not equal to 0\n",
              "95 percent confidence interval:\n",
              "  0.8306107 11.5693893\n",
              "sample estimates:\n",
              "mean of x \n",
              "      6.2 \n"
            ]
          },
          "metadata": {}
        },
        {
          "output_type": "stream",
          "name": "stdout",
          "text": [
            "[1] \"The t-values from my result and the built-in t.test() function are the same.\"\n"
          ]
        }
      ],
      "source": [
        "t.test(v2)\n",
        "\n",
        "print(\"The t-values from my result and the built-in t.test() function are the same.\")"
      ]
    },
    {
      "cell_type": "markdown",
      "metadata": {
        "id": "2slWzsoYGuLt"
      },
      "source": [
        "When you are finished, save the notebook as Exercise2.ipynb, push it to your class GitHub repository (the one you made for Exercise 1) and send the instructors a link to your notebook via Canvas. You can send messages via Canvas by clicking \"Inbox\" on the left and then pressing the icon with a pencil inside a square."
      ]
    },
    {
      "cell_type": "markdown",
      "metadata": {
        "id": "C4MPECMmZXqe"
      },
      "source": [
        "**DUE:** 5pm EST, Feb 3, 2025"
      ]
    },
    {
      "cell_type": "markdown",
      "metadata": {
        "id": "r9GUofXN4BVy"
      },
      "source": [
        "**IMPORTANT** Did you collaborate with anyone on this assignment? If so, list their names here.\n",
        "> *Someone's Name*"
      ]
    }
  ],
  "metadata": {
    "kernelspec": {
      "display_name": "R",
      "language": "R",
      "name": "ir"
    },
    "language_info": {
      "codemirror_mode": "r",
      "file_extension": ".r",
      "mimetype": "text/x-r-source",
      "name": "R",
      "pygments_lexer": "r",
      "version": "4.4.1"
    },
    "colab": {
      "provenance": []
    }
  },
  "nbformat": 4,
  "nbformat_minor": 0
}