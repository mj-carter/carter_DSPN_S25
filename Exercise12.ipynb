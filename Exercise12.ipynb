{
  "cells": [
    {
      "cell_type": "markdown",
      "metadata": {
        "id": "dyq4W1omFIfJ"
      },
      "source": [
        "<a href=\"https://colab.research.google.com/github/CoAxLab/Data-Explorations/blob/main/book/exercises/cross-validation.ipynb\" target=\"_parent\"><img src=\"https://colab.research.google.com/assets/colab-badge.svg\" alt=\"Open In Colab\"/></a>"
      ]
    },
    {
      "cell_type": "markdown",
      "metadata": {
        "id": "6xdZ1WjBmtDf"
      },
      "source": [
        "# Exercise 12: Cross validation\n",
        "-----\n",
        "\n",
        "In this exercise, we'll practice implementing cross validation techniques, including leave-one-out and k-fold cross validation. We'll use the `PimaIndiansDiabetes2` practice dataset, which has medical data on a group of Pima Native American women, including whether or not they have diabetes. This dataset is part of the `mlbench` package. We'll be using each person's medical history to predict whether or not they have been diagnosed with diabetes."
      ]
    },
    {
      "cell_type": "markdown",
      "source": [
        "1. Data 1/1\n",
        "2. Leave-one-out Cross Validation 4/4\n",
        "3. Compare to cv.glm 3/3\n",
        "4. Adjusting K and Reflection 2/2"
      ],
      "metadata": {
        "id": "NuHgcpERFLds"
      }
    },
    {
      "cell_type": "markdown",
      "metadata": {
        "id": "BubJSLTamtDg"
      },
      "source": [
        "# 1: Data (1 pts)\n",
        "---\n",
        "\n",
        "Load the `tidyverse`, `boot`, and `mlbench` packages (you may need to install `boot` and `mlbench`).\n",
        "\n",
        "Load the `PimaIndiansDiabetes2` dataset using the `data()` function. Drop the `insulin` column (it just has a lot of missing data) and then drop `NA`s from the rest of the dataset. Save your updated dataset to a new variable name. Finally, print the dimensions of your new dataset, and look at the first few lines of data."
      ]
    },
    {
      "cell_type": "code",
      "execution_count": null,
      "metadata": {
        "id": "QNuKGb6emtDg",
        "vscode": {
          "languageId": "r"
        },
        "outputId": "2e4696c5-04b4-488b-c19d-a5427383439b"
      },
      "outputs": [
        {
          "data": {
            "text/html": [
              "<style>\n",
              ".list-inline {list-style: none; margin:0; padding: 0}\n",
              ".list-inline>li {display: inline-block}\n",
              ".list-inline>li:not(:last-child)::after {content: \"\\00b7\"; padding: 0 .5ex}\n",
              "</style>\n",
              "<ol class=list-inline><li>532</li><li>8</li></ol>\n"
            ],
            "text/latex": [
              "\\begin{enumerate*}\n",
              "\\item 532\n",
              "\\item 8\n",
              "\\end{enumerate*}\n"
            ],
            "text/markdown": [
              "1. 532\n",
              "2. 8\n",
              "\n",
              "\n"
            ],
            "text/plain": [
              "[1] 532   8"
            ]
          },
          "metadata": {},
          "output_type": "display_data"
        },
        {
          "data": {
            "text/html": [
              "<table class=\"dataframe\">\n",
              "<caption>A data.frame: 6 × 8</caption>\n",
              "<thead>\n",
              "\t<tr><th></th><th scope=col>pregnant</th><th scope=col>glucose</th><th scope=col>pressure</th><th scope=col>triceps</th><th scope=col>mass</th><th scope=col>pedigree</th><th scope=col>age</th><th scope=col>diabetes</th></tr>\n",
              "\t<tr><th></th><th scope=col>&lt;dbl&gt;</th><th scope=col>&lt;dbl&gt;</th><th scope=col>&lt;dbl&gt;</th><th scope=col>&lt;dbl&gt;</th><th scope=col>&lt;dbl&gt;</th><th scope=col>&lt;dbl&gt;</th><th scope=col>&lt;dbl&gt;</th><th scope=col>&lt;fct&gt;</th></tr>\n",
              "</thead>\n",
              "<tbody>\n",
              "\t<tr><th scope=row>1</th><td>6</td><td>148</td><td>72</td><td>35</td><td>33.6</td><td>0.627</td><td>50</td><td>pos</td></tr>\n",
              "\t<tr><th scope=row>2</th><td>1</td><td> 85</td><td>66</td><td>29</td><td>26.6</td><td>0.351</td><td>31</td><td>neg</td></tr>\n",
              "\t<tr><th scope=row>4</th><td>1</td><td> 89</td><td>66</td><td>23</td><td>28.1</td><td>0.167</td><td>21</td><td>neg</td></tr>\n",
              "\t<tr><th scope=row>5</th><td>0</td><td>137</td><td>40</td><td>35</td><td>43.1</td><td>2.288</td><td>33</td><td>pos</td></tr>\n",
              "\t<tr><th scope=row>7</th><td>3</td><td> 78</td><td>50</td><td>32</td><td>31.0</td><td>0.248</td><td>26</td><td>pos</td></tr>\n",
              "\t<tr><th scope=row>9</th><td>2</td><td>197</td><td>70</td><td>45</td><td>30.5</td><td>0.158</td><td>53</td><td>pos</td></tr>\n",
              "</tbody>\n",
              "</table>\n"
            ],
            "text/latex": [
              "A data.frame: 6 × 8\n",
              "\\begin{tabular}{r|llllllll}\n",
              "  & pregnant & glucose & pressure & triceps & mass & pedigree & age & diabetes\\\\\n",
              "  & <dbl> & <dbl> & <dbl> & <dbl> & <dbl> & <dbl> & <dbl> & <fct>\\\\\n",
              "\\hline\n",
              "\t1 & 6 & 148 & 72 & 35 & 33.6 & 0.627 & 50 & pos\\\\\n",
              "\t2 & 1 &  85 & 66 & 29 & 26.6 & 0.351 & 31 & neg\\\\\n",
              "\t4 & 1 &  89 & 66 & 23 & 28.1 & 0.167 & 21 & neg\\\\\n",
              "\t5 & 0 & 137 & 40 & 35 & 43.1 & 2.288 & 33 & pos\\\\\n",
              "\t7 & 3 &  78 & 50 & 32 & 31.0 & 0.248 & 26 & pos\\\\\n",
              "\t9 & 2 & 197 & 70 & 45 & 30.5 & 0.158 & 53 & pos\\\\\n",
              "\\end{tabular}\n"
            ],
            "text/markdown": [
              "\n",
              "A data.frame: 6 × 8\n",
              "\n",
              "| <!--/--> | pregnant &lt;dbl&gt; | glucose &lt;dbl&gt; | pressure &lt;dbl&gt; | triceps &lt;dbl&gt; | mass &lt;dbl&gt; | pedigree &lt;dbl&gt; | age &lt;dbl&gt; | diabetes &lt;fct&gt; |\n",
              "|---|---|---|---|---|---|---|---|---|\n",
              "| 1 | 6 | 148 | 72 | 35 | 33.6 | 0.627 | 50 | pos |\n",
              "| 2 | 1 |  85 | 66 | 29 | 26.6 | 0.351 | 31 | neg |\n",
              "| 4 | 1 |  89 | 66 | 23 | 28.1 | 0.167 | 21 | neg |\n",
              "| 5 | 0 | 137 | 40 | 35 | 43.1 | 2.288 | 33 | pos |\n",
              "| 7 | 3 |  78 | 50 | 32 | 31.0 | 0.248 | 26 | pos |\n",
              "| 9 | 2 | 197 | 70 | 45 | 30.5 | 0.158 | 53 | pos |\n",
              "\n"
            ],
            "text/plain": [
              "  pregnant glucose pressure triceps mass pedigree age diabetes\n",
              "1 6        148     72       35      33.6 0.627    50  pos     \n",
              "2 1         85     66       29      26.6 0.351    31  neg     \n",
              "4 1         89     66       23      28.1 0.167    21  neg     \n",
              "5 0        137     40       35      43.1 2.288    33  pos     \n",
              "7 3         78     50       32      31.0 0.248    26  pos     \n",
              "9 2        197     70       45      30.5 0.158    53  pos     "
            ]
          },
          "metadata": {},
          "output_type": "display_data"
        }
      ],
      "source": [
        "library(tidyverse)\n",
        "library(boot)\n",
        "library(mlbench)\n",
        "\n",
        "data(\"PimaIndiansDiabetes2\")\n",
        "\n",
        "ds = na.omit(select(PimaIndiansDiabetes2, -insulin))\n",
        "dim(ds)\n",
        "head(ds)\n"
      ]
    },
    {
      "cell_type": "markdown",
      "metadata": {
        "id": "_BRVQiWSmtDh"
      },
      "source": [
        "(Note that in medical contexts, `pedigree` refers to a system of measuring family history of a condition. So here, higher numbers mean greater family history of diabetes. You can read more about this dataset [here](https://rdrr.io/cran/mlbench/man/PimaIndiansDiabetes.html).)\n",
        "\n",
        "# 2. Leave-one-out Cross Validation (4 pts)\n",
        "\n",
        "In the tutorial, we learned how to fit leave-one-out cross validation using the `cv.glm` function from the `boot` package. But we can also do this manually using `predict()` like we have in the past.\n",
        "\n",
        "Let's predict `diabetes`, a dichotomous outcome, using all the other variables in our modified dataset.\n",
        "\n",
        "First, fit a logistic regression model using all of the observations except the very first one. Then use your fitted model to predict whether your holdout case is positive or negative for diabetes. Remember that logistic regression coefficients are in **log-odds**, meaning that if an output is positive, the probability of the outcome is greater than 50%; if the output is negative, the probability of the outcome is less than 50%.\n",
        "\n",
        "Compare your result to the actual response in row one above. Did your model correctly classify this observation?"
      ]
    },
    {
      "cell_type": "code",
      "execution_count": null,
      "metadata": {
        "id": "RDyry5h_mtDi",
        "vscode": {
          "languageId": "r"
        },
        "outputId": "079f2d3b-5340-4c30-b982-708d82f29459"
      },
      "outputs": [
        {
          "data": {
            "text/html": [
              "<strong>1:</strong> 0.992021298596845"
            ],
            "text/latex": [
              "\\textbf{1:} 0.992021298596845"
            ],
            "text/markdown": [
              "**1:** 0.992021298596845"
            ],
            "text/plain": [
              "        1 \n",
              "0.9920213 "
            ]
          },
          "metadata": {},
          "output_type": "display_data"
        }
      ],
      "source": [
        "mod1 = glm(diabetes ~., data = ds[2:nrow(ds),], family = \"binomial\")\n",
        "#summary(mod1)\n",
        "\n",
        "predict(mod1, newdata = ds[1,])\n"
      ]
    },
    {
      "cell_type": "markdown",
      "metadata": {
        "id": "W1TwL8BimtDl"
      },
      "source": [
        "> Yes, the model appears to have correctly classified the observation - output is positive and the actual value of 'diabetes' was 'positive'."
      ]
    },
    {
      "cell_type": "markdown",
      "metadata": {
        "id": "sIPpDdd0mtDi"
      },
      "source": [
        "So we just calculated a single iteration of LOOCV. We used 531 rows of our data to fit a model to predict the outcome of the last row.\n",
        "\n",
        "Below, use a `for` loop to iterate through the rest of your dataset doing the same thing. You will need to:\n",
        "* Create a data frame `results` with two columns: one named `actual` which holds the true classification for each observation, and one named `predicted`, which should be filled with `NA`s. This is where you'll store the output of your loop.\n",
        "* Create a loop that runs through each row of your data, pulls that observation out, trains your model on the remaining data, and then tests the fitted model on your test observation.\n",
        "* Store your model *predictions* (\"pos\" or \"neg\" -- not the log-odds) in the `predicted` column of your `results` dataframe\n",
        "\n",
        "After you run your loop, print the first few lines of `results`."
      ]
    },
    {
      "cell_type": "code",
      "execution_count": null,
      "metadata": {
        "id": "5Z1ijm_PmtDj",
        "vscode": {
          "languageId": "r"
        },
        "outputId": "99913d64-732f-4a72-c2ef-6be9f676ec71"
      },
      "outputs": [
        {
          "data": {
            "text/html": [
              "<table class=\"dataframe\">\n",
              "<caption>A data.frame: 6 × 2</caption>\n",
              "<thead>\n",
              "\t<tr><th></th><th scope=col>actual</th><th scope=col>predicted</th></tr>\n",
              "\t<tr><th></th><th scope=col>&lt;chr&gt;</th><th scope=col>&lt;chr&gt;</th></tr>\n",
              "</thead>\n",
              "<tbody>\n",
              "\t<tr><th scope=row>1</th><td>pos</td><td>pos</td></tr>\n",
              "\t<tr><th scope=row>2</th><td>neg</td><td>neg</td></tr>\n",
              "\t<tr><th scope=row>3</th><td>neg</td><td>neg</td></tr>\n",
              "\t<tr><th scope=row>4</th><td>pos</td><td>pos</td></tr>\n",
              "\t<tr><th scope=row>5</th><td>pos</td><td>neg</td></tr>\n",
              "\t<tr><th scope=row>6</th><td>pos</td><td>pos</td></tr>\n",
              "</tbody>\n",
              "</table>\n"
            ],
            "text/latex": [
              "A data.frame: 6 × 2\n",
              "\\begin{tabular}{r|ll}\n",
              "  & actual & predicted\\\\\n",
              "  & <chr> & <chr>\\\\\n",
              "\\hline\n",
              "\t1 & pos & pos\\\\\n",
              "\t2 & neg & neg\\\\\n",
              "\t3 & neg & neg\\\\\n",
              "\t4 & pos & pos\\\\\n",
              "\t5 & pos & neg\\\\\n",
              "\t6 & pos & pos\\\\\n",
              "\\end{tabular}\n"
            ],
            "text/markdown": [
              "\n",
              "A data.frame: 6 × 2\n",
              "\n",
              "| <!--/--> | actual &lt;chr&gt; | predicted &lt;chr&gt; |\n",
              "|---|---|---|\n",
              "| 1 | pos | pos |\n",
              "| 2 | neg | neg |\n",
              "| 3 | neg | neg |\n",
              "| 4 | pos | pos |\n",
              "| 5 | pos | neg |\n",
              "| 6 | pos | pos |\n",
              "\n"
            ],
            "text/plain": [
              "  actual predicted\n",
              "1 pos    pos      \n",
              "2 neg    neg      \n",
              "3 neg    neg      \n",
              "4 pos    pos      \n",
              "5 pos    neg      \n",
              "6 pos    pos      "
            ]
          },
          "metadata": {},
          "output_type": "display_data"
        }
      ],
      "source": [
        "# Initialize `results` data frame\n",
        "results = data.frame(actual = rep(NA, nrow(ds)))\n",
        "results$predicted = NA\n",
        "\n",
        "#for loop\n",
        "for (i in 1:nrow(ds)){ #don't forget to change this to your data set name\n",
        "\n",
        "    # separate individual observation `i` from the rest of your data\n",
        "    train = ds[-c(i),]\n",
        "    test = ds[i,]\n",
        "\n",
        "    # train your model\n",
        "    this_mod = glm(diabetes ~., data = train, family = \"binomial\")\n",
        "\n",
        "    # test model on hold out observation\n",
        "    outcome = predict(this_mod, newdata = test)\n",
        "\n",
        "    # classify model prediction as \"pos\" or \"neg\" and add to `results`\n",
        "    if(outcome > 0){\n",
        "        results$predicted[i] = \"pos\"\n",
        "    }\n",
        "    if(outcome < 0){\n",
        "        results$predicted[i] = \"neg\"\n",
        "    }\n",
        "\n",
        "    results$actual[i] = as.character(ds$diabetes[i])\n",
        "\n",
        "}\n",
        "\n",
        "head(results)"
      ]
    },
    {
      "cell_type": "markdown",
      "metadata": {
        "id": "42Jng_EEmtDk"
      },
      "source": [
        "Now, calculate the overall error of your model. What proportion of cases were incorrectly classified?"
      ]
    },
    {
      "cell_type": "code",
      "execution_count": null,
      "metadata": {
        "id": "SYhKS5HimtDk",
        "vscode": {
          "languageId": "r"
        },
        "outputId": "0553beb1-534a-4ba8-931b-f134490bc604"
      },
      "outputs": [
        {
          "data": {
            "text/html": [
              "0.221804511278195"
            ],
            "text/latex": [
              "0.221804511278195"
            ],
            "text/markdown": [
              "0.221804511278195"
            ],
            "text/plain": [
              "[1] 0.2218045"
            ]
          },
          "metadata": {},
          "output_type": "display_data"
        }
      ],
      "source": [
        "error = results[,1] == results[,2]\n",
        "1- mean(error)\n"
      ]
    },
    {
      "cell_type": "markdown",
      "metadata": {
        "id": "M4kRNDssFIfM"
      },
      "source": [
        "> 22.18% of the cases were incorrectly classified"
      ]
    },
    {
      "cell_type": "markdown",
      "metadata": {
        "id": "gVyeKMtkFIfM"
      },
      "source": [
        "# 3. Compare to `cv.glm` (3 pts)\n",
        "\n",
        "Now, let's compare this result to the `cv.glm` function. Using the tutorial as a guide, use `cv.glm` to run LOOCV on the data, using the same model (i.e., still using all of the variables to predict diabetes diagnosis).\n",
        "\n",
        "Note that, because this is a `classification` problem and not a regression problem like in the tutorial, we need to adjust the `cost` argument of `cv.glm`. We can read more about this in the docs:"
      ]
    },
    {
      "cell_type": "code",
      "execution_count": null,
      "metadata": {
        "id": "wIUAW1AtmtDl",
        "vscode": {
          "languageId": "r"
        }
      },
      "outputs": [],
      "source": [
        "#?cv.glm"
      ]
    },
    {
      "cell_type": "markdown",
      "metadata": {
        "id": "SWhbyxtymtDl"
      },
      "source": [
        "Here, we see `cost` is defined as:\n",
        "> \"A function of two vector arguments specifying the cost function for the cross-validation. The first argument to cost should correspond to the **observed responses** and the second argument should correspond to the **predicted or fitted responses** from the generalized linear model.\"\n",
        "\n",
        "In the example code (scroll to bottom of the docs), we see that the appropriate cost function for a binary classification is\n",
        "\n",
        "``\n",
        "cost <- function(r, pi = 0) mean(abs(r-pi) > 0.5)\n",
        "``\n",
        "\n",
        "Where `r` is the vector of observed responses (technically \"pos\" and \"neg\", but R treats these as 1 and 0 under the hood), and `pi` is the vector of *probabilities* (not log-odds) fit by the model. Thus, this boils down to our error: what proportion of observations were incorrectly classified. You will need to include this code below."
      ]
    },
    {
      "cell_type": "code",
      "execution_count": null,
      "metadata": {
        "id": "bJiCmfqomtDl",
        "vscode": {
          "languageId": "r"
        },
        "outputId": "928f5c84-0a21-4b7c-fe76-874f46688419"
      },
      "outputs": [
        {
          "data": {
            "text/html": [
              "0.147173382124609"
            ],
            "text/latex": [
              "0.147173382124609"
            ],
            "text/markdown": [
              "0.147173382124609"
            ],
            "text/plain": [
              "[1] 0.1471734"
            ]
          },
          "metadata": {},
          "output_type": "display_data"
        }
      ],
      "source": [
        "cost = function(r, pi = 0) mean(abs(r-pi) > 0.5)\n",
        "\n",
        "cv.glm(ds, glm(diabetes ~., data = ds, family = \"binomial\"))$delta[2]\n"
      ]
    },
    {
      "cell_type": "markdown",
      "metadata": {
        "id": "IcEuGX3FmtDm"
      },
      "source": [
        "How do your results compare to your manual LOOCV above?\n",
        "\n",
        "> * *My initial results report a greater error (22.18%) compared to the manual LOOCV (14.72%).\n"
      ]
    },
    {
      "cell_type": "markdown",
      "metadata": {
        "id": "6Y2tL4NpmtDm"
      },
      "source": [
        "# 4. Adjusting K and Reflection (2 pts)\n",
        "\n",
        "Recall that LOOCV has some drawbacks. In particular, it has quite high *variance* which can lead to poor performance on new test data. We can reduce this variance by increasing K.\n",
        "\n",
        "Below, re-run your cross validation using `cv.glm` with `k` set to 3, 5, 10, and 15."
      ]
    },
    {
      "cell_type": "code",
      "execution_count": null,
      "metadata": {
        "id": "vZYq_NQlmtDm",
        "scrolled": true,
        "vscode": {
          "languageId": "r"
        },
        "outputId": "e34a1629-51ad-42bb-83dd-0f916931be9e"
      },
      "outputs": [
        {
          "data": {
            "text/html": [
              "0.147192209894561"
            ],
            "text/latex": [
              "0.147192209894561"
            ],
            "text/markdown": [
              "0.147192209894561"
            ],
            "text/plain": [
              "[1] 0.1471922"
            ]
          },
          "metadata": {},
          "output_type": "display_data"
        },
        {
          "data": {
            "text/html": [
              "0.14844099354154"
            ],
            "text/latex": [
              "0.14844099354154"
            ],
            "text/markdown": [
              "0.14844099354154"
            ],
            "text/plain": [
              "[1] 0.148441"
            ]
          },
          "metadata": {},
          "output_type": "display_data"
        },
        {
          "data": {
            "text/html": [
              "0.147976525530326"
            ],
            "text/latex": [
              "0.147976525530326"
            ],
            "text/markdown": [
              "0.147976525530326"
            ],
            "text/plain": [
              "[1] 0.1479765"
            ]
          },
          "metadata": {},
          "output_type": "display_data"
        },
        {
          "data": {
            "text/html": [
              "0.148844958582302"
            ],
            "text/latex": [
              "0.148844958582302"
            ],
            "text/markdown": [
              "0.148844958582302"
            ],
            "text/plain": [
              "[1] 0.148845"
            ]
          },
          "metadata": {},
          "output_type": "display_data"
        }
      ],
      "source": [
        "set.seed(1)\n",
        "\n",
        "# K = 3\n",
        "cv.glm(ds, glm(diabetes ~., data = ds, family = \"binomial\"), K = 3)$delta[2]\n",
        "\n",
        "\n",
        "# K = 5\n",
        "cv.glm(ds, glm(diabetes ~., data = ds, family = \"binomial\"), K = 5)$delta[2]\n",
        "\n",
        "\n",
        "# K = 10\n",
        "cv.glm(ds, glm(diabetes ~., data = ds, family = \"binomial\"), K = 10)$delta[2]\n",
        "\n",
        "\n",
        "# K = 15\n",
        "cv.glm(ds, glm(diabetes ~., data = ds, family = \"binomial\"), K = 15)$delta[2]\n",
        "\n",
        "\n"
      ]
    },
    {
      "cell_type": "markdown",
      "metadata": {
        "id": "fI5Y1OqOmtDn"
      },
      "source": [
        "#### Reflection\n",
        "\n",
        "How do your errors compare to your LOOCV error above? How do they change as k increases?\n",
        "> * The error values here appear to be very close to the LOOCV error above. There does not appear to be a specific trend, as the error increases, then decreases, then increases, however some fluctuation is expected given that CV error tends to create a u-shaped curve from low to high values of K.\n",
        "\n",
        "If you change the random seed above, you'll get slightly different errors. If you were to do the same with your LOOCV above , would you expect to get different results each time? Why or why not?\n",
        "> * No - this is because K was unspecified in the original LOOCV. The function cv.glm automoratically defaults to leave-one-out cross-validation when K is unspecified"
      ]
    },
    {
      "cell_type": "markdown",
      "metadata": {
        "id": "smcS7JLgFIfN"
      },
      "source": [
        "\n",
        "**DUE:** 5pm March 25, 2024\n",
        "\n",
        "**IMPORTANT** Did you collaborate with anyone on this assignment? If so, list their names here.\n",
        "> *Someone's Name*\n",
        ">\n",
        ">\n"
      ]
    }
  ],
  "metadata": {
    "colab": {
      "provenance": [],
      "toc_visible": true
    },
    "kernelspec": {
      "display_name": "R",
      "language": "R",
      "name": "ir"
    },
    "language_info": {
      "codemirror_mode": "r",
      "file_extension": ".r",
      "mimetype": "text/x-r-source",
      "name": "R",
      "pygments_lexer": "r",
      "version": "4.4.2"
    }
  },
  "nbformat": 4,
  "nbformat_minor": 0
}