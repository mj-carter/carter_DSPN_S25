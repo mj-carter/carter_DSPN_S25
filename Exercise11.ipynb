{
  "cells": [
    {
      "cell_type": "markdown",
      "metadata": {
        "id": "ad6m3zJNp_Mg"
      },
      "source": [
        "<a href=\"https://colab.research.google.com/github/CoAxLab/Data-Explorations/blob/main/book/exercises/the-beauty-of-knn.ipynb\" target=\"_parent\"><img src=\"https://colab.research.google.com/assets/colab-badge.svg\" alt=\"Open In Colab\"/></a>"
      ]
    },
    {
      "cell_type": "markdown",
      "metadata": {
        "id": "S5Fpqv6H_cZA"
      },
      "source": [
        "# Exercise 11: The beauty of kNN\n",
        "\n",
        "In this exercise, you'll gain practice working with kNN. We'll use the [diamonds](https://ggplot2.tidyverse.org/reference/diamonds.html) dataset, which comes as part of `ggplot2`. This dataset provides information on the quality and price of 50,000 diamonds\n"
      ]
    },
    {
      "cell_type": "markdown",
      "source": [
        "1. data plotting and train/test sets 2/2\n",
        "2. knn 3/3\n",
        "3. for loop 3/3\n",
        "4. standardizing predictors 2/2\n"
      ],
      "metadata": {
        "id": "7B-R-77HqAD4"
      }
    },
    {
      "cell_type": "markdown",
      "metadata": {
        "id": "is-1Gkl6_cZC"
      },
      "source": [
        "## 1. Data, Plotting, and Train/Test Sets (2 pts)\n",
        "-----\n",
        "* Load the the `class` and `tidyverse` packages.\n",
        "* Assign the `diamonds` data set to a simpler name. Then, create a new variable `price_bin` that splits the `price` variable into a binary variable, where 1 indicates that the diamond costs greater than the mean price, and 0 indicates that the diamond costs less than the mean price. Set `price_bin` to be a factor. (*Hint: use the if_else() function*)\n",
        "* Select just the `carat`, `depth`, `table`, `x`, `y`, and your new `price_bin` variables\n",
        "* Print the first few lines of the data set\n",
        "* Print the dimensions of the data set\n"
      ]
    },
    {
      "cell_type": "code",
      "execution_count": null,
      "metadata": {
        "id": "076b5Q2i_cZC",
        "vscode": {
          "languageId": "r"
        },
        "outputId": "08b0f057-865d-4b47-f940-8c1c487a80bd"
      },
      "outputs": [
        {
          "data": {
            "text/html": [
              "<table class=\"dataframe\">\n",
              "<caption>A tibble: 6 × 6</caption>\n",
              "<thead>\n",
              "\t<tr><th scope=col>carat</th><th scope=col>depth</th><th scope=col>table</th><th scope=col>x</th><th scope=col>y</th><th scope=col>price_bin</th></tr>\n",
              "\t<tr><th scope=col>&lt;dbl&gt;</th><th scope=col>&lt;dbl&gt;</th><th scope=col>&lt;dbl&gt;</th><th scope=col>&lt;dbl&gt;</th><th scope=col>&lt;dbl&gt;</th><th scope=col>&lt;fct&gt;</th></tr>\n",
              "</thead>\n",
              "<tbody>\n",
              "\t<tr><td>0.23</td><td>61.5</td><td>55</td><td>3.95</td><td>3.98</td><td>0</td></tr>\n",
              "\t<tr><td>0.21</td><td>59.8</td><td>61</td><td>3.89</td><td>3.84</td><td>0</td></tr>\n",
              "\t<tr><td>0.23</td><td>56.9</td><td>65</td><td>4.05</td><td>4.07</td><td>0</td></tr>\n",
              "\t<tr><td>0.29</td><td>62.4</td><td>58</td><td>4.20</td><td>4.23</td><td>0</td></tr>\n",
              "\t<tr><td>0.31</td><td>63.3</td><td>58</td><td>4.34</td><td>4.35</td><td>0</td></tr>\n",
              "\t<tr><td>0.24</td><td>62.8</td><td>57</td><td>3.94</td><td>3.96</td><td>0</td></tr>\n",
              "</tbody>\n",
              "</table>\n"
            ],
            "text/latex": [
              "A tibble: 6 × 6\n",
              "\\begin{tabular}{llllll}\n",
              " carat & depth & table & x & y & price\\_bin\\\\\n",
              " <dbl> & <dbl> & <dbl> & <dbl> & <dbl> & <fct>\\\\\n",
              "\\hline\n",
              "\t 0.23 & 61.5 & 55 & 3.95 & 3.98 & 0\\\\\n",
              "\t 0.21 & 59.8 & 61 & 3.89 & 3.84 & 0\\\\\n",
              "\t 0.23 & 56.9 & 65 & 4.05 & 4.07 & 0\\\\\n",
              "\t 0.29 & 62.4 & 58 & 4.20 & 4.23 & 0\\\\\n",
              "\t 0.31 & 63.3 & 58 & 4.34 & 4.35 & 0\\\\\n",
              "\t 0.24 & 62.8 & 57 & 3.94 & 3.96 & 0\\\\\n",
              "\\end{tabular}\n"
            ],
            "text/markdown": [
              "\n",
              "A tibble: 6 × 6\n",
              "\n",
              "| carat &lt;dbl&gt; | depth &lt;dbl&gt; | table &lt;dbl&gt; | x &lt;dbl&gt; | y &lt;dbl&gt; | price_bin &lt;fct&gt; |\n",
              "|---|---|---|---|---|---|\n",
              "| 0.23 | 61.5 | 55 | 3.95 | 3.98 | 0 |\n",
              "| 0.21 | 59.8 | 61 | 3.89 | 3.84 | 0 |\n",
              "| 0.23 | 56.9 | 65 | 4.05 | 4.07 | 0 |\n",
              "| 0.29 | 62.4 | 58 | 4.20 | 4.23 | 0 |\n",
              "| 0.31 | 63.3 | 58 | 4.34 | 4.35 | 0 |\n",
              "| 0.24 | 62.8 | 57 | 3.94 | 3.96 | 0 |\n",
              "\n"
            ],
            "text/plain": [
              "  carat depth table x    y    price_bin\n",
              "1 0.23  61.5  55    3.95 3.98 0        \n",
              "2 0.21  59.8  61    3.89 3.84 0        \n",
              "3 0.23  56.9  65    4.05 4.07 0        \n",
              "4 0.29  62.4  58    4.20 4.23 0        \n",
              "5 0.31  63.3  58    4.34 4.35 0        \n",
              "6 0.24  62.8  57    3.94 3.96 0        "
            ]
          },
          "metadata": {},
          "output_type": "display_data"
        }
      ],
      "source": [
        "library(ggplot2)\n",
        "library(class)\n",
        "library(tidyverse)\n",
        "\n",
        "ds = diamonds\n",
        "#head(ds)\n",
        "\n",
        "ds$price_bin = 0\n",
        "ds$price_bin[ds$price > mean(ds$price)] = 1\n",
        "ds$price_bin = as.factor(ds$price_bin)\n",
        "\n",
        "ds = select(ds, carat, depth, table, x, y, price_bin)\n",
        "head(ds)\n"
      ]
    },
    {
      "cell_type": "markdown",
      "metadata": {
        "id": "OE--UOxM_cZD"
      },
      "source": [
        "### Plot\n",
        "Create a scatterplot of the link between `carat` and `depth`, and use the `color` aesthetics mapping to differentiate between diamonds that cost above versus below the mean price."
      ]
    },
    {
      "cell_type": "code",
      "execution_count": null,
      "metadata": {
        "id": "SZQl5C9H_cZD",
        "vscode": {
          "languageId": "r"
        },
        "outputId": "e3d57150-8ccd-4097-d7b6-2f4466f37f10"
      },
      "outputs": [
        {
          "data": {
            "image/png": "[encoded data removed]",
            "text/plain": [
              "plot without title"
            ]
          },
          "metadata": {
            "image/png": {
              "height": 420,
              "width": 420
            }
          },
          "output_type": "display_data"
        }
      ],
      "source": [
        "ggplot(data = ds, mapping = aes(x = carat, y = depth, color = price_bin)) + geom_point()\n"
      ]
    },
    {
      "cell_type": "markdown",
      "metadata": {
        "id": "j-K6NEON_cZD"
      },
      "source": [
        "Based on the above scatterplot, how do you think kNN will perform using only these two variables to predict diabetes diagnosis? Which variable, carat or depth, gives us the most information about which price class the diamond will belong to?\n",
        "> I predict that the kNN will perform decently using only these two variables. I also predict that carat will give us more information that depth about the class a given diamond will belong to. This is because there appears to be specific clusters by carat that price_bin = 0 and price_bin = 1 fall into. In contrast, the diamond dataset appears to have representation for both values of price_bin across the range of depth values.\n"
      ]
    },
    {
      "cell_type": "markdown",
      "metadata": {
        "id": "wT7O-CHO_cZE"
      },
      "source": [
        "### Test vs Train\n",
        "\n",
        "Before we run KNN on these data, we need to set aside a portion of the observations as our test set. Below, randomly divide the data such that 30% are allotted to the `test` set and the rest are allotted to the `train` set. Print the first few lines of each set, and print the dimensions of each set to double check your division of the data."
      ]
    },
    {
      "cell_type": "code",
      "execution_count": null,
      "metadata": {
        "id": "Oj3YcEP0_cZE",
        "vscode": {
          "languageId": "r"
        },
        "outputId": "b02c9f5c-05e0-4434-b6e2-2926ae552686"
      },
      "outputs": [
        {
          "data": {
            "text/html": [
              "<table class=\"dataframe\">\n",
              "<caption>A tibble: 6 × 6</caption>\n",
              "<thead>\n",
              "\t<tr><th scope=col>carat</th><th scope=col>depth</th><th scope=col>table</th><th scope=col>x</th><th scope=col>y</th><th scope=col>price_bin</th></tr>\n",
              "\t<tr><th scope=col>&lt;dbl&gt;</th><th scope=col>&lt;dbl&gt;</th><th scope=col>&lt;dbl&gt;</th><th scope=col>&lt;dbl&gt;</th><th scope=col>&lt;dbl&gt;</th><th scope=col>&lt;fct&gt;</th></tr>\n",
              "</thead>\n",
              "<tbody>\n",
              "\t<tr><td>1.22</td><td>62.3</td><td>56.0</td><td>6.81</td><td>6.84</td><td>1</td></tr>\n",
              "\t<tr><td>1.57</td><td>62.3</td><td>56.0</td><td>7.48</td><td>7.41</td><td>1</td></tr>\n",
              "\t<tr><td>1.11</td><td>62.4</td><td>57.7</td><td>6.57</td><td>6.64</td><td>1</td></tr>\n",
              "\t<tr><td>0.42</td><td>60.6</td><td>57.0</td><td>4.82</td><td>4.85</td><td>0</td></tr>\n",
              "\t<tr><td>0.32</td><td>62.6</td><td>55.0</td><td>4.39</td><td>4.36</td><td>0</td></tr>\n",
              "\t<tr><td>0.90</td><td>62.7</td><td>58.0</td><td>6.06</td><td>6.15</td><td>1</td></tr>\n",
              "</tbody>\n",
              "</table>\n"
            ],
            "text/latex": [
              "A tibble: 6 × 6\n",
              "\\begin{tabular}{llllll}\n",
              " carat & depth & table & x & y & price\\_bin\\\\\n",
              " <dbl> & <dbl> & <dbl> & <dbl> & <dbl> & <fct>\\\\\n",
              "\\hline\n",
              "\t 1.22 & 62.3 & 56.0 & 6.81 & 6.84 & 1\\\\\n",
              "\t 1.57 & 62.3 & 56.0 & 7.48 & 7.41 & 1\\\\\n",
              "\t 1.11 & 62.4 & 57.7 & 6.57 & 6.64 & 1\\\\\n",
              "\t 0.42 & 60.6 & 57.0 & 4.82 & 4.85 & 0\\\\\n",
              "\t 0.32 & 62.6 & 55.0 & 4.39 & 4.36 & 0\\\\\n",
              "\t 0.90 & 62.7 & 58.0 & 6.06 & 6.15 & 1\\\\\n",
              "\\end{tabular}\n"
            ],
            "text/markdown": [
              "\n",
              "A tibble: 6 × 6\n",
              "\n",
              "| carat &lt;dbl&gt; | depth &lt;dbl&gt; | table &lt;dbl&gt; | x &lt;dbl&gt; | y &lt;dbl&gt; | price_bin &lt;fct&gt; |\n",
              "|---|---|---|---|---|---|\n",
              "| 1.22 | 62.3 | 56.0 | 6.81 | 6.84 | 1 |\n",
              "| 1.57 | 62.3 | 56.0 | 7.48 | 7.41 | 1 |\n",
              "| 1.11 | 62.4 | 57.7 | 6.57 | 6.64 | 1 |\n",
              "| 0.42 | 60.6 | 57.0 | 4.82 | 4.85 | 0 |\n",
              "| 0.32 | 62.6 | 55.0 | 4.39 | 4.36 | 0 |\n",
              "| 0.90 | 62.7 | 58.0 | 6.06 | 6.15 | 1 |\n",
              "\n"
            ],
            "text/plain": [
              "  carat depth table x    y    price_bin\n",
              "1 1.22  62.3  56.0  6.81 6.84 1        \n",
              "2 1.57  62.3  56.0  7.48 7.41 1        \n",
              "3 1.11  62.4  57.7  6.57 6.64 1        \n",
              "4 0.42  60.6  57.0  4.82 4.85 0        \n",
              "5 0.32  62.6  55.0  4.39 4.36 0        \n",
              "6 0.90  62.7  58.0  6.06 6.15 1        "
            ]
          },
          "metadata": {},
          "output_type": "display_data"
        },
        {
          "data": {
            "text/html": [
              "<style>\n",
              ".list-inline {list-style: none; margin:0; padding: 0}\n",
              ".list-inline>li {display: inline-block}\n",
              ".list-inline>li:not(:last-child)::after {content: \"\\00b7\"; padding: 0 .5ex}\n",
              "</style>\n",
              "<ol class=list-inline><li>16182</li><li>6</li></ol>\n"
            ],
            "text/latex": [
              "\\begin{enumerate*}\n",
              "\\item 16182\n",
              "\\item 6\n",
              "\\end{enumerate*}\n"
            ],
            "text/markdown": [
              "1. 16182\n",
              "2. 6\n",
              "\n",
              "\n"
            ],
            "text/plain": [
              "[1] 16182     6"
            ]
          },
          "metadata": {},
          "output_type": "display_data"
        },
        {
          "data": {
            "text/html": [
              "<table class=\"dataframe\">\n",
              "<caption>A tibble: 6 × 6</caption>\n",
              "<thead>\n",
              "\t<tr><th scope=col>carat</th><th scope=col>depth</th><th scope=col>table</th><th scope=col>x</th><th scope=col>y</th><th scope=col>price_bin</th></tr>\n",
              "\t<tr><th scope=col>&lt;dbl&gt;</th><th scope=col>&lt;dbl&gt;</th><th scope=col>&lt;dbl&gt;</th><th scope=col>&lt;dbl&gt;</th><th scope=col>&lt;dbl&gt;</th><th scope=col>&lt;fct&gt;</th></tr>\n",
              "</thead>\n",
              "<tbody>\n",
              "\t<tr><td>0.33</td><td>61.6</td><td>55</td><td>4.46</td><td>4.47</td><td>0</td></tr>\n",
              "\t<tr><td>1.58</td><td>59.1</td><td>59</td><td>7.68</td><td>7.59</td><td>1</td></tr>\n",
              "\t<tr><td>0.57</td><td>61.5</td><td>55</td><td>5.33</td><td>5.37</td><td>0</td></tr>\n",
              "\t<tr><td>0.53</td><td>62.1</td><td>55</td><td>5.18</td><td>5.22</td><td>0</td></tr>\n",
              "\t<tr><td>0.76</td><td>61.3</td><td>59</td><td>5.85</td><td>5.83</td><td>0</td></tr>\n",
              "\t<tr><td>0.31</td><td>62.0</td><td>56</td><td>4.33</td><td>4.35</td><td>0</td></tr>\n",
              "</tbody>\n",
              "</table>\n"
            ],
            "text/latex": [
              "A tibble: 6 × 6\n",
              "\\begin{tabular}{llllll}\n",
              " carat & depth & table & x & y & price\\_bin\\\\\n",
              " <dbl> & <dbl> & <dbl> & <dbl> & <dbl> & <fct>\\\\\n",
              "\\hline\n",
              "\t 0.33 & 61.6 & 55 & 4.46 & 4.47 & 0\\\\\n",
              "\t 1.58 & 59.1 & 59 & 7.68 & 7.59 & 1\\\\\n",
              "\t 0.57 & 61.5 & 55 & 5.33 & 5.37 & 0\\\\\n",
              "\t 0.53 & 62.1 & 55 & 5.18 & 5.22 & 0\\\\\n",
              "\t 0.76 & 61.3 & 59 & 5.85 & 5.83 & 0\\\\\n",
              "\t 0.31 & 62.0 & 56 & 4.33 & 4.35 & 0\\\\\n",
              "\\end{tabular}\n"
            ],
            "text/markdown": [
              "\n",
              "A tibble: 6 × 6\n",
              "\n",
              "| carat &lt;dbl&gt; | depth &lt;dbl&gt; | table &lt;dbl&gt; | x &lt;dbl&gt; | y &lt;dbl&gt; | price_bin &lt;fct&gt; |\n",
              "|---|---|---|---|---|---|\n",
              "| 0.33 | 61.6 | 55 | 4.46 | 4.47 | 0 |\n",
              "| 1.58 | 59.1 | 59 | 7.68 | 7.59 | 1 |\n",
              "| 0.57 | 61.5 | 55 | 5.33 | 5.37 | 0 |\n",
              "| 0.53 | 62.1 | 55 | 5.18 | 5.22 | 0 |\n",
              "| 0.76 | 61.3 | 59 | 5.85 | 5.83 | 0 |\n",
              "| 0.31 | 62.0 | 56 | 4.33 | 4.35 | 0 |\n",
              "\n"
            ],
            "text/plain": [
              "  carat depth table x    y    price_bin\n",
              "1 0.33  61.6  55    4.46 4.47 0        \n",
              "2 1.58  59.1  59    7.68 7.59 1        \n",
              "3 0.57  61.5  55    5.33 5.37 0        \n",
              "4 0.53  62.1  55    5.18 5.22 0        \n",
              "5 0.76  61.3  59    5.85 5.83 0        \n",
              "6 0.31  62.0  56    4.33 4.35 0        "
            ]
          },
          "metadata": {},
          "output_type": "display_data"
        },
        {
          "data": {
            "text/html": [
              "<style>\n",
              ".list-inline {list-style: none; margin:0; padding: 0}\n",
              ".list-inline>li {display: inline-block}\n",
              ".list-inline>li:not(:last-child)::after {content: \"\\00b7\"; padding: 0 .5ex}\n",
              "</style>\n",
              "<ol class=list-inline><li>37759</li><li>6</li></ol>\n"
            ],
            "text/latex": [
              "\\begin{enumerate*}\n",
              "\\item 37759\n",
              "\\item 6\n",
              "\\end{enumerate*}\n"
            ],
            "text/markdown": [
              "1. 37759\n",
              "2. 6\n",
              "\n",
              "\n"
            ],
            "text/plain": [
              "[1] 37759     6"
            ]
          },
          "metadata": {},
          "output_type": "display_data"
        },
        {
          "data": {
            "text/html": [
              "16182"
            ],
            "text/latex": [
              "16182"
            ],
            "text/markdown": [
              "16182"
            ],
            "text/plain": [
              "[1] 16182"
            ]
          },
          "metadata": {},
          "output_type": "display_data"
        }
      ],
      "source": [
        "set.seed(2023)\n",
        "\n",
        "#total number of observations\n",
        "#nrow(ds)\n",
        "\n",
        "#doing this the fastest way (according to what functions I already have in my brain)\n",
        "\n",
        "#shuffle the order of the whole dataset by row\n",
        "shuffle_index = sample(c(1:nrow(ds)), nrow(ds), replace = FALSE)\n",
        "shuffle_ds = ds[shuffle_index, ]\n",
        "\n",
        "#test = first 30 (works since ds is now randomly ordered)\n",
        "test = shuffle_ds[c(1:(nrow(ds)*.3)),]\n",
        "train = shuffle_ds[c((nrow(ds)*.3):nrow(ds)),]\n",
        "\n",
        "#check\n",
        "head(test)\n",
        "dim(test)\n",
        "head(train)\n",
        "dim(train)\n",
        "\n",
        "nrow(ds)*.3  #16182 is indeed 30% of the data\n"
      ]
    },
    {
      "cell_type": "markdown",
      "metadata": {
        "id": "lFtmRUBN_cZF"
      },
      "source": [
        "## 2: KNN (3 points)\n",
        "----\n",
        "Now, use the `knn()` function from the `class` library to predict `price_bin` from the `carat` and `depth`. Set `k = 3`.\n",
        "\n",
        "*Hint: Review the format required for the arguments of knn()*"
      ]
    },
    {
      "cell_type": "code",
      "execution_count": null,
      "metadata": {
        "id": "9pcL8AM9_cZG",
        "scrolled": true,
        "vscode": {
          "languageId": "r"
        }
      },
      "outputs": [],
      "source": [
        "set.seed(2023)\n",
        "\n",
        "knn_ds = knn(train[, c(\"carat\", \"depth\")], test[, c(\"carat\", \"depth\")], cl = train$price_bin, k = 3)\n",
        "\n"
      ]
    },
    {
      "cell_type": "markdown",
      "metadata": {
        "id": "RXnTKbdi_cZG"
      },
      "source": [
        "Now, output a confusion matrix and calculate the test error to evaluate model performance."
      ]
    },
    {
      "cell_type": "code",
      "execution_count": null,
      "metadata": {
        "id": "qhwTYq9B_cZH",
        "vscode": {
          "languageId": "r"
        },
        "outputId": "897b210e-fa3f-46ee-d8a8-bdf186e80671"
      },
      "outputs": [
        {
          "data": {
            "text/plain": [
              "         Actual\n",
              "Predicted    0    1\n",
              "        0 9705  322\n",
              "        1  541 5614"
            ]
          },
          "metadata": {},
          "output_type": "display_data"
        },
        {
          "data": {
            "text/html": [
              "0.0533"
            ],
            "text/latex": [
              "0.0533"
            ],
            "text/markdown": [
              "0.0533"
            ],
            "text/plain": [
              "[1] 0.0533"
            ]
          },
          "metadata": {},
          "output_type": "display_data"
        }
      ],
      "source": [
        "conf_matrix = table(Predicted = knn_ds, Actual = test$price_bin)\n",
        "conf_matrix\n",
        "\n",
        "test_error = mean(knn_ds != test$price_bin)\n",
        "round(test_error, 4)"
      ]
    },
    {
      "cell_type": "markdown",
      "metadata": {
        "id": "mOQSLQ37_cZK"
      },
      "source": [
        "How did your model perform?\n",
        "> The model appears to have performed very well. We can tell from the test error rate (0.0533), which indicates that 5.33% of the rpedictions were not correctly classified and that 94.67% of the data was correctly classified - i.e., the model was 94.67% accurate. This appears consisten with the confusion matrix created.\n"
      ]
    },
    {
      "cell_type": "markdown",
      "metadata": {
        "id": "p0lvEh3F_cZL"
      },
      "source": [
        "Let's try to improve our model by adding all of the other variables in our data set as predictors. Rerun your `knn()` below, keeping `k = 3`. Again, output a confusion matrix and error rate for your updated model fit."
      ]
    },
    {
      "cell_type": "code",
      "execution_count": null,
      "metadata": {
        "id": "KWsncoDP_cZL",
        "vscode": {
          "languageId": "r"
        },
        "outputId": "14bed755-38a7-455d-83b3-c0bfbe6aaab1"
      },
      "outputs": [
        {
          "data": {
            "text/plain": [
              "         Actual\n",
              "Predicted     0     1\n",
              "        0 10237    10\n",
              "        1     9  5926"
            ]
          },
          "metadata": {},
          "output_type": "display_data"
        },
        {
          "data": {
            "text/html": [
              "0.0012"
            ],
            "text/latex": [
              "0.0012"
            ],
            "text/markdown": [
              "0.0012"
            ],
            "text/plain": [
              "[1] 0.0012"
            ]
          },
          "metadata": {},
          "output_type": "display_data"
        }
      ],
      "source": [
        "set.seed(2023)\n",
        "\n",
        "knn_ds2 = knn(select(train, -price_bin, everything()), select(test, - price_bin, everything()), cl = train$price_bin, k = 3)\n",
        "\n",
        "conf_matrix = table(Predicted = knn_ds2, Actual = test$price_bin)\n",
        "conf_matrix\n",
        "\n",
        "test_error = mean(knn_ds2 != test$price_bin)\n",
        "round(test_error, 4)\n"
      ]
    },
    {
      "cell_type": "markdown",
      "metadata": {
        "id": "t2Dyykaf_cZM"
      },
      "source": [
        "Did your model predictions improve?\n",
        "> The model predictions do appear to have greatly improved. Specifically, the test error rate has decreased from 5.33% to 0.12%, making the model increase from 94.67% accuracy to 98.88% accuracy. The number of false positives and false negatives has also greatly falled (from 541 to 9 and 322 to 10 respectively).\n",
        ">\n",
        "\n"
      ]
    },
    {
      "cell_type": "markdown",
      "metadata": {
        "id": "WYHprC4m_cZN"
      },
      "source": [
        "# 3: for loop (3 points)\n",
        "----\n",
        "\n",
        "So adding additional predictors didn't shift our error much. Let's see if adjusting `k` has a larger impact on model accuracy.\n",
        "\n",
        "Using your initial model above with just `carat` and `depth`, run a `for loop` that runs the same model 30 times, for `k = 1:30`.\n",
        "\n",
        "Output a data frame that has `k` and the overall `error` as columns.\n",
        "\n",
        "The structure of the output data frame and `for loop` are provided for you below. Note that your loop will take a minute or two to run because there are so many observations in the dataset. It may be helpful while you are writing and testing your loop to run it on a subset of the data with only a handful of rows."
      ]
    },
    {
      "cell_type": "code",
      "execution_count": null,
      "metadata": {
        "id": "D-GAvxGH_cZN",
        "vscode": {
          "languageId": "r"
        },
        "outputId": "b757f851-14e4-498d-f1ce-8f09118464f3"
      },
      "outputs": [
        {
          "data": {
            "text/html": [
              "<table class=\"dataframe\">\n",
              "<caption>A data.frame: 6 × 2</caption>\n",
              "<thead>\n",
              "\t<tr><th></th><th scope=col>k</th><th scope=col>error</th></tr>\n",
              "\t<tr><th></th><th scope=col>&lt;int&gt;</th><th scope=col>&lt;lgl&gt;</th></tr>\n",
              "</thead>\n",
              "<tbody>\n",
              "\t<tr><th scope=row>1</th><td>1</td><td>NA</td></tr>\n",
              "\t<tr><th scope=row>2</th><td>2</td><td>NA</td></tr>\n",
              "\t<tr><th scope=row>3</th><td>3</td><td>NA</td></tr>\n",
              "\t<tr><th scope=row>4</th><td>4</td><td>NA</td></tr>\n",
              "\t<tr><th scope=row>5</th><td>5</td><td>NA</td></tr>\n",
              "\t<tr><th scope=row>6</th><td>6</td><td>NA</td></tr>\n",
              "</tbody>\n",
              "</table>\n"
            ],
            "text/latex": [
              "A data.frame: 6 × 2\n",
              "\\begin{tabular}{r|ll}\n",
              "  & k & error\\\\\n",
              "  & <int> & <lgl>\\\\\n",
              "\\hline\n",
              "\t1 & 1 & NA\\\\\n",
              "\t2 & 2 & NA\\\\\n",
              "\t3 & 3 & NA\\\\\n",
              "\t4 & 4 & NA\\\\\n",
              "\t5 & 5 & NA\\\\\n",
              "\t6 & 6 & NA\\\\\n",
              "\\end{tabular}\n"
            ],
            "text/markdown": [
              "\n",
              "A data.frame: 6 × 2\n",
              "\n",
              "| <!--/--> | k &lt;int&gt; | error &lt;lgl&gt; |\n",
              "|---|---|---|\n",
              "| 1 | 1 | NA |\n",
              "| 2 | 2 | NA |\n",
              "| 3 | 3 | NA |\n",
              "| 4 | 4 | NA |\n",
              "| 5 | 5 | NA |\n",
              "| 6 | 6 | NA |\n",
              "\n"
            ],
            "text/plain": [
              "  k error\n",
              "1 1 NA   \n",
              "2 2 NA   \n",
              "3 3 NA   \n",
              "4 4 NA   \n",
              "5 5 NA   \n",
              "6 6 NA   "
            ]
          },
          "metadata": {},
          "output_type": "display_data"
        }
      ],
      "source": [
        "# this is provided\n",
        "# setting up empty table to store for loop output\n",
        "output  <- data.frame(k = seq(1:30),\n",
        "                     error = rep(NA, 30))\n",
        "head(output)"
      ]
    },
    {
      "cell_type": "code",
      "execution_count": null,
      "metadata": {
        "id": "we6mzfCJ_cZN",
        "scrolled": true,
        "vscode": {
          "languageId": "r"
        },
        "outputId": "550e1a1c-0486-41f8-f006-9e02390d5dc1"
      },
      "outputs": [
        {
          "data": {
            "text/html": [
              "<table class=\"dataframe\">\n",
              "<caption>A data.frame: 6 × 2</caption>\n",
              "<thead>\n",
              "\t<tr><th></th><th scope=col>k</th><th scope=col>error</th></tr>\n",
              "\t<tr><th></th><th scope=col>&lt;int&gt;</th><th scope=col>&lt;dbl&gt;</th></tr>\n",
              "</thead>\n",
              "<tbody>\n",
              "\t<tr><th scope=row>1</th><td>1</td><td>0.05333086</td></tr>\n",
              "\t<tr><th scope=row>2</th><td>2</td><td>0.05456680</td></tr>\n",
              "\t<tr><th scope=row>3</th><td>3</td><td>0.05277469</td></tr>\n",
              "\t<tr><th scope=row>4</th><td>4</td><td>0.05252750</td></tr>\n",
              "\t<tr><th scope=row>5</th><td>5</td><td>0.05209492</td></tr>\n",
              "\t<tr><th scope=row>6</th><td>6</td><td>0.05221851</td></tr>\n",
              "</tbody>\n",
              "</table>\n"
            ],
            "text/latex": [
              "A data.frame: 6 × 2\n",
              "\\begin{tabular}{r|ll}\n",
              "  & k & error\\\\\n",
              "  & <int> & <dbl>\\\\\n",
              "\\hline\n",
              "\t1 & 1 & 0.05333086\\\\\n",
              "\t2 & 2 & 0.05456680\\\\\n",
              "\t3 & 3 & 0.05277469\\\\\n",
              "\t4 & 4 & 0.05252750\\\\\n",
              "\t5 & 5 & 0.05209492\\\\\n",
              "\t6 & 6 & 0.05221851\\\\\n",
              "\\end{tabular}\n"
            ],
            "text/markdown": [
              "\n",
              "A data.frame: 6 × 2\n",
              "\n",
              "| <!--/--> | k &lt;int&gt; | error &lt;dbl&gt; |\n",
              "|---|---|---|\n",
              "| 1 | 1 | 0.05333086 |\n",
              "| 2 | 2 | 0.05456680 |\n",
              "| 3 | 3 | 0.05277469 |\n",
              "| 4 | 4 | 0.05252750 |\n",
              "| 5 | 5 | 0.05209492 |\n",
              "| 6 | 6 | 0.05221851 |\n",
              "\n"
            ],
            "text/plain": [
              "  k error     \n",
              "1 1 0.05333086\n",
              "2 2 0.05456680\n",
              "3 3 0.05277469\n",
              "4 4 0.05252750\n",
              "5 5 0.05209492\n",
              "6 6 0.05221851"
            ]
          },
          "metadata": {},
          "output_type": "display_data"
        }
      ],
      "source": [
        "for (k in seq(1:30)){\n",
        "    knn_fits  <- knn(train[, c(\"carat\", \"depth\")], test[, c(\"carat\", \"depth\")], cl = train$price_bin, k)\n",
        "\n",
        "    #overall error\n",
        "    conf_df  <- table(Predicted = knn_fits, Actual = test$price_bin) # data frame of test predictions versus actual test\n",
        "    output$error[k]  <- mean(knn_fits != test$price_bin)  #calculate error from conf_df and add to your output dataframe\n",
        "\n",
        "}\n",
        "head(output)"
      ]
    },
    {
      "cell_type": "markdown",
      "metadata": {
        "id": "Ofk0jafy_cZN"
      },
      "source": [
        "Create a line plot of your `output` object using `ggplot`. Add a (non-linear) `geom_smooth` layer."
      ]
    },
    {
      "cell_type": "code",
      "execution_count": null,
      "metadata": {
        "id": "9Oia_P98_cZN",
        "vscode": {
          "languageId": "r"
        },
        "outputId": "f428813c-cb41-4a4f-8000-cae1ecd6cbb9"
      },
      "outputs": [
        {
          "name": "stderr",
          "output_type": "stream",
          "text": [
            "\u001b[1m\u001b[22m`geom_smooth()` using method = 'loess' and formula = 'y ~ x'\n"
          ]
        },
        {
          "data": {
            "image/png": "[encoded data removed]",
            "text/plain": [
              "plot without title"
            ]
          },
          "metadata": {
            "image/png": {
              "height": 420,
              "width": 420
            }
          },
          "output_type": "display_data"
        }
      ],
      "source": [
        "ggplot(data = output, mapping = aes(x = k, y = error)) + geom_line() + geom_smooth()"
      ]
    },
    {
      "cell_type": "markdown",
      "metadata": {
        "id": "EG2gQhU0_cZO"
      },
      "source": [
        "Interpret your plot. What would you select as the best value of `k`? How much does this improve your test error?\n",
        "> Error seems to be reduced as k increase up until around k = 19, where error actually appears to begin to increase. As such, the best value of k for this model is around k = 20. This improves test error from our previous one at k = 3 (5.33%) to an estimated 5.17%.\n"
      ]
    },
    {
      "cell_type": "markdown",
      "metadata": {
        "id": "R5GYp8mt_cZO"
      },
      "source": [
        "# 4: Standardizing predictors (2)\n",
        "-----\n",
        "\n",
        "Because knn is based on distances between points, it is very sensitive to the scale of your variables. Looking at our predictor variables, we can see that `carat` and `depth` are orders of magnitude different in terms of scales. Maybe we can improve our fit even more by addressing this!\n",
        "\n",
        "Below, use the `scale()` function to standardize your predictors. (Note that you don't need to standardize `price_bin`.)\n",
        "\n",
        "Then, run your model a final time with your standardized predictors (just `carat` and `depth` still). Set `k` to the optimal value you determined in your plot above. Output the confusion matrix and error rate again."
      ]
    },
    {
      "cell_type": "code",
      "execution_count": null,
      "metadata": {
        "id": "DVAfP_iB_cZO",
        "vscode": {
          "languageId": "r"
        },
        "outputId": "7e9f9285-9f0a-4e4d-b3a6-0bfce9c1439f"
      },
      "outputs": [
        {
          "data": {
            "text/plain": [
              "         Actual\n",
              "Predicted    0    1\n",
              "        0 9711  321\n",
              "        1  535 5615"
            ]
          },
          "metadata": {},
          "output_type": "display_data"
        },
        {
          "data": {
            "text/html": [
              "0.0529"
            ],
            "text/latex": [
              "0.0529"
            ],
            "text/markdown": [
              "0.0529"
            ],
            "text/plain": [
              "[1] 0.0529"
            ]
          },
          "metadata": {},
          "output_type": "display_data"
        }
      ],
      "source": [
        "set.seed(2023)\n",
        "\n",
        "train_predictors = train[, c(\"carat\", \"depth\")]\n",
        "test_predictors = test[, c(\"carat\", \"depth\")]\n",
        "\n",
        "train_labels = train$price_bin\n",
        "test_labels = test$price_bin\n",
        "\n",
        "scaled_train <- scale(train_predictors)\n",
        "scaled_test <- scale(test_predictors, center = attr(scaled_train, \"scaled:center\"), scale = attr(scaled_train, \"scaled:scale\"))\n",
        "\n",
        "knn_ds3 = knn(scaled_train[, c(\"carat\", \"depth\")], scaled_test[, c(\"carat\", \"depth\")], cl = train_labels, k = 3)\n",
        "\n",
        "conf_matrix = table(Predicted = knn_ds3, Actual = test_labels)\n",
        "conf_matrix\n",
        "\n",
        "test_error = mean(knn_ds3 != test_labels)\n",
        "round(test_error, 4)\n"
      ]
    },
    {
      "cell_type": "markdown",
      "metadata": {
        "id": "yl3pqjEA_cZO"
      },
      "source": [
        "What impact did rescaling the data have on your error rate?\n",
        "> Rescaling the data did help to reduce error rate, reducing it from 5.33% to 5.29%\n"
      ]
    },
    {
      "cell_type": "markdown",
      "metadata": {
        "id": "XSFcQXke_cZO"
      },
      "source": [
        "**DUE:** 11:59 pm March 19, 2025\n",
        "\n",
        "**IMPORTANT** Did you collaborate with anyone on this assignment? If so, list their names here.\n",
        "> *Someone's Name*\n",
        ">\n",
        ">\n"
      ]
    }
  ],
  "metadata": {
    "colab": {
      "provenance": [],
      "toc_visible": true
    },
    "kernelspec": {
      "display_name": "R",
      "language": "R",
      "name": "ir"
    },
    "language_info": {
      "codemirror_mode": "r",
      "file_extension": ".r",
      "mimetype": "text/x-r-source",
      "name": "R",
      "pygments_lexer": "r",
      "version": "4.4.2"
    }
  },
  "nbformat": 4,
  "nbformat_minor": 0
}