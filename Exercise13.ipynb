{
 "cells": [
  {
   "cell_type": "markdown",
   "metadata": {},
   "source": [
    "<a href=\"https://colab.research.google.com/github/CoAxLab/Data-Explorations/blob/main/book/exercises/resampling-methods.ipynb\" target=\"_parent\"><img src=\"https://colab.research.google.com/assets/colab-badge.svg\" alt=\"Open In Colab\"/></a>"
   ]
  },
  {
   "cell_type": "markdown",
   "metadata": {
    "id": "YO9Lm6oNn8Ol"
   },
   "source": [
    "# Exercise 13:  Resampling methods\n",
    "\n",
    "This homework assignment is designed to give you practice with bootstrapping and permutation tests.\n",
    "\n",
    "You will need to download the **unrestricted_trimmed_1_7_2020_10_50_44.csv** file from the *Homework/hcp_data* folder in the class GitHub repository. \n",
    "\n",
    "This data is a portion of the [Human Connectome Project database](http://www.humanconnectomeproject.org/). It provides measures of cognitive tasks and brain morphology measuresments from 1206 participants. The full description of each variable is provided in the **HCP_S1200_DataDictionary_April_20_2018.csv** file in the *Homework/hcp_data* folder in the class GitHub repository."
   ]
  },
  {
   "cell_type": "markdown",
   "metadata": {
    "id": "h8YQJS8Dn8Or"
   },
   "source": [
    "---\n",
    "## 1. Loading & Visualizing the Data (1 point)\n",
    "\n",
    "Use the `setwd` and `read.csv` functions to load data from the **unrestricted_trimmed_1_7_2020_10_50_44.csv** file. \n",
    "\n",
    "(a) Using the tidyverse tools, make a new dataframe `d1` that only inclues the subject ID (`Subject`), gender (`Gender`, self reported at time of data collection), Flanker Task performance (`Flanker_Unadj`), total intracranial volume (`FS_IntraCranial_Vol`), total white matter volume (`FS_Tot_WM_Vol`), and total grey matter volume (`FS_Total_GM_Vol`) variables and remove all _na_ values.\n",
    "\n",
    "Use the `head` function to look at the first few rows of each data frame. "
   ]
  },
  {
   "cell_type": "code",
   "execution_count": 7,
   "metadata": {
    "id": "ja0PYvbIn8Os",
    "vscode": {
     "languageId": "r"
    }
   },
   "outputs": [
    {
     "data": {
      "text/html": [
       "<table class=\"dataframe\">\n",
       "<caption>A data.frame: 6 × 6</caption>\n",
       "<thead>\n",
       "\t<tr><th></th><th scope=col>Subject</th><th scope=col>Gender</th><th scope=col>Flanker_Unadj</th><th scope=col>FS_IntraCranial_Vol</th><th scope=col>FS_Tot_WM_Vol</th><th scope=col>FS_Total_GM_Vol</th></tr>\n",
       "\t<tr><th></th><th scope=col>&lt;int&gt;</th><th scope=col>&lt;chr&gt;</th><th scope=col>&lt;dbl&gt;</th><th scope=col>&lt;dbl&gt;</th><th scope=col>&lt;int&gt;</th><th scope=col>&lt;int&gt;</th></tr>\n",
       "</thead>\n",
       "<tbody>\n",
       "\t<tr><th scope=row>2</th><td>100206</td><td>M</td><td>130.42</td><td>1864518</td><td>543134</td><td>807245</td></tr>\n",
       "\t<tr><th scope=row>3</th><td>100307</td><td>F</td><td>112.56</td><td>1512540</td><td>407292</td><td>664124</td></tr>\n",
       "\t<tr><th scope=row>4</th><td>100408</td><td>M</td><td>121.18</td><td>1684117</td><td>500417</td><td>726206</td></tr>\n",
       "\t<tr><th scope=row>5</th><td>100610</td><td>M</td><td>126.53</td><td>1816044</td><td>512946</td><td>762308</td></tr>\n",
       "\t<tr><th scope=row>6</th><td>101006</td><td>F</td><td>101.85</td><td>1437868</td><td>429449</td><td>579632</td></tr>\n",
       "\t<tr><th scope=row>7</th><td>101107</td><td>M</td><td>107.04</td><td>1512727</td><td>416995</td><td>665024</td></tr>\n",
       "</tbody>\n",
       "</table>\n"
      ],
      "text/latex": [
       "A data.frame: 6 × 6\n",
       "\\begin{tabular}{r|llllll}\n",
       "  & Subject & Gender & Flanker\\_Unadj & FS\\_IntraCranial\\_Vol & FS\\_Tot\\_WM\\_Vol & FS\\_Total\\_GM\\_Vol\\\\\n",
       "  & <int> & <chr> & <dbl> & <dbl> & <int> & <int>\\\\\n",
       "\\hline\n",
       "\t2 & 100206 & M & 130.42 & 1864518 & 543134 & 807245\\\\\n",
       "\t3 & 100307 & F & 112.56 & 1512540 & 407292 & 664124\\\\\n",
       "\t4 & 100408 & M & 121.18 & 1684117 & 500417 & 726206\\\\\n",
       "\t5 & 100610 & M & 126.53 & 1816044 & 512946 & 762308\\\\\n",
       "\t6 & 101006 & F & 101.85 & 1437868 & 429449 & 579632\\\\\n",
       "\t7 & 101107 & M & 107.04 & 1512727 & 416995 & 665024\\\\\n",
       "\\end{tabular}\n"
      ],
      "text/markdown": [
       "\n",
       "A data.frame: 6 × 6\n",
       "\n",
       "| <!--/--> | Subject &lt;int&gt; | Gender &lt;chr&gt; | Flanker_Unadj &lt;dbl&gt; | FS_IntraCranial_Vol &lt;dbl&gt; | FS_Tot_WM_Vol &lt;int&gt; | FS_Total_GM_Vol &lt;int&gt; |\n",
       "|---|---|---|---|---|---|---|\n",
       "| 2 | 100206 | M | 130.42 | 1864518 | 543134 | 807245 |\n",
       "| 3 | 100307 | F | 112.56 | 1512540 | 407292 | 664124 |\n",
       "| 4 | 100408 | M | 121.18 | 1684117 | 500417 | 726206 |\n",
       "| 5 | 100610 | M | 126.53 | 1816044 | 512946 | 762308 |\n",
       "| 6 | 101006 | F | 101.85 | 1437868 | 429449 | 579632 |\n",
       "| 7 | 101107 | M | 107.04 | 1512727 | 416995 | 665024 |\n",
       "\n"
      ],
      "text/plain": [
       "  Subject Gender Flanker_Unadj FS_IntraCranial_Vol FS_Tot_WM_Vol\n",
       "2 100206  M      130.42        1864518             543134       \n",
       "3 100307  F      112.56        1512540             407292       \n",
       "4 100408  M      121.18        1684117             500417       \n",
       "5 100610  M      126.53        1816044             512946       \n",
       "6 101006  F      101.85        1437868             429449       \n",
       "7 101107  M      107.04        1512727             416995       \n",
       "  FS_Total_GM_Vol\n",
       "2 807245         \n",
       "3 664124         \n",
       "4 726206         \n",
       "5 762308         \n",
       "6 579632         \n",
       "7 665024         "
      ]
     },
     "metadata": {},
     "output_type": "display_data"
    }
   ],
   "source": [
    "#setwd(\"C:/Users/MJ/Destop/data_science\")\n",
    "ds = read.csv(\"unrestricted_trimmed_1_7_2020_10_50_44.csv\")\n",
    "\n",
    "library(tidyverse)\n",
    "d1 = na.omit(select(ds, Subject, Gender, Flanker_Unadj, FS_IntraCranial_Vol, FS_Tot_WM_Vol, FS_Total_GM_Vol))\n",
    "\n",
    "head(d1)\n"
   ]
  },
  {
   "cell_type": "markdown",
   "metadata": {
    "id": "t7Eonkzzn8Ot"
   },
   "source": [
    "(b) Plot grey matter volume (x axis) against intracranial volume (y axis) and Gender (point color). "
   ]
  },
  {
   "cell_type": "code",
   "execution_count": 12,
   "metadata": {
    "id": "eJuQ_rSYn8Ou",
    "vscode": {
     "languageId": "r"
    }
   },
   "outputs": [
    {
     "data": {
      "image/png": "[encoded data removed]",
      "text/plain": [
       "plot without title"
      ]
     },
     "metadata": {
      "image/png": {
       "height": 420,
       "width": 420
      }
     },
     "output_type": "display_data"
    }
   ],
   "source": [
    "library(ggplot2)\n",
    "\n",
    "ggplot(data = d1, mapping = aes(x = FS_Total_GM_Vol, y = FS_IntraCranial_Vol, color = Gender)) + geom_point()\n",
    "\n"
   ]
  },
  {
   "cell_type": "markdown",
   "metadata": {
    "id": "GgrlW2Lkn8Ou"
   },
   "source": [
    "What patterns do you observe in the scatter plot?"
   ]
  },
  {
   "cell_type": "markdown",
   "metadata": {
    "id": "L9IcxyXrn8Ou"
   },
   "source": [
    "> There appears (solely based on the plot) to be a a general positive relationship between gray matter volume and intracranial volume. There also appears to be a main effect of gender such that althouogh the same trend (mentioned earlier) exists for both female and male participants, female participants appear to have lower gray matter and intracranial volume than male participants.\n",
    "> "
   ]
  },
  {
   "cell_type": "markdown",
   "metadata": {
    "id": "ZyRo6pa9n8Oy"
   },
   "source": [
    "---\n",
    "## 2. Logistic classifier (2 points)"
   ]
  },
  {
   "cell_type": "markdown",
   "metadata": {
    "id": "ZOwhhD43n8Oz"
   },
   "source": [
    "We want to try predicting gender using the neural data you have loaded.\n",
    "\n",
    "(a) Run a logisic regression model to predict gender from total white matter volume, total grey matter volume, and intracranial volume. "
   ]
  },
  {
   "cell_type": "code",
   "execution_count": 26,
   "metadata": {
    "id": "SHnmjiGEalHa",
    "scrolled": true,
    "vscode": {
     "languageId": "r"
    }
   },
   "outputs": [
    {
     "data": {
      "text/plain": [
       "\n",
       "Call:\n",
       "glm(formula = Gender ~ FS_IntraCranial_Vol + FS_Tot_WM_Vol + \n",
       "    FS_Total_GM_Vol, family = \"binomial\", data = d1)\n",
       "\n",
       "Coefficients:\n",
       "                      Estimate Std. Error z value Pr(>|z|)    \n",
       "(Intercept)         -2.262e+01  1.347e+00 -16.787  < 2e-16 ***\n",
       "FS_IntraCranial_Vol  5.020e-06  1.177e-06   4.263 2.01e-05 ***\n",
       "FS_Tot_WM_Vol        2.140e-06  3.059e-06   0.699    0.484    \n",
       "FS_Total_GM_Vol      1.959e-05  3.145e-06   6.229 4.70e-10 ***\n",
       "---\n",
       "Signif. codes:  0 '***' 0.001 '**' 0.01 '*' 0.05 '.' 0.1 ' ' 1\n",
       "\n",
       "(Dispersion parameter for binomial family taken to be 1)\n",
       "\n",
       "    Null deviance: 1534.13  on 1112  degrees of freedom\n",
       "Residual deviance:  919.85  on 1109  degrees of freedom\n",
       "AIC: 927.85\n",
       "\n",
       "Number of Fisher Scoring iterations: 5\n"
      ]
     },
     "metadata": {},
     "output_type": "display_data"
    }
   ],
   "source": [
    "d1$Gender = as.factor(d1$Gender)\n",
    "\n",
    "mod1 = glm(Gender ~ FS_IntraCranial_Vol + FS_Tot_WM_Vol + FS_Total_GM_Vol, data = d1, family = \"binomial\")\n",
    "\n",
    "summary(mod1)\n"
   ]
  },
  {
   "cell_type": "markdown",
   "metadata": {
    "id": "TJsxKecfn8Oz"
   },
   "source": [
    "Which factors are signficantly associated with gender?"
   ]
  },
  {
   "cell_type": "markdown",
   "metadata": {
    "id": "Zx8Qoy7Xn8O0"
   },
   "source": [
    "> Intracranial volume and gray amtter volume are significantly associated with gender.\n",
    "> "
   ]
  },
  {
   "cell_type": "markdown",
   "metadata": {
    "id": "mcxF31C7n8O0"
   },
   "source": [
    "(b) Estimate the prediction accuracy of your model (Note: this is the training set accuracy). Set your prediction threshold to 0.5."
   ]
  },
  {
   "cell_type": "code",
   "execution_count": 54,
   "metadata": {
    "id": "2qb1RosDn8O0",
    "scrolled": true,
    "vscode": {
     "languageId": "r"
    }
   },
   "outputs": [
    {
     "data": {
      "text/html": [
       "0.810422282120395"
      ],
      "text/latex": [
       "0.810422282120395"
      ],
      "text/markdown": [
       "0.810422282120395"
      ],
      "text/plain": [
       "[1] 0.8104223"
      ]
     },
     "metadata": {},
     "output_type": "display_data"
    }
   ],
   "source": [
    "#d1$Gender\n",
    "#tells us that F is the Gender = 0 value\n",
    "\n",
    "pred = predict.glm(mod1, newdata = d1)\n",
    "act = d1$Gender\n",
    "\n",
    "og_acc = mean((ifelse(pred > 0.5, \"M\", \"F\")) == act) #save for later\n",
    "og_acc"
   ]
  },
  {
   "cell_type": "markdown",
   "metadata": {
    "id": "KHLfOMe-n8O0"
   },
   "source": [
    "What is the prediction accuracy for gender from the full model?"
   ]
  },
  {
   "cell_type": "markdown",
   "metadata": {
    "id": "eN9SGyESn8O1"
   },
   "source": [
    "> 81.04%\n",
    "> "
   ]
  },
  {
   "attachments": {},
   "cell_type": "markdown",
   "metadata": {
    "id": "9Y_ftEZPn8O1"
   },
   "source": [
    "---\n",
    "## 3. Bootstrapped accuracy (3 points)\n",
    "\n",
    "Use bootstrapping to estimate the confidence intervals of the _prediction accuracy_ of your model (i.e., the confidence of the correlation between $\\hat{y}$ and $y$). Plot the histogram of the bootstrapped prediction accuracies and estimate the confidence intervals off of the standard deviation from the bootstrap.\n"
   ]
  },
  {
   "cell_type": "code",
   "execution_count": 45,
   "metadata": {
    "id": "mwBjwZLIn8O1",
    "vscode": {
     "languageId": "r"
    }
   },
   "outputs": [
    {
     "data": {
      "text/plain": [
       "\n",
       "ORDINARY NONPARAMETRIC BOOTSTRAP\n",
       "\n",
       "\n",
       "Call:\n",
       "boot(data = d1, statistic = acc, R = 1000)\n",
       "\n",
       "\n",
       "Bootstrap Statistics :\n",
       "     original        bias    std. error\n",
       "t1* 0.8203055 -0.0001769991  0.01218788"
      ]
     },
     "metadata": {},
     "output_type": "display_data"
    },
    {
     "data": {
      "text/plain": [
       "BOOTSTRAP CONFIDENCE INTERVAL CALCULATIONS\n",
       "Based on 1000 bootstrap replicates\n",
       "\n",
       "CALL : \n",
       "boot.ci(boot.out = boot_res, type = c(\"norm\", \"perc\"))\n",
       "\n",
       "Intervals : \n",
       "Level      Normal             Percentile     \n",
       "95%   ( 0.7966,  0.8444 )   ( 0.7951,  0.8428 )  \n",
       "Calculations and Intervals on Original Scale"
      ]
     },
     "metadata": {},
     "output_type": "display_data"
    },
    {
     "data": {
      "image/png": "[encoded data removed]",
      "text/plain": [
       "Plot with title \"Histogram of boot_res$t\""
      ]
     },
     "metadata": {
      "image/png": {
       "height": 420,
       "width": 420
      }
     },
     "output_type": "display_data"
    }
   ],
   "source": [
    "library(boot)\n",
    "\n",
    "acc = function(d1, samp) {\n",
    "  data = d1[samp, ]\n",
    "  this_mod = glm(Gender ~ FS_IntraCranial_Vol + FS_Tot_WM_Vol + FS_Total_GM_Vol,data = data, family = \"binomial\")\n",
    "  prob = predict(this_mod, type = \"response\")\n",
    "  pred = ifelse(prob > 0.5, 1, 0)\n",
    "  act = ifelse(data$Gender == \"M\", 1, 0)\n",
    "  mean(pred == act)\n",
    "}\n",
    "\n",
    "\n",
    "boot_res = boot(data = d1, statistic = acc, R = 1000)\n",
    "\n",
    "boot_res\n",
    "#histogram\n",
    "hist(boot_res$t, breaks = 20)\n",
    "#CI\n",
    "boot.ci(boot_res, type = c(\"norm\", \"perc\"))"
   ]
  },
  {
   "cell_type": "markdown",
   "metadata": {
    "id": "RflF_i36n8O2"
   },
   "source": [
    "How robust is the prediction accuracy of the full model?"
   ]
  },
  {
   "cell_type": "markdown",
   "metadata": {
    "id": "JDM2tpBMn8O2"
   },
   "source": [
    "> The model appears to be decently robust. This is based on a decently high mean estimate (0.82), a confidence interval that does not contain 0.5 (0.80-0.84; since 0.5 is chance) and a gaussian-shaped curve. "
   ]
  },
  {
   "cell_type": "markdown",
   "metadata": {
    "id": "jZVWq9SVn8O2"
   },
   "source": [
    "---\n",
    "## 4. Permutation test for grey matter effects (3 points)\n",
    "\n",
    "Now run a permutation test, with 1000 iterations, to evaluate how much grey matter volume contributes to the prediction accuracy. Compare the prediction accuracy of the full (unpermuted model) with the distribution of accuracies you get with a randomized grey matter volume term using a histogram (Hint: use the `abline` function to show the original accuracy on the histogram)."
   ]
  },
  {
   "cell_type": "code",
   "execution_count": 62,
   "metadata": {
    "id": "SmtoqASUn8O2",
    "vscode": {
     "languageId": "r"
    }
   },
   "outputs": [
    {
     "data": {
      "text/html": [
       "0.805345013477089"
      ],
      "text/latex": [
       "0.805345013477089"
      ],
      "text/markdown": [
       "0.805345013477089"
      ],
      "text/plain": [
       "[1] 0.805345"
      ]
     },
     "metadata": {},
     "output_type": "display_data"
    },
    {
     "data": {
      "text/html": [
       "0.037"
      ],
      "text/latex": [
       "0.037"
      ],
      "text/markdown": [
       "0.037"
      ],
      "text/plain": [
       "[1] 0.037"
      ]
     },
     "metadata": {},
     "output_type": "display_data"
    },
    {
     "data": {
      "image/png": "[encoded data removed]",
      "text/plain": [
       "Plot with title \"Histogram of acc\""
      ]
     },
     "metadata": {
      "image/png": {
       "height": 420,
       "width": 420
      }
     },
     "output_type": "display_data"
    }
   ],
   "source": [
    "acc = rep(NA, times = 1000)\n",
    "\n",
    "for (i in c(1:1000)) {\n",
    "  # permutate\n",
    "  dperm = d1\n",
    "  dperm$FS_Total_GM_Vol = sample(dperm$FS_Total_GM_Vol)\n",
    "  perm_model = glm(Gender ~ FS_IntraCranial_Vol + FS_Tot_WM_Vol + FS_Total_GM_Vol, data = dperm, family = \"binomial\") #new mod\n",
    "  prob = predict(perm_model, type = \"response\")\n",
    "  pred = ifelse(prob > 0.5, 1, 0) #assign based on 0.5\n",
    "  act = ifelse(dperm$Gender == \"M\", 1, 0)\n",
    "  acc[i] = mean(pred == act) #return and store accuracy\n",
    "}\n",
    "\n",
    "\n",
    "#hist\n",
    "hist(acc, breaks = 20)\n",
    "abline(v = og_acc, lwd = 2)\n",
    "\n",
    "#extra p-value to check numerically\n",
    "mean(acc)\n",
    "p = mean(acc >= og_acc)\n",
    "p"
   ]
  },
  {
   "cell_type": "markdown",
   "metadata": {
    "id": "lMCPgckCn8O3"
   },
   "source": [
    "How much does the grey matter volume influence the prediction accuracy of the model?"
   ]
  },
  {
   "cell_type": "markdown",
   "metadata": {
    "id": "jNk69mfmn8O4"
   },
   "source": [
    "> Gray matter volume appears to matter significantly (delta_acc = 81.04% - 80.53%, p = 0.037) - it is unlikely that the \"true\" mean accuracy would be from this generated data set.\n",
    "> "
   ]
  },
  {
   "cell_type": "markdown",
   "metadata": {
    "id": "E827AOcUn8O4"
   },
   "source": [
    "---\n",
    "## 5. Reflection (1 point)\n",
    "\n",
    "Differentiate the bootstrap from a permutation test. Describe each and when is it appropriate to each."
   ]
  },
  {
   "cell_type": "markdown",
   "metadata": {
    "id": "wVcR2qaOn8O4"
   },
   "source": [
    "> Bootstrapping randomizes the order of rows while permutation randomizes the assignment of x to y. Bootstrapping is used to estimate variablility/confidence intervals while permutations are used to determine the significance of specific effects\n",
    "> "
   ]
  },
  {
   "cell_type": "markdown",
   "metadata": {
    "id": "8PoekVTAn8O4"
   },
   "source": [
    "**DUE:** 5pm EST, March 27, 2024"
   ]
  },
  {
   "cell_type": "markdown",
   "metadata": {
    "id": "PTVa2-bEn8O4"
   },
   "source": [
    "**IMPORTANT** Did you collaborate with anyone on this assignment? If so, list their names here. \n",
    "> *Someone's Name*"
   ]
  }
 ],
 "metadata": {
  "colab": {
   "provenance": []
  },
  "kernelspec": {
   "display_name": "R",
   "language": "R",
   "name": "ir"
  },
  "language_info": {
   "codemirror_mode": "r",
   "file_extension": ".r",
   "mimetype": "text/x-r-source",
   "name": "R",
   "pygments_lexer": "r",
   "version": "4.4.2"
  }
 },
 "nbformat": 4,
 "nbformat_minor": 4
}
