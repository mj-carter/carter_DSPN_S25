{
 "cells": [
  {
   "attachments": {},
   "cell_type": "markdown",
   "metadata": {
    "id": "5sUQy82wJN5i"
   },
   "source": [
    "# Exercise 7:  Linear models\n",
    "\n",
    "This homework assignment is designed to give you practice with linear models and the bias-variance tradeoff. \n",
    "\n",
    "You will need to download the **unrestricted_trimmed_1_7_2020_10_50_44.csv** file from the *Homework/hcp_data* folder in the class GitHub repository. \n",
    "\n",
    "\n",
    "This data is a portion of the [Human Connectome Project database](http://www.humanconnectomeproject.org/). It provides measures of cognitive tasks and brain morphology measuresments from 1206 participants. The full description of each variable is provided in the **HCP_S1200_DataDictionary_April_20_2018.csv** file in the *Homework datasets/hcp_data* folder in the class GitHub repository."
   ]
  },
  {
   "cell_type": "markdown",
   "metadata": {
    "id": "vzH_Qf0SJN5_"
   },
   "source": [
    "---\n",
    "## 1. Loading the Data (1 point)\n",
    "\n",
    "Use the `setwd` and `read.csv` functions to load data from the **unrestricted_trimmed_1_7_2020_10_50_44.csv** file. \n",
    "\n",
    "Using the tidyverse tools, make a new dataframe `d1` that only inclues the subject ID (`Subject`), gender (`Gender`), Flanker Task performance (`Flanker_Unadj`), total white matter volume (`FS_Tot_WM_Vol`), and total grey matter volume (`FS_Total_GM_Vol`) variables and remove all _na_ values.\n",
    "\n",
    "Use the `head` function to look at the first few rows of each data frame. "
   ]
  },
  {
   "cell_type": "code",
   "execution_count": 37,
   "metadata": {
    "id": "g7paDirkJN5_",
    "vscode": {
     "languageId": "r"
    }
   },
   "outputs": [
    {
     "data": {
      "text/html": [
       "<table class=\"dataframe\">\n",
       "<caption>A data.frame: 6 × 5</caption>\n",
       "<thead>\n",
       "\t<tr><th></th><th scope=col>Subject</th><th scope=col>Gender</th><th scope=col>Flanker_Unadj</th><th scope=col>FS_Tot_WM_Vol</th><th scope=col>FS_Total_GM_Vol</th></tr>\n",
       "\t<tr><th></th><th scope=col>&lt;int&gt;</th><th scope=col>&lt;chr&gt;</th><th scope=col>&lt;dbl&gt;</th><th scope=col>&lt;int&gt;</th><th scope=col>&lt;int&gt;</th></tr>\n",
       "</thead>\n",
       "<tbody>\n",
       "\t<tr><th scope=row>2</th><td>100206</td><td>M</td><td>130.42</td><td>543134</td><td>807245</td></tr>\n",
       "\t<tr><th scope=row>3</th><td>100307</td><td>F</td><td>112.56</td><td>407292</td><td>664124</td></tr>\n",
       "\t<tr><th scope=row>4</th><td>100408</td><td>M</td><td>121.18</td><td>500417</td><td>726206</td></tr>\n",
       "\t<tr><th scope=row>5</th><td>100610</td><td>M</td><td>126.53</td><td>512946</td><td>762308</td></tr>\n",
       "\t<tr><th scope=row>6</th><td>101006</td><td>F</td><td>101.85</td><td>429449</td><td>579632</td></tr>\n",
       "\t<tr><th scope=row>7</th><td>101107</td><td>M</td><td>107.04</td><td>416995</td><td>665024</td></tr>\n",
       "</tbody>\n",
       "</table>\n"
      ],
      "text/latex": [
       "A data.frame: 6 × 5\n",
       "\\begin{tabular}{r|lllll}\n",
       "  & Subject & Gender & Flanker\\_Unadj & FS\\_Tot\\_WM\\_Vol & FS\\_Total\\_GM\\_Vol\\\\\n",
       "  & <int> & <chr> & <dbl> & <int> & <int>\\\\\n",
       "\\hline\n",
       "\t2 & 100206 & M & 130.42 & 543134 & 807245\\\\\n",
       "\t3 & 100307 & F & 112.56 & 407292 & 664124\\\\\n",
       "\t4 & 100408 & M & 121.18 & 500417 & 726206\\\\\n",
       "\t5 & 100610 & M & 126.53 & 512946 & 762308\\\\\n",
       "\t6 & 101006 & F & 101.85 & 429449 & 579632\\\\\n",
       "\t7 & 101107 & M & 107.04 & 416995 & 665024\\\\\n",
       "\\end{tabular}\n"
      ],
      "text/markdown": [
       "\n",
       "A data.frame: 6 × 5\n",
       "\n",
       "| <!--/--> | Subject &lt;int&gt; | Gender &lt;chr&gt; | Flanker_Unadj &lt;dbl&gt; | FS_Tot_WM_Vol &lt;int&gt; | FS_Total_GM_Vol &lt;int&gt; |\n",
       "|---|---|---|---|---|---|\n",
       "| 2 | 100206 | M | 130.42 | 543134 | 807245 |\n",
       "| 3 | 100307 | F | 112.56 | 407292 | 664124 |\n",
       "| 4 | 100408 | M | 121.18 | 500417 | 726206 |\n",
       "| 5 | 100610 | M | 126.53 | 512946 | 762308 |\n",
       "| 6 | 101006 | F | 101.85 | 429449 | 579632 |\n",
       "| 7 | 101107 | M | 107.04 | 416995 | 665024 |\n",
       "\n"
      ],
      "text/plain": [
       "  Subject Gender Flanker_Unadj FS_Tot_WM_Vol FS_Total_GM_Vol\n",
       "2 100206  M      130.42        543134        807245         \n",
       "3 100307  F      112.56        407292        664124         \n",
       "4 100408  M      121.18        500417        726206         \n",
       "5 100610  M      126.53        512946        762308         \n",
       "6 101006  F      101.85        429449        579632         \n",
       "7 101107  M      107.04        416995        665024         "
      ]
     },
     "metadata": {},
     "output_type": "display_data"
    }
   ],
   "source": [
    "# If you are running this on your local computer, wet your workign directory to \n",
    "# the location of the lexDat data by setting your harddrive. Uncomment this line\n",
    "# and change the location to where it is on your computer. \n",
    "#setwd(\"~/Documents/PittCMU/G3/DSPN/DataSciencePsychNeuro/Homeworks/hcp_data\")\n",
    "\n",
    "# If you are running this on Colab, then use something like this.\n",
    "# system(\"gdown --id 1hywRmGdvhbDYTrQRyl1_bLJsq-T3GJq2\")\n",
    "\n",
    "library(tidyverse)\n",
    "\n",
    "setwd(\"C:/Users/MJ/Desktop/data_science\")\n",
    "df = read.csv(\"unrestricted_trimmed_1_7_2020_10_50_44.csv\")\n",
    "d1 = select(df, Subject, Gender, Flanker_Unadj, FS_Tot_WM_Vol, FS_Total_GM_Vol)\n",
    "d1 = na.omit(d1)\n",
    "head(d1)\n"
   ]
  },
  {
   "cell_type": "markdown",
   "metadata": {
    "id": "5CFn7tyNJN6H"
   },
   "source": [
    "---\n",
    "## 2. Initial data visualization (2 point)\n",
    "\n",
    "Use the `pairs` function to look at all the pairwise scatterplots of the variables in `d1`. Describe which variables seem positively correlated, negatively correlated, or not correlated at all."
   ]
  },
  {
   "cell_type": "code",
   "execution_count": 38,
   "metadata": {
    "id": "y09NsOxMJN6N",
    "vscode": {
     "languageId": "r"
    }
   },
   "outputs": [
    {
     "data": {
      "image/png": "[encoded data removed]",
      "text/plain": [
       "plot without title"
      ]
     },
     "metadata": {
      "image/png": {
       "height": 420,
       "width": 420
      }
     },
     "output_type": "display_data"
    }
   ],
   "source": [
    "pairs(select(d1, -Subject, -Gender))\n",
    "\n"
   ]
  },
  {
   "cell_type": "markdown",
   "metadata": {
    "id": "yaL4VQPNJN6N"
   },
   "source": [
    "> White matter vol. and gray matter vol. appear to be positively corrleated.\n",
    "> White matter vol. and Flanker score and gray matter vol. and Flanker score do not appear to be correlated."
   ]
  },
  {
   "cell_type": "markdown",
   "metadata": {
    "id": "LWntuBusJN6N"
   },
   "source": [
    "---\n",
    "## 3. Linear regression (4 points)\n",
    "\n",
    "Use the `lm` (linear model) function to determine the association between Flanker Task performance and total grey matter volume from the `d1` data frame.\n",
    "\n",
    "$$\n",
    "Y_{flanker} = \\beta_0 + \\beta_1 X_{GM volume}\n",
    "$$\n",
    "\n",
    "Show the results using the `summary` function, and report the mean coefficient values for $beta_0$ \\& $\\beta_1$ (`coef` function) and their 95\\% confidence intervals (`confint` function). Is grey matter volume significantly associated with Flanker Task performance?"
   ]
  },
  {
   "cell_type": "code",
   "execution_count": 40,
   "metadata": {
    "id": "vCvlheFFJN6T",
    "vscode": {
     "languageId": "r"
    }
   },
   "outputs": [
    {
     "data": {
      "text/plain": [
       "\n",
       "Call:\n",
       "lm(formula = Flanker_Unadj ~ FS_Total_GM_Vol, data = d1)\n",
       "\n",
       "Residuals:\n",
       "     Min       1Q   Median       3Q      Max \n",
       "-28.2280  -6.5969  -0.0119   6.5497  31.0108 \n",
       "\n",
       "Coefficients:\n",
       "                 Estimate Std. Error t value Pr(>|t|)    \n",
       "(Intercept)     9.026e+01  3.041e+00  29.677  < 2e-16 ***\n",
       "FS_Total_GM_Vol 3.110e-05  4.412e-06   7.048 3.18e-12 ***\n",
       "---\n",
       "Signif. codes:  0 '***' 0.001 '**' 0.01 '*' 0.05 '.' 0.1 ' ' 1\n",
       "\n",
       "Residual standard error: 9.864 on 1111 degrees of freedom\n",
       "Multiple R-squared:  0.0428,\tAdjusted R-squared:  0.04194 \n",
       "F-statistic: 49.68 on 1 and 1111 DF,  p-value: 3.177e-12\n"
      ]
     },
     "metadata": {},
     "output_type": "display_data"
    },
    {
     "data": {
      "text/html": [
       "<style>\n",
       ".dl-inline {width: auto; margin:0; padding: 0}\n",
       ".dl-inline>dt, .dl-inline>dd {float: none; width: auto; display: inline-block}\n",
       ".dl-inline>dt::after {content: \":\\0020\"; padding-right: .5ex}\n",
       ".dl-inline>dt:not(:first-of-type) {padding-left: .5ex}\n",
       "</style><dl class=dl-inline><dt>(Intercept)</dt><dd>90.2564608190943</dd><dt>FS_Total_GM_Vol</dt><dd>3.10996547106466e-05</dd></dl>\n"
      ],
      "text/latex": [
       "\\begin{description*}\n",
       "\\item[(Intercept)] 90.2564608190943\n",
       "\\item[FS\\textbackslash{}\\_Total\\textbackslash{}\\_GM\\textbackslash{}\\_Vol] 3.10996547106466e-05\n",
       "\\end{description*}\n"
      ],
      "text/markdown": [
       "(Intercept)\n",
       ":   90.2564608190943FS_Total_GM_Vol\n",
       ":   3.10996547106466e-05\n",
       "\n"
      ],
      "text/plain": [
       "    (Intercept) FS_Total_GM_Vol \n",
       "   9.025646e+01    3.109965e-05 "
      ]
     },
     "metadata": {},
     "output_type": "display_data"
    },
    {
     "data": {
      "text/html": [
       "<table class=\"dataframe\">\n",
       "<caption>A matrix: 2 × 2 of type dbl</caption>\n",
       "<thead>\n",
       "\t<tr><th></th><th scope=col>2.5 %</th><th scope=col>97.5 %</th></tr>\n",
       "</thead>\n",
       "<tbody>\n",
       "\t<tr><th scope=row>(Intercept)</th><td>8.428917e+01</td><td>9.622375e+01</td></tr>\n",
       "\t<tr><th scope=row>FS_Total_GM_Vol</th><td>2.244198e-05</td><td>3.975733e-05</td></tr>\n",
       "</tbody>\n",
       "</table>\n"
      ],
      "text/latex": [
       "A matrix: 2 × 2 of type dbl\n",
       "\\begin{tabular}{r|ll}\n",
       "  & 2.5 \\% & 97.5 \\%\\\\\n",
       "\\hline\n",
       "\t(Intercept) & 8.428917e+01 & 9.622375e+01\\\\\n",
       "\tFS\\_Total\\_GM\\_Vol & 2.244198e-05 & 3.975733e-05\\\\\n",
       "\\end{tabular}\n"
      ],
      "text/markdown": [
       "\n",
       "A matrix: 2 × 2 of type dbl\n",
       "\n",
       "| <!--/--> | 2.5 % | 97.5 % |\n",
       "|---|---|---|\n",
       "| (Intercept) | 8.428917e+01 | 9.622375e+01 |\n",
       "| FS_Total_GM_Vol | 2.244198e-05 | 3.975733e-05 |\n",
       "\n"
      ],
      "text/plain": [
       "                2.5 %        97.5 %      \n",
       "(Intercept)     8.428917e+01 9.622375e+01\n",
       "FS_Total_GM_Vol 2.244198e-05 3.975733e-05"
      ]
     },
     "metadata": {},
     "output_type": "display_data"
    }
   ],
   "source": [
    "mod = lm(Flanker_Unadj ~ FS_Total_GM_Vol, data = d1)\n",
    "summary(mod)\n",
    "coef(mod)\n",
    "confint(mod, level = 0.95)\n"
   ]
  },
  {
   "cell_type": "markdown",
   "metadata": {
    "id": "OhGk99UYJN6T"
   },
   "source": [
    "> $\\beta_0$ = 90.26, $\\beta_1$ = 3.11e-5"
   ]
  },
  {
   "cell_type": "markdown",
   "metadata": {
    "id": "OhGk99UYJN6T"
   },
   "source": [
    "> $\\beta_0$ 95% Confidence Interval: [84.29, 96.22]"
   ]
  },
  {
   "cell_type": "markdown",
   "metadata": {
    "id": "OhGk99UYJN6T"
   },
   "source": [
    "> $\\beta_1$ 95% Confidence Interval: [2.24e-5, 3.98e-5]"
   ]
  },
  {
   "cell_type": "markdown",
   "metadata": {
    "id": "0rSD6W1IJN6U"
   },
   "source": [
    "---\n",
    "## 4. Plotting (2 points)\n",
    "\n",
    "Use `ggplot` to plot the `FS_Total_GM_Vol` variable (x axis) against the `Flanker_Unadj` variable (y axis), as well as the regression line with confidence intervals on the regrssion line. Qualitatively describe what you see. "
   ]
  },
  {
   "cell_type": "code",
   "execution_count": 41,
   "metadata": {
    "id": "csNNtVa-JN6U",
    "vscode": {
     "languageId": "r"
    }
   },
   "outputs": [
    {
     "data": {
      "image/png": "[encoded data removed]",
      "text/plain": [
       "plot without title"
      ]
     },
     "metadata": {
      "image/png": {
       "height": 420,
       "width": 420
      }
     },
     "output_type": "display_data"
    }
   ],
   "source": [
    "library(ggplot2)\n",
    "\n",
    "ggplot(data = d1, mapping = aes(x = FS_Total_GM_Vol, y = Flanker_Unadj)) + geom_point() + geom_smooth(method = \"lm\", formula = y~x, level = 0.95)\n"
   ]
  },
  {
   "cell_type": "markdown",
   "metadata": {
    "id": "0XStcUtnJN6U"
   },
   "source": [
    "> Using this plot alone, there does appear to be a potential positive relationship between gray matter vol. and Flanker test performance (based on the upward regression line and consistent + low-range confidence interval outline).\n",
    "> "
   ]
  },
  {
   "cell_type": "markdown",
   "metadata": {
    "id": "jdNxIM6lJN6V"
   },
   "source": [
    "---\n",
    "\n",
    "## 5. Reflection (1 point)\n",
    "\n",
    "What do you conclude based on the analyses above?"
   ]
  },
  {
   "cell_type": "markdown",
   "metadata": {
    "id": "AqRpqLKAJN6V"
   },
   "source": [
    "> There is a significant effect of gray matter vol. on Flanker task performance ($\\beta$ = 3.11e-5, SE = 4.41e-6, t(1111) = 7.05, p < .05), such that for every increase in one unit of gray matter vol. there is an increase of 3.12e-5 in Flanker Task performance.\n",
    "> "
   ]
  },
  {
   "cell_type": "markdown",
   "metadata": {
    "id": "3EgzqKyDJN6V"
   },
   "source": [
    "**DUE:** 5pm EST, February 24, 2025"
   ]
  },
  {
   "cell_type": "markdown",
   "metadata": {
    "id": "FJfHZOv2JN6V"
   },
   "source": [
    "**IMPORTANT** Did you collaborate with anyone on this assignment? If so, list their names here. \n",
    "> *Someone's Name*"
   ]
  }
 ],
 "metadata": {
  "colab": {
   "provenance": []
  },
  "kernelspec": {
   "display_name": "R",
   "language": "R",
   "name": "ir"
  },
  "language_info": {
   "codemirror_mode": "r",
   "file_extension": ".r",
   "mimetype": "text/x-r-source",
   "name": "R",
   "pygments_lexer": "r",
   "version": "4.4.2"
  }
 },
 "nbformat": 4,
 "nbformat_minor": 4
}
