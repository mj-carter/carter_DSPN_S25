{
  "cells": [
    {
      "cell_type": "markdown",
      "metadata": {
        "id": "8A62VYmiNPLF"
      },
      "source": [
        "<a href=\"https://colab.research.google.com/github/CoAxLab/Data-Explorations/blob/main/book/exercises/principal-component-methods.ipynb\" target=\"_parent\"><img src=\"https://colab.research.google.com/assets/colab-badge.svg\" alt=\"Open In Colab\"/></a>"
      ]
    },
    {
      "cell_type": "markdown",
      "metadata": {
        "id": "X0-Q9NYTBujb"
      },
      "source": [
        "# Exercise 18: Principal component methods\n",
        "\n",
        "This homework assignment is designed to give you an intuition on principal component approaches to understanding high dimensional statistical relationships.\n",
        "\n",
        "Like earlier homework, you will need to download the **unrestricted_trimmed_1_7_2020_10_50_44.csv** file from the *Homework/hcp_data* folder in the class GitHub repository.\n",
        "\n",
        "This data is a portion of the [Human Connectome Project database](http://www.humanconnectomeproject.org/). It provides measures of cognitive tasks and brain morphology measuresments from 1206 participants. The full description of each variable is provided in the **HCP_S1200_DataDictionary_April_20_2018.csv** file in the *Homework/hcp_data* folder in the class GitHub repository."
      ]
    },
    {
      "cell_type": "markdown",
      "source": [
        "1. Loading data 1/1\n",
        "2. Correlational structure 4/4\n",
        "3. Principal Component analysis 3/3\n",
        "4. Associating with Flanker task performance 4/4\n",
        "5. Reflection 2/2"
      ],
      "metadata": {
        "id": "asmWcDvZNQrJ"
      }
    },
    {
      "cell_type": "markdown",
      "metadata": {
        "id": "bODln6rvBujd"
      },
      "source": [
        "---\n",
        "## 1. Loading data (1 point)"
      ]
    },
    {
      "cell_type": "markdown",
      "metadata": {
        "id": "sezRLzgHBuje"
      },
      "source": [
        "We are going to look for low dimensional relationships between brain volume measures and working memory capacity.\n",
        "\n",
        "First, we will need to load the `pls`, `tidyverse`, and `ggplot2` libraries for this assignment.\n"
      ]
    },
    {
      "cell_type": "code",
      "execution_count": null,
      "metadata": {
        "id": "LVJwea2rBujf",
        "vscode": {
          "languageId": "r"
        }
      },
      "outputs": [],
      "source": [
        "library(pls)\n",
        "library(tidyverse)\n",
        "library(ggplot2)\n"
      ]
    },
    {
      "cell_type": "markdown",
      "metadata": {
        "id": "mXwMchX7Bujf"
      },
      "source": [
        "Use `read.csv` function to load data from the **unrestricted_trimmed_1_7_2020_10_50_44.csv** file in the **hcp_data** folder.\n",
        "\n",
        "(a) Using the tidyverse tools, make a new dataframe `d1` that only includes the Flanker Task performance (`Flanker_Unadj`) and *all* freesurfer **volume** measures for the right and left hemispheres together. Remove both \"na's\" and any columns that consist of only zeros.\n",
        "\n",
        "Hint: Look up using the `ends_with` function to only select variables that end with \"_Vol\"\n",
        "\n",
        "Use the `head` function to look at the first few rows of each data frame."
      ]
    },
    {
      "cell_type": "code",
      "execution_count": null,
      "metadata": {
        "id": "BeK03Sx7Bujg",
        "vscode": {
          "languageId": "r"
        },
        "outputId": "3496c71b-d147-47f8-9d80-b038a41d276f"
      },
      "outputs": [
        {
          "data": {
            "text/html": [
              "<table class=\"dataframe\">\n",
              "<caption>A data.frame: 6 × 53</caption>\n",
              "<thead>\n",
              "\t<tr><th></th><th scope=col>Flanker_Unadj</th><th scope=col>FS_IntraCranial_Vol</th><th scope=col>FS_BrainSeg_Vol</th><th scope=col>FS_LCort_GM_Vol</th><th scope=col>FS_RCort_GM_Vol</th><th scope=col>FS_TotCort_GM_Vol</th><th scope=col>FS_SubCort_GM_Vol</th><th scope=col>FS_Total_GM_Vol</th><th scope=col>FS_SupraTentorial_Vol</th><th scope=col>FS_L_WM_Vol</th><th scope=col>⋯</th><th scope=col>FS_R_Vessel_Vol</th><th scope=col>FS_R_ChoroidPlexus_Vol</th><th scope=col>FS_5thVent_Vol</th><th scope=col>FS_WM_Hypointens_Vol</th><th scope=col>FS_OpticChiasm_Vol</th><th scope=col>FS_CC_Posterior_Vol</th><th scope=col>FS_CC_MidPosterior_Vol</th><th scope=col>FS_CC_Central_Vol</th><th scope=col>FS_CC_MidAnterior_Vol</th><th scope=col>FS_CC_Anterior_Vol</th></tr>\n",
              "\t<tr><th></th><th scope=col>&lt;dbl&gt;</th><th scope=col>&lt;dbl&gt;</th><th scope=col>&lt;int&gt;</th><th scope=col>&lt;int&gt;</th><th scope=col>&lt;int&gt;</th><th scope=col>&lt;int&gt;</th><th scope=col>&lt;int&gt;</th><th scope=col>&lt;int&gt;</th><th scope=col>&lt;int&gt;</th><th scope=col>&lt;int&gt;</th><th scope=col>⋯</th><th scope=col>&lt;int&gt;</th><th scope=col>&lt;int&gt;</th><th scope=col>&lt;int&gt;</th><th scope=col>&lt;int&gt;</th><th scope=col>&lt;int&gt;</th><th scope=col>&lt;int&gt;</th><th scope=col>&lt;int&gt;</th><th scope=col>&lt;int&gt;</th><th scope=col>&lt;int&gt;</th><th scope=col>&lt;int&gt;</th></tr>\n",
              "</thead>\n",
              "<tbody>\n",
              "\t<tr><th scope=row>1</th><td>130.42</td><td>1864518</td><td>1406924</td><td>304488</td><td>305634</td><td>610122</td><td>70240</td><td>807245</td><td>1239692</td><td>269963</td><td>⋯</td><td>80</td><td>1613</td><td> 0</td><td>1269</td><td>325</td><td> 800</td><td>409</td><td>569</td><td>522</td><td> 813</td></tr>\n",
              "\t<tr><th scope=row>2</th><td>112.56</td><td>1512540</td><td>1109710</td><td>240030</td><td>243207</td><td>483238</td><td>56623</td><td>664124</td><td> 957615</td><td>203472</td><td>⋯</td><td>70</td><td>1007</td><td> 0</td><td>1155</td><td>195</td><td>1029</td><td>526</td><td>578</td><td>576</td><td> 649</td></tr>\n",
              "\t<tr><th scope=row>3</th><td>121.18</td><td>1684117</td><td>1280171</td><td>260695</td><td>265243</td><td>525938</td><td>63869</td><td>726206</td><td>1106881</td><td>247504</td><td>⋯</td><td>88</td><td>1303</td><td> 0</td><td>1279</td><td>302</td><td> 972</td><td>589</td><td>528</td><td>471</td><td> 858</td></tr>\n",
              "\t<tr><th scope=row>4</th><td>126.53</td><td>1816044</td><td>1321362</td><td>276506</td><td>278002</td><td>554508</td><td>74869</td><td>762308</td><td>1155067</td><td>254742</td><td>⋯</td><td>81</td><td> 909</td><td> 0</td><td>1154</td><td>296</td><td>1065</td><td>618</td><td>838</td><td>729</td><td>1072</td></tr>\n",
              "\t<tr><th scope=row>5</th><td>101.85</td><td>1437868</td><td>1053766</td><td>203718</td><td>210539</td><td>414257</td><td>58813</td><td>579632</td><td> 916973</td><td>213012</td><td>⋯</td><td>75</td><td>1215</td><td> 3</td><td> 377</td><td>235</td><td>1057</td><td>591</td><td>538</td><td>430</td><td> 849</td></tr>\n",
              "\t<tr><th scope=row>6</th><td>107.04</td><td>1512727</td><td>1126655</td><td>242489</td><td>248807</td><td>491296</td><td>62092</td><td>665024</td><td> 984952</td><td>205342</td><td>⋯</td><td>93</td><td>1331</td><td>17</td><td> 554</td><td>258</td><td>1033</td><td>494</td><td>487</td><td>489</td><td> 992</td></tr>\n",
              "</tbody>\n",
              "</table>\n"
            ],
            "text/latex": [
              "A data.frame: 6 × 53\n",
              "\\begin{tabular}{r|lllllllllllllllllllll}\n",
              "  & Flanker\\_Unadj & FS\\_IntraCranial\\_Vol & FS\\_BrainSeg\\_Vol & FS\\_LCort\\_GM\\_Vol & FS\\_RCort\\_GM\\_Vol & FS\\_TotCort\\_GM\\_Vol & FS\\_SubCort\\_GM\\_Vol & FS\\_Total\\_GM\\_Vol & FS\\_SupraTentorial\\_Vol & FS\\_L\\_WM\\_Vol & ⋯ & FS\\_R\\_Vessel\\_Vol & FS\\_R\\_ChoroidPlexus\\_Vol & FS\\_5thVent\\_Vol & FS\\_WM\\_Hypointens\\_Vol & FS\\_OpticChiasm\\_Vol & FS\\_CC\\_Posterior\\_Vol & FS\\_CC\\_MidPosterior\\_Vol & FS\\_CC\\_Central\\_Vol & FS\\_CC\\_MidAnterior\\_Vol & FS\\_CC\\_Anterior\\_Vol\\\\\n",
              "  & <dbl> & <dbl> & <int> & <int> & <int> & <int> & <int> & <int> & <int> & <int> & ⋯ & <int> & <int> & <int> & <int> & <int> & <int> & <int> & <int> & <int> & <int>\\\\\n",
              "\\hline\n",
              "\t1 & 130.42 & 1864518 & 1406924 & 304488 & 305634 & 610122 & 70240 & 807245 & 1239692 & 269963 & ⋯ & 80 & 1613 &  0 & 1269 & 325 &  800 & 409 & 569 & 522 &  813\\\\\n",
              "\t2 & 112.56 & 1512540 & 1109710 & 240030 & 243207 & 483238 & 56623 & 664124 &  957615 & 203472 & ⋯ & 70 & 1007 &  0 & 1155 & 195 & 1029 & 526 & 578 & 576 &  649\\\\\n",
              "\t3 & 121.18 & 1684117 & 1280171 & 260695 & 265243 & 525938 & 63869 & 726206 & 1106881 & 247504 & ⋯ & 88 & 1303 &  0 & 1279 & 302 &  972 & 589 & 528 & 471 &  858\\\\\n",
              "\t4 & 126.53 & 1816044 & 1321362 & 276506 & 278002 & 554508 & 74869 & 762308 & 1155067 & 254742 & ⋯ & 81 &  909 &  0 & 1154 & 296 & 1065 & 618 & 838 & 729 & 1072\\\\\n",
              "\t5 & 101.85 & 1437868 & 1053766 & 203718 & 210539 & 414257 & 58813 & 579632 &  916973 & 213012 & ⋯ & 75 & 1215 &  3 &  377 & 235 & 1057 & 591 & 538 & 430 &  849\\\\\n",
              "\t6 & 107.04 & 1512727 & 1126655 & 242489 & 248807 & 491296 & 62092 & 665024 &  984952 & 205342 & ⋯ & 93 & 1331 & 17 &  554 & 258 & 1033 & 494 & 487 & 489 &  992\\\\\n",
              "\\end{tabular}\n"
            ],
            "text/markdown": [
              "\n",
              "A data.frame: 6 × 53\n",
              "\n",
              "| <!--/--> | Flanker_Unadj &lt;dbl&gt; | FS_IntraCranial_Vol &lt;dbl&gt; | FS_BrainSeg_Vol &lt;int&gt; | FS_LCort_GM_Vol &lt;int&gt; | FS_RCort_GM_Vol &lt;int&gt; | FS_TotCort_GM_Vol &lt;int&gt; | FS_SubCort_GM_Vol &lt;int&gt; | FS_Total_GM_Vol &lt;int&gt; | FS_SupraTentorial_Vol &lt;int&gt; | FS_L_WM_Vol &lt;int&gt; | ⋯ ⋯ | FS_R_Vessel_Vol &lt;int&gt; | FS_R_ChoroidPlexus_Vol &lt;int&gt; | FS_5thVent_Vol &lt;int&gt; | FS_WM_Hypointens_Vol &lt;int&gt; | FS_OpticChiasm_Vol &lt;int&gt; | FS_CC_Posterior_Vol &lt;int&gt; | FS_CC_MidPosterior_Vol &lt;int&gt; | FS_CC_Central_Vol &lt;int&gt; | FS_CC_MidAnterior_Vol &lt;int&gt; | FS_CC_Anterior_Vol &lt;int&gt; |\n",
              "|---|---|---|---|---|---|---|---|---|---|---|---|---|---|---|---|---|---|---|---|---|---|\n",
              "| 1 | 130.42 | 1864518 | 1406924 | 304488 | 305634 | 610122 | 70240 | 807245 | 1239692 | 269963 | ⋯ | 80 | 1613 |  0 | 1269 | 325 |  800 | 409 | 569 | 522 |  813 |\n",
              "| 2 | 112.56 | 1512540 | 1109710 | 240030 | 243207 | 483238 | 56623 | 664124 |  957615 | 203472 | ⋯ | 70 | 1007 |  0 | 1155 | 195 | 1029 | 526 | 578 | 576 |  649 |\n",
              "| 3 | 121.18 | 1684117 | 1280171 | 260695 | 265243 | 525938 | 63869 | 726206 | 1106881 | 247504 | ⋯ | 88 | 1303 |  0 | 1279 | 302 |  972 | 589 | 528 | 471 |  858 |\n",
              "| 4 | 126.53 | 1816044 | 1321362 | 276506 | 278002 | 554508 | 74869 | 762308 | 1155067 | 254742 | ⋯ | 81 |  909 |  0 | 1154 | 296 | 1065 | 618 | 838 | 729 | 1072 |\n",
              "| 5 | 101.85 | 1437868 | 1053766 | 203718 | 210539 | 414257 | 58813 | 579632 |  916973 | 213012 | ⋯ | 75 | 1215 |  3 |  377 | 235 | 1057 | 591 | 538 | 430 |  849 |\n",
              "| 6 | 107.04 | 1512727 | 1126655 | 242489 | 248807 | 491296 | 62092 | 665024 |  984952 | 205342 | ⋯ | 93 | 1331 | 17 |  554 | 258 | 1033 | 494 | 487 | 489 |  992 |\n",
              "\n"
            ],
            "text/plain": [
              "  Flanker_Unadj FS_IntraCranial_Vol FS_BrainSeg_Vol FS_LCort_GM_Vol\n",
              "1 130.42        1864518             1406924         304488         \n",
              "2 112.56        1512540             1109710         240030         \n",
              "3 121.18        1684117             1280171         260695         \n",
              "4 126.53        1816044             1321362         276506         \n",
              "5 101.85        1437868             1053766         203718         \n",
              "6 107.04        1512727             1126655         242489         \n",
              "  FS_RCort_GM_Vol FS_TotCort_GM_Vol FS_SubCort_GM_Vol FS_Total_GM_Vol\n",
              "1 305634          610122            70240             807245         \n",
              "2 243207          483238            56623             664124         \n",
              "3 265243          525938            63869             726206         \n",
              "4 278002          554508            74869             762308         \n",
              "5 210539          414257            58813             579632         \n",
              "6 248807          491296            62092             665024         \n",
              "  FS_SupraTentorial_Vol FS_L_WM_Vol ⋯ FS_R_Vessel_Vol FS_R_ChoroidPlexus_Vol\n",
              "1 1239692               269963      ⋯ 80              1613                  \n",
              "2  957615               203472      ⋯ 70              1007                  \n",
              "3 1106881               247504      ⋯ 88              1303                  \n",
              "4 1155067               254742      ⋯ 81               909                  \n",
              "5  916973               213012      ⋯ 75              1215                  \n",
              "6  984952               205342      ⋯ 93              1331                  \n",
              "  FS_5thVent_Vol FS_WM_Hypointens_Vol FS_OpticChiasm_Vol FS_CC_Posterior_Vol\n",
              "1  0             1269                 325                 800               \n",
              "2  0             1155                 195                1029               \n",
              "3  0             1279                 302                 972               \n",
              "4  0             1154                 296                1065               \n",
              "5  3              377                 235                1057               \n",
              "6 17              554                 258                1033               \n",
              "  FS_CC_MidPosterior_Vol FS_CC_Central_Vol FS_CC_MidAnterior_Vol\n",
              "1 409                    569               522                  \n",
              "2 526                    578               576                  \n",
              "3 589                    528               471                  \n",
              "4 618                    838               729                  \n",
              "5 591                    538               430                  \n",
              "6 494                    487               489                  \n",
              "  FS_CC_Anterior_Vol\n",
              "1  813              \n",
              "2  649              \n",
              "3  858              \n",
              "4 1072              \n",
              "5  849              \n",
              "6  992              "
            ]
          },
          "metadata": {},
          "output_type": "display_data"
        }
      ],
      "source": [
        "d1 = read.csv(\"unrestricted_trimmed_1_7_2020_10_50_44.csv\")\n",
        "\n",
        "d1 = d1 %>%\n",
        "  select(Flanker_Unadj, ends_with(\"_Vol\")) %>%\n",
        "  select(where(~ sum(!is.na(.x) & .x != 0) > 0)) %>%\n",
        "  drop_na()\n",
        "\n",
        "head(d1)\n"
      ]
    },
    {
      "cell_type": "markdown",
      "metadata": {
        "id": "4BlVlqOsNPLH"
      },
      "source": [
        "---\n",
        "## 2. Correlational structure (4 points)"
      ]
    },
    {
      "cell_type": "markdown",
      "metadata": {
        "id": "fU0Rfko9NPLH"
      },
      "source": [
        "(a) Take a look at the correlation between all of the freesurfer volume measures (\"FS_\") using the `cor` function. Create a new variable called `fs_cor` that is the correlation matrix for only the freesurfer volumes"
      ]
    },
    {
      "cell_type": "code",
      "execution_count": null,
      "metadata": {
        "vscode": {
          "languageId": "r"
        },
        "id": "YzAbCkqNNPLH"
      },
      "outputs": [],
      "source": [
        "fs_cor = cor(d1 %>% select(-Flanker_Unadj))"
      ]
    },
    {
      "cell_type": "markdown",
      "metadata": {
        "id": "Z1b-0nEfNPLH"
      },
      "source": [
        "(b) Load (and install locally if needed) the `reshape2` library in order to use the `melt` function on the new `fs_cor` object. Use `head` to show the new, melted `fs_cor` object."
      ]
    },
    {
      "cell_type": "code",
      "execution_count": null,
      "metadata": {
        "vscode": {
          "languageId": "r"
        },
        "id": "RKFhxlCjNPLH",
        "outputId": "ed1c19bd-7f95-48f1-9661-196e50696c13"
      },
      "outputs": [
        {
          "name": "stderr",
          "output_type": "stream",
          "text": [
            "Warning message:\n",
            "\"package 'reshape2' was built under R version 4.4.3\"\n",
            "\n",
            "Attaching package: 'reshape2'\n",
            "\n",
            "\n",
            "The following object is masked from 'package:tidyr':\n",
            "\n",
            "    smiths\n",
            "\n",
            "\n"
          ]
        },
        {
          "data": {
            "text/html": [
              "<table class=\"dataframe\">\n",
              "<caption>A data.frame: 6 × 3</caption>\n",
              "<thead>\n",
              "\t<tr><th></th><th scope=col>Var1</th><th scope=col>Var2</th><th scope=col>value</th></tr>\n",
              "\t<tr><th></th><th scope=col>&lt;fct&gt;</th><th scope=col>&lt;fct&gt;</th><th scope=col>&lt;dbl&gt;</th></tr>\n",
              "</thead>\n",
              "<tbody>\n",
              "\t<tr><th scope=row>1</th><td>FS_IntraCranial_Vol</td><td>FS_IntraCranial_Vol</td><td>1.0000000</td></tr>\n",
              "\t<tr><th scope=row>2</th><td>FS_BrainSeg_Vol    </td><td>FS_IntraCranial_Vol</td><td>0.8977578</td></tr>\n",
              "\t<tr><th scope=row>3</th><td>FS_LCort_GM_Vol    </td><td>FS_IntraCranial_Vol</td><td>0.8400174</td></tr>\n",
              "\t<tr><th scope=row>4</th><td>FS_RCort_GM_Vol    </td><td>FS_IntraCranial_Vol</td><td>0.8439151</td></tr>\n",
              "\t<tr><th scope=row>5</th><td>FS_TotCort_GM_Vol  </td><td>FS_IntraCranial_Vol</td><td>0.8452780</td></tr>\n",
              "\t<tr><th scope=row>6</th><td>FS_SubCort_GM_Vol  </td><td>FS_IntraCranial_Vol</td><td>0.7885140</td></tr>\n",
              "</tbody>\n",
              "</table>\n"
            ],
            "text/latex": [
              "A data.frame: 6 × 3\n",
              "\\begin{tabular}{r|lll}\n",
              "  & Var1 & Var2 & value\\\\\n",
              "  & <fct> & <fct> & <dbl>\\\\\n",
              "\\hline\n",
              "\t1 & FS\\_IntraCranial\\_Vol & FS\\_IntraCranial\\_Vol & 1.0000000\\\\\n",
              "\t2 & FS\\_BrainSeg\\_Vol     & FS\\_IntraCranial\\_Vol & 0.8977578\\\\\n",
              "\t3 & FS\\_LCort\\_GM\\_Vol     & FS\\_IntraCranial\\_Vol & 0.8400174\\\\\n",
              "\t4 & FS\\_RCort\\_GM\\_Vol     & FS\\_IntraCranial\\_Vol & 0.8439151\\\\\n",
              "\t5 & FS\\_TotCort\\_GM\\_Vol   & FS\\_IntraCranial\\_Vol & 0.8452780\\\\\n",
              "\t6 & FS\\_SubCort\\_GM\\_Vol   & FS\\_IntraCranial\\_Vol & 0.7885140\\\\\n",
              "\\end{tabular}\n"
            ],
            "text/markdown": [
              "\n",
              "A data.frame: 6 × 3\n",
              "\n",
              "| <!--/--> | Var1 &lt;fct&gt; | Var2 &lt;fct&gt; | value &lt;dbl&gt; |\n",
              "|---|---|---|---|\n",
              "| 1 | FS_IntraCranial_Vol | FS_IntraCranial_Vol | 1.0000000 |\n",
              "| 2 | FS_BrainSeg_Vol     | FS_IntraCranial_Vol | 0.8977578 |\n",
              "| 3 | FS_LCort_GM_Vol     | FS_IntraCranial_Vol | 0.8400174 |\n",
              "| 4 | FS_RCort_GM_Vol     | FS_IntraCranial_Vol | 0.8439151 |\n",
              "| 5 | FS_TotCort_GM_Vol   | FS_IntraCranial_Vol | 0.8452780 |\n",
              "| 6 | FS_SubCort_GM_Vol   | FS_IntraCranial_Vol | 0.7885140 |\n",
              "\n"
            ],
            "text/plain": [
              "  Var1                Var2                value    \n",
              "1 FS_IntraCranial_Vol FS_IntraCranial_Vol 1.0000000\n",
              "2 FS_BrainSeg_Vol     FS_IntraCranial_Vol 0.8977578\n",
              "3 FS_LCort_GM_Vol     FS_IntraCranial_Vol 0.8400174\n",
              "4 FS_RCort_GM_Vol     FS_IntraCranial_Vol 0.8439151\n",
              "5 FS_TotCort_GM_Vol   FS_IntraCranial_Vol 0.8452780\n",
              "6 FS_SubCort_GM_Vol   FS_IntraCranial_Vol 0.7885140"
            ]
          },
          "metadata": {},
          "output_type": "display_data"
        }
      ],
      "source": [
        "library(reshape2)\n",
        "\n",
        "fs_cor_melted = melt(fs_cor)\n",
        "head(fs_cor_melted)"
      ]
    },
    {
      "cell_type": "markdown",
      "metadata": {
        "id": "NlRTbteXNPLH"
      },
      "source": [
        "Plot the correlation as a heatmap using `ggplot2`.\n",
        "\n",
        "Hint: use the `scale_fill_gradient2` function to scale the colors between red and blue, capping the values at -1 and +1."
      ]
    },
    {
      "cell_type": "code",
      "execution_count": null,
      "metadata": {
        "vscode": {
          "languageId": "r"
        },
        "id": "pSklrZ3iNPLH",
        "outputId": "09fa7a90-034f-48f0-bc72-11958c64c40c"
      },
      "outputs": [
        {
          "data": {
            "image/png": "[encoded data removed]",
            "text/plain": [
              "plot without title"
            ]
          },
          "metadata": {
            "image/png": {
              "height": 420,
              "width": 420
            }
          },
          "output_type": "display_data"
        }
      ],
      "source": [
        "ggplot(fs_cor_melted, aes(x = Var1, y = Var2, fill = value)) +\n",
        "  geom_tile() +\n",
        "  scale_fill_gradient2(low = \"blue\", mid = \"white\", high = \"red\", midpoint = 0,\n",
        "                       limits = c(-1, 1), name = \"Correlation\") +\n",
        "  theme_minimal() +\n",
        "  theme(axis.text.x = element_text(angle = 90, hjust = 1))\n"
      ]
    },
    {
      "cell_type": "markdown",
      "metadata": {
        "id": "TSbE1vZCNPLI"
      },
      "source": [
        "What patterns do you see in the correlations?"
      ]
    },
    {
      "cell_type": "markdown",
      "metadata": {
        "id": "BhvkX9ChNPLI"
      },
      "source": [
        "> *Write your response here*\n",
        "> *\n"
      ]
    },
    {
      "cell_type": "markdown",
      "metadata": {
        "id": "zqLPa45zBuji"
      },
      "source": [
        "---\n",
        "## 3. Principal component analysis (3 points)"
      ]
    },
    {
      "cell_type": "markdown",
      "metadata": {
        "id": "HyP55tOade1P"
      },
      "source": [
        "Let's see how many principal components explain at *at least* 95% of the data."
      ]
    },
    {
      "cell_type": "markdown",
      "metadata": {
        "id": "4SvSDGa9Buji"
      },
      "source": [
        "(a) Create a new object called `fs_d.pca` using the `princomp` function (do not forget to scale the data).\n"
      ]
    },
    {
      "cell_type": "code",
      "execution_count": null,
      "metadata": {
        "vscode": {
          "languageId": "r"
        },
        "id": "GBLUZYAqNPLI"
      },
      "outputs": [],
      "source": [
        "fs_d = d1 %>% select(-Flanker_Unadj)\n",
        "\n",
        "fs_d.pca = princomp(fs_d, cor = TRUE)\n"
      ]
    },
    {
      "cell_type": "markdown",
      "metadata": {
        "id": "w9qmv6HwNPLI"
      },
      "source": [
        "(b) Calculate the cumulative variance explained (not unique variance explained as in the tutorial) across the principal components and plot the results using `ggplot`."
      ]
    },
    {
      "cell_type": "code",
      "execution_count": null,
      "metadata": {
        "id": "R_mZIsWwBuji",
        "vscode": {
          "languageId": "r"
        },
        "outputId": "d0f323d9-82c0-4f62-c9bd-e6c37deee009"
      },
      "outputs": [
        {
          "data": {
            "image/png": "[encoded data removed]",
            "text/plain": [
              "plot without title"
            ]
          },
          "metadata": {
            "image/png": {
              "height": 420,
              "width": 420
            }
          },
          "output_type": "display_data"
        }
      ],
      "source": [
        "cumulative_var = cumsum(fs_d.pca$sdev^2 / sum(fs_d.pca$sdev^2))\n",
        "pca_df = tibble(PC = 1:length(cumulative_var), cumulative_var)\n",
        "\n",
        "ggplot(pca_df, aes(x = PC, y = cumulative_var)) +\n",
        "  geom_line() +\n",
        "  geom_point() +\n",
        "  geom_hline(yintercept = 0.95) + #extra for next question\n",
        "  theme_minimal()\n"
      ]
    },
    {
      "cell_type": "markdown",
      "metadata": {
        "id": "s3gKD91iNPLI"
      },
      "source": [
        "(c) Determine exactly how many principal components explain at least 95% of the variance.\n",
        "\n",
        "Hint: Look up the `which` function."
      ]
    },
    {
      "cell_type": "code",
      "execution_count": null,
      "metadata": {
        "vscode": {
          "languageId": "r"
        },
        "id": "-TojO5i5NPLI",
        "outputId": "e10548d7-f99f-4733-8f34-562cf6fe3e30"
      },
      "outputs": [
        {
          "data": {
            "text/html": [
              "<strong>Comp.27:</strong> 27"
            ],
            "text/latex": [
              "\\textbf{Comp.27:} 27"
            ],
            "text/markdown": [
              "**Comp.27:** 27"
            ],
            "text/plain": [
              "Comp.27 \n",
              "     27 "
            ]
          },
          "metadata": {},
          "output_type": "display_data"
        }
      ],
      "source": [
        "which(cum_var >= 0.95)[1]"
      ]
    },
    {
      "cell_type": "markdown",
      "metadata": {
        "id": "oYxz29TyBujj"
      },
      "source": [
        "What does this tell you about the underlying dimensionality of the brain volume measures?\n",
        "\n",
        "> This tells us that the data moderate redundancy. It takes around 26–27 components to explain 95% of the variance. This suggests a medium-to-high dimensionality.\n",
        "> *\n"
      ]
    },
    {
      "cell_type": "markdown",
      "metadata": {
        "id": "ez8Cy8anBujn"
      },
      "source": [
        "---\n",
        "## 4. Associating with Flanker task peformance (4 points)"
      ]
    },
    {
      "cell_type": "markdown",
      "metadata": {
        "id": "NFAAGungBujn"
      },
      "source": [
        "Now apply PCR to the `d1` object you created at the beginning (which includes the Flanker task scores) to find how freesurfer volumes predict Flanker task performance. Set the random seed to \"2\". Use cross-validation as the validation type and don't forget to scale your data. Show the `summary` of the model fit.\n",
        "\n",
        "Hint: If you receive an error applying the \"scale=TRUE\" flag, then you likely still have columns of all zeros somewhere in your data table."
      ]
    },
    {
      "cell_type": "code",
      "execution_count": null,
      "metadata": {
        "id": "0uVdEguGBujn",
        "vscode": {
          "languageId": "r"
        },
        "outputId": "900f88eb-507b-4e80-d115-addc6b960eb5"
      },
      "outputs": [
        {
          "name": "stdout",
          "output_type": "stream",
          "text": [
            "Data: \tX dimension: 1113 52 \n",
            "\tY dimension: 1113 1\n",
            "Fit method: svdpc\n",
            "Number of components considered: 52\n",
            "\n",
            "VALIDATION: RMSEP\n",
            "Cross-validated using 10 random segments.\n",
            "       (Intercept)  1 comps  2 comps  3 comps  4 comps  5 comps  6 comps\n",
            "CV           10.08    9.925    9.924    9.933    9.922    9.924    9.912\n",
            "adjCV        10.08    9.924    9.923    9.932    9.920    9.922    9.910\n",
            "       7 comps  8 comps  9 comps  10 comps  11 comps  12 comps  13 comps\n",
            "CV       9.889    9.891    9.893     9.896     9.909     9.918     9.934\n",
            "adjCV    9.886    9.887    9.890     9.892     9.904     9.913     9.927\n",
            "       14 comps  15 comps  16 comps  17 comps  18 comps  19 comps  20 comps\n",
            "CV        9.941     9.945     9.934     9.899     9.896     9.907     9.914\n",
            "adjCV     9.934     9.939     9.928     9.889     9.886     9.897     9.903\n",
            "       21 comps  22 comps  23 comps  24 comps  25 comps  26 comps  27 comps\n",
            "CV        9.922     9.930     9.939     9.955     9.968     9.971     9.979\n",
            "adjCV     9.911     9.919     9.928     9.942     9.956     9.959     9.964\n",
            "       28 comps  29 comps  30 comps  31 comps  32 comps  33 comps  34 comps\n",
            "CV        9.995     10.01    10.002    10.011    10.017     10.03     10.04\n",
            "adjCV     9.979      9.99     9.985     9.995     9.999     10.02     10.02\n",
            "       35 comps  36 comps  37 comps  38 comps  39 comps  40 comps  41 comps\n",
            "CV        10.05     10.06     10.07     10.07     10.08     10.08     10.08\n",
            "adjCV     10.03     10.04     10.04     10.05     10.06     10.06     10.06\n",
            "       42 comps  43 comps  44 comps  45 comps  46 comps  47 comps  48 comps\n",
            "CV        10.07     10.09     10.09     10.08     10.09     10.10     10.10\n",
            "adjCV     10.05     10.06     10.06     10.06     10.07     10.08     10.07\n",
            "       49 comps  50 comps  51 comps  52 comps\n",
            "CV        10.09     10.11     10.11     10.12\n",
            "adjCV     10.07     10.08     10.09     10.09\n",
            "\n",
            "TRAINING: % variance explained\n",
            "               1 comps  2 comps  3 comps  4 comps  5 comps  6 comps  7 comps\n",
            "X               44.871   53.170   58.450   62.517   65.799   68.399   70.898\n",
            "Flanker_Unadj    3.219    3.323    3.415    3.837    3.904    4.429    4.871\n",
            "               8 comps  9 comps  10 comps  11 comps  12 comps  13 comps\n",
            "X               73.081   75.186    77.180    78.979    80.628    82.201\n",
            "Flanker_Unadj    4.881    4.887     5.013     5.061     5.076     5.272\n",
            "               14 comps  15 comps  16 comps  17 comps  18 comps  19 comps\n",
            "X                 83.64    84.877    86.077    87.203    88.276    89.309\n",
            "Flanker_Unadj      5.28     5.306     5.561     6.392     6.613     6.721\n",
            "               20 comps  21 comps  22 comps  23 comps  24 comps  25 comps\n",
            "X                90.296    91.158    91.959    92.738    93.454    94.074\n",
            "Flanker_Unadj     6.848     6.862     6.907     6.921     6.933     6.933\n",
            "               26 comps  27 comps  28 comps  29 comps  30 comps  31 comps\n",
            "X                94.680    95.271    95.832    96.339     96.79    97.211\n",
            "Flanker_Unadj     7.048     7.235     7.238     7.239      7.38     7.386\n",
            "               32 comps  33 comps  34 comps  35 comps  36 comps  37 comps\n",
            "X                97.608    97.980     98.31    98.601    98.866    99.103\n",
            "Flanker_Unadj     7.524     7.524      7.68     7.705     7.777     7.792\n",
            "               38 comps  39 comps  40 comps  41 comps  42 comps  43 comps\n",
            "X                99.319     99.50    99.635    99.759    99.848    99.908\n",
            "Flanker_Unadj     7.793      7.81     7.823     8.144     8.338     8.351\n",
            "               44 comps  45 comps  46 comps  47 comps  48 comps  49 comps\n",
            "X                 99.97    99.993    99.998   100.000   100.000   100.000\n",
            "Flanker_Unadj      8.38     8.455     8.475     8.506     8.686     8.829\n",
            "               50 comps  51 comps  52 comps\n",
            "X               100.000   100.000   100.000\n",
            "Flanker_Unadj     8.923     8.924     8.999\n"
          ]
        }
      ],
      "source": [
        "set.seed(2)\n",
        "\n",
        "pcr_mod = pcr(Flanker_Unadj ~ ., data = d1, scale = TRUE, validation = \"CV\")\n",
        "summary(pcr_mod)\n"
      ]
    },
    {
      "cell_type": "markdown",
      "metadata": {
        "id": "GpEDavhoNPLI"
      },
      "source": [
        "(b) Use the `validationplot` function to evaluate the bias-variance tradeoff using the cross-validated mean squared-error for each component."
      ]
    },
    {
      "cell_type": "code",
      "execution_count": null,
      "metadata": {
        "vscode": {
          "languageId": "r"
        },
        "id": "xzCVPYmTNPLI",
        "outputId": "875243d4-8ef3-4ad9-d440-b2df13896728"
      },
      "outputs": [
        {
          "data": {
            "image/png": "[encoded data removed]",
            "text/plain": [
              "Plot with title \"Flanker_Unadj\""
            ]
          },
          "metadata": {
            "image/png": {
              "height": 420,
              "width": 420
            }
          },
          "output_type": "display_data"
        }
      ],
      "source": [
        "validationplot(pcr_mod, val.type = \"MSEP\")\n"
      ]
    },
    {
      "cell_type": "markdown",
      "metadata": {
        "id": "sWYfDOx6NPLJ"
      },
      "source": [
        "(c) Extract the MSEP values of the cross validated fit (\"CV\" not \"adj_CV\") from the model object using the `MSEP` funtion. Create a new array of these values. Use the `drop` function to remove the singleton dimension (the original array is 2x1x53 and we want a 2x53 object). Find the minimum value of the first row (the \"CV\")."
      ]
    },
    {
      "cell_type": "code",
      "execution_count": null,
      "metadata": {
        "vscode": {
          "languageId": "r"
        },
        "id": "x_gwX2LiNPLJ",
        "outputId": "497053c8-6337-4510-aef8-e697619a1de1"
      },
      "outputs": [
        {
          "data": {
            "text/html": [
              "<strong>7 comps:</strong> 8"
            ],
            "text/latex": [
              "\\textbf{7 comps:} 8"
            ],
            "text/markdown": [
              "**7 comps:** 8"
            ],
            "text/plain": [
              "7 comps \n",
              "      8 "
            ]
          },
          "metadata": {},
          "output_type": "display_data"
        }
      ],
      "source": [
        "msep_array = MSEP(pcr_mod)$val\n",
        "msep_matrix = drop(msep_array)  # removes singleton dimension\n",
        "best_component = which.min(msep_matrix[1,])\n",
        "best_component\n"
      ]
    },
    {
      "cell_type": "markdown",
      "metadata": {
        "id": "O7ZK6mybNPLJ"
      },
      "source": [
        "What what does this plot tell you about how many components best explain variance in Flanker task performance?\n",
        "\n",
        "> This tells us that 7 components is the best number of components for explaining variance in the Flanker task performance (which we can see as the value of components at which the minimum MSEP is at components = 7). From the plot, we can see that the MSEP decreases to a point (in a general u-curve aside from some variation between 10 and 20 components), before increaseing, suggesting that too few or too many components can be bad for performance\n",
        "> *"
      ]
    },
    {
      "cell_type": "markdown",
      "metadata": {
        "id": "5zheO4rLBujo"
      },
      "source": [
        "---\n",
        "## 5. Reflection (2 points)"
      ]
    },
    {
      "cell_type": "markdown",
      "metadata": {
        "id": "T-65QvdnBujo"
      },
      "source": [
        "Compare the number of components that explain variance in X alone (the brain volumes) to the number of components that explain performance in the Flanker task. What does the difference in these two numbers tell you about how variation in brain volumes relates to task performance?"
      ]
    },
    {
      "cell_type": "markdown",
      "metadata": {
        "id": "dkM1H1_WBujo"
      },
      "source": [
        "> Less components are needed to explain variation in the Flanker task compared to brain volumne overall. The differeence in these two numbers tells us that only part of the the full variablility is needed to predict task performance, and thus, indicates that specific regions are more involved in the Flanker task than others/\n",
        "\n",
        ">"
      ]
    },
    {
      "cell_type": "markdown",
      "metadata": {
        "id": "HmcAxEQCBujp"
      },
      "source": [
        "**DUE:** 5pm EST, April 15, 2024"
      ]
    },
    {
      "cell_type": "markdown",
      "metadata": {
        "id": "hYdsoRobBujp"
      },
      "source": [
        "**IMPORTANT** Did you collaborate with anyone on this assignment? If so, list their names here.\n",
        "> *Someone's Name*"
      ]
    }
  ],
  "metadata": {
    "colab": {
      "provenance": []
    },
    "kernelspec": {
      "display_name": "R",
      "language": "R",
      "name": "ir"
    },
    "language_info": {
      "codemirror_mode": "r",
      "file_extension": ".r",
      "mimetype": "text/x-r-source",
      "name": "R",
      "pygments_lexer": "r",
      "version": "4.4.2"
    }
  },
  "nbformat": 4,
  "nbformat_minor": 0
}