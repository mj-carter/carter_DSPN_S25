{
  "cells": [
    {
      "cell_type": "markdown",
      "metadata": {
        "id": "GmZ6F83y5XJ3"
      },
      "source": [
        "<a href=\"https://colab.research.google.com/github/CoAxLab/Data-Explorations/blob/main/book/exercises/mediation-and-moderation.ipynb\" target=\"_parent\"><img src=\"https://colab.research.google.com/assets/colab-badge.svg\" alt=\"Open In Colab\"/></a>"
      ]
    },
    {
      "cell_type": "markdown",
      "metadata": {
        "id": "-2W919d2ZXp7"
      },
      "source": [
        "# Exercise 14: Mediation"
      ]
    },
    {
      "cell_type": "markdown",
      "metadata": {
        "id": "L4nOzVhyZXqK"
      },
      "source": [
        "This homework assignment is designed to give you practice with mediation. You won't need to load in any data for this homework -- we'll simulate data instead."
      ]
    },
    {
      "cell_type": "markdown",
      "source": [
        "1. Simulating data 3/3\n",
        "2. Visualizing data 2/2\n",
        "3. Mediation analysis 4/4\n",
        "4. Reflection 1/1"
      ],
      "metadata": {
        "id": "H8s-uuVq5Y9n"
      }
    },
    {
      "cell_type": "markdown",
      "metadata": {
        "id": "9DsyBTB6ZXqN"
      },
      "source": [
        "---\n",
        "## 1. Simulating data (3 points)\n"
      ]
    },
    {
      "cell_type": "markdown",
      "metadata": {
        "id": "J1f6MywYhyzN"
      },
      "source": [
        "In this homework, we're going to simulate the relationship between age, word reading experience, and reading comprehension skill. Older children tend to be better at reading comprehension tasks, but this isn't just an inherent part of getting older. It's a combination of gaining more experience with reading, oral language skills, and executive functions development. In this homework, though, we're going to simplify this relationship down to a direct effect of age on reading comprehension (since improvements in oral language skills and executive functions are more guaranteed as children age than reading practice is), and a mediation of word reading experience.\n",
        "\n",
        "In graphical form:\n",
        "![picture](https://drive.google.com/uc?id=1wdm9xuiJhBJor99-9GnicO2_rzkGWtfN)"
      ]
    },
    {
      "cell_type": "markdown",
      "metadata": {
        "id": "qMpQX_ogjkyQ"
      },
      "source": [
        "Writing the relationship out formally:\n",
        "\n",
        "$$x = \\beta_{xa} a + \\beta_{x0} + \\epsilon_{x}$$\n",
        "\n",
        "$$c = \\beta_{ca} a + \\beta_{cx} x + \\beta_{c0} + \\epsilon_c$$\n",
        "\n"
      ]
    },
    {
      "cell_type": "markdown",
      "metadata": {
        "id": "5FidlpJlmKi8"
      },
      "source": [
        "$c$ is reading comprehension, $x$ is word reading experience, and $a$ is age. $\\beta_{c0}$ and $\\beta_{x0}$ are intercept terms for their respective formulas, and $\\epsilon_{c}$ and $\\epsilon_{x}$ are gaussian noise terms. We'll start by writing a function, `simulate_data`, that can simulate this relationship. The input values are set and the function structure is provided below. Complete the function such that it takes in those input variables and generates $age$, $x$, and $c$ values. Use `runif()` to generate ages. Use `rnorm()` to generate the noise terms."
      ]
    },
    {
      "cell_type": "code",
      "execution_count": null,
      "metadata": {
        "id": "UnBVazYfZXqP",
        "vscode": {
          "languageId": "r"
        },
        "outputId": "45ec1864-2366-4767-da95-c160f494e62e"
      },
      "outputs": [
        {
          "data": {
            "text/html": [
              "<table class=\"dataframe\">\n",
              "<caption>A data.frame: 6 × 3</caption>\n",
              "<thead>\n",
              "\t<tr><th></th><th scope=col>age</th><th scope=col>experience</th><th scope=col>comprehension</th></tr>\n",
              "\t<tr><th></th><th scope=col>&lt;dbl&gt;</th><th scope=col>&lt;dbl&gt;</th><th scope=col>&lt;dbl&gt;</th></tr>\n",
              "</thead>\n",
              "<tbody>\n",
              "\t<tr><th scope=row>1</th><td>103.79356</td><td>35.49223</td><td> 97.84290</td></tr>\n",
              "\t<tr><th scope=row>2</th><td>106.44661</td><td>42.53022</td><td>225.01557</td></tr>\n",
              "\t<tr><th scope=row>3</th><td> 91.44397</td><td>19.25494</td><td>270.05840</td></tr>\n",
              "\t<tr><th scope=row>4</th><td> 99.05252</td><td>94.16333</td><td>518.76200</td></tr>\n",
              "\t<tr><th scope=row>5</th><td>105.08165</td><td>15.52251</td><td> 92.99394</td></tr>\n",
              "\t<tr><th scope=row>6</th><td>170.00969</td><td>-1.10338</td><td>143.27016</td></tr>\n",
              "</tbody>\n",
              "</table>\n"
            ],
            "text/latex": [
              "A data.frame: 6 × 3\n",
              "\\begin{tabular}{r|lll}\n",
              "  & age & experience & comprehension\\\\\n",
              "  & <dbl> & <dbl> & <dbl>\\\\\n",
              "\\hline\n",
              "\t1 & 103.79356 & 35.49223 &  97.84290\\\\\n",
              "\t2 & 106.44661 & 42.53022 & 225.01557\\\\\n",
              "\t3 &  91.44397 & 19.25494 & 270.05840\\\\\n",
              "\t4 &  99.05252 & 94.16333 & 518.76200\\\\\n",
              "\t5 & 105.08165 & 15.52251 &  92.99394\\\\\n",
              "\t6 & 170.00969 & -1.10338 & 143.27016\\\\\n",
              "\\end{tabular}\n"
            ],
            "text/markdown": [
              "\n",
              "A data.frame: 6 × 3\n",
              "\n",
              "| <!--/--> | age &lt;dbl&gt; | experience &lt;dbl&gt; | comprehension &lt;dbl&gt; |\n",
              "|---|---|---|---|\n",
              "| 1 | 103.79356 | 35.49223 |  97.84290 |\n",
              "| 2 | 106.44661 | 42.53022 | 225.01557 |\n",
              "| 3 |  91.44397 | 19.25494 | 270.05840 |\n",
              "| 4 |  99.05252 | 94.16333 | 518.76200 |\n",
              "| 5 | 105.08165 | 15.52251 |  92.99394 |\n",
              "| 6 | 170.00969 | -1.10338 | 143.27016 |\n",
              "\n"
            ],
            "text/plain": [
              "  age       experience comprehension\n",
              "1 103.79356 35.49223    97.84290    \n",
              "2 106.44661 42.53022   225.01557    \n",
              "3  91.44397 19.25494   270.05840    \n",
              "4  99.05252 94.16333   518.76200    \n",
              "5 105.08165 15.52251    92.99394    \n",
              "6 170.00969 -1.10338   143.27016    "
            ]
          },
          "metadata": {},
          "output_type": "display_data"
        }
      ],
      "source": [
        "sample_size = 100 # How many children in data set?\n",
        "age_lo = 80     # minimum age, in months\n",
        "age_hi = 200    # maximum age, in months\n",
        "beta_xa = 0.5   # amount by which experience changes for increase of one month in age\n",
        "beta_x0 = -5    # amount of experience when age = 0 (not interpretable, since minimum age for this data is 80 months)\n",
        "sd_x = 50       # standard dev of gaussian noise term, epsilon_x\n",
        "beta_ca = 0.8   # amount that comprehension score improves for every increase of one unit in age\n",
        "beta_cx = 3     # amount that comprehension score improves for every increase of one unit in reading experience\n",
        "beta_c0 = 10    # comprehension score when reading experience is 0.\n",
        "sd_c = 85      # standard dev of gaussian noise term, epsilon_c\n",
        "\n",
        "simulate_data <- function(sample_size, age_lo, age_hi, beta_xa,\n",
        "                          beta_x0, sd_x, beta_ca, beta_cx, beta_c0, sd_c) {\n",
        "    age = runif(sample_size, min = age_lo, max = age_hi) #age\n",
        "    epsilon_x = rnorm(sample_size, mean = 0, sd = sd_x) #reading\n",
        "    x = beta_xa * age + beta_x0 + epsilon_x\n",
        "\n",
        "    epsilon_c = rnorm(sample_size, mean = 0, sd = sd_c) #comprehension\n",
        "    c = beta_ca * age + beta_cx * x + beta_c0 + epsilon_c\n",
        "\n",
        "    return(data.frame(age = age, experience = x, comprehension = c))\n",
        "}\n",
        "\n",
        "dat <- simulate_data(sample_size, age_lo, age_hi, beta_xa, beta_x0, sd_x, beta_ca, beta_cx, beta_c0, sd_c)\n",
        "head(dat)"
      ]
    },
    {
      "cell_type": "markdown",
      "metadata": {
        "id": "I-Rt8PFe_G5O"
      },
      "source": [
        "---\n",
        "## 2. Visualizing Data (2 point)"
      ]
    },
    {
      "cell_type": "markdown",
      "metadata": {
        "id": "MQdcoYCLvuDf"
      },
      "source": [
        "Load the `tidyverse` library."
      ]
    },
    {
      "cell_type": "code",
      "execution_count": null,
      "metadata": {
        "id": "H07EMQCwvzsL",
        "vscode": {
          "languageId": "r"
        },
        "outputId": "386d6c4a-f3b1-418f-dbbb-fa386af4a266"
      },
      "outputs": [
        {
          "name": "stderr",
          "output_type": "stream",
          "text": [
            "── \u001b[1mAttaching core tidyverse packages\u001b[22m ──────────────────────────────────────────────────────────────── tidyverse 2.0.0 ──\n",
            "\u001b[32m✔\u001b[39m \u001b[34mdplyr    \u001b[39m 1.1.4     \u001b[32m✔\u001b[39m \u001b[34mreadr    \u001b[39m 2.1.5\n",
            "\u001b[32m✔\u001b[39m \u001b[34mforcats  \u001b[39m 1.0.0     \u001b[32m✔\u001b[39m \u001b[34mstringr  \u001b[39m 1.5.1\n",
            "\u001b[32m✔\u001b[39m \u001b[34mggplot2  \u001b[39m 3.5.1     \u001b[32m✔\u001b[39m \u001b[34mtibble   \u001b[39m 3.2.1\n",
            "\u001b[32m✔\u001b[39m \u001b[34mlubridate\u001b[39m 1.9.3     \u001b[32m✔\u001b[39m \u001b[34mtidyr    \u001b[39m 1.3.1\n",
            "\u001b[32m✔\u001b[39m \u001b[34mpurrr    \u001b[39m 1.0.2     \n",
            "── \u001b[1mConflicts\u001b[22m ────────────────────────────────────────────────────────────────────────────────── tidyverse_conflicts() ──\n",
            "\u001b[31m✖\u001b[39m \u001b[34mdplyr\u001b[39m::\u001b[32mfilter()\u001b[39m masks \u001b[34mstats\u001b[39m::filter()\n",
            "\u001b[31m✖\u001b[39m \u001b[34mdplyr\u001b[39m::\u001b[32mlag()\u001b[39m    masks \u001b[34mstats\u001b[39m::lag()\n",
            "\u001b[36mℹ\u001b[39m Use the conflicted package (\u001b[3m\u001b[34m<http://conflicted.r-lib.org/>\u001b[39m\u001b[23m) to force all conflicts to become errors\n"
          ]
        }
      ],
      "source": [
        "library(tidyverse)"
      ]
    },
    {
      "cell_type": "markdown",
      "metadata": {
        "id": "Vgc2ehTKv1jt"
      },
      "source": [
        "a) Plot the relationship between age and reading comprehension."
      ]
    },
    {
      "cell_type": "code",
      "execution_count": null,
      "metadata": {
        "id": "Pb-KYXwuwS28",
        "vscode": {
          "languageId": "r"
        },
        "outputId": "d61fecc5-910c-47aa-b3ee-d5e1d4386011"
      },
      "outputs": [
        {
          "name": "stderr",
          "output_type": "stream",
          "text": [
            "\u001b[1m\u001b[22m`geom_smooth()` using formula = 'y ~ x'\n"
          ]
        },
        {
          "data": {
            "image/png": "[encoded data removed]",
            "text/plain": [
              "plot without title"
            ]
          },
          "metadata": {
            "image/png": {
              "height": 420,
              "width": 420
            }
          },
          "output_type": "display_data"
        }
      ],
      "source": [
        "ggplot(dat, aes(x = age, y = comprehension)) +\n",
        "  geom_point() +\n",
        "  geom_smooth(method = \"lm\", se = FALSE)"
      ]
    },
    {
      "cell_type": "markdown",
      "metadata": {
        "id": "CB_8CsBZwQqW"
      },
      "source": [
        "b) Plot the relationship between reading experience, age, and reading comprehension."
      ]
    },
    {
      "cell_type": "code",
      "execution_count": null,
      "metadata": {
        "id": "VeSOCXlMweSz",
        "vscode": {
          "languageId": "r"
        }
      },
      "outputs": [],
      "source": [
        "ggplot(dat, aes(x = experience, y = comprehension, color = age)) +\n",
        "  geom_point() +\n",
        "  scale_color_viridis_c()\n"
      ]
    },
    {
      "cell_type": "markdown",
      "metadata": {
        "id": "BeK0H64WlOBM"
      },
      "source": [
        "---\n",
        "## 3. Mediation Analysis (4 points)"
      ]
    },
    {
      "cell_type": "markdown",
      "metadata": {
        "id": "dP_6o9rpmThw"
      },
      "source": [
        "Load the `mediation` library."
      ]
    },
    {
      "cell_type": "code",
      "execution_count": null,
      "metadata": {
        "id": "PIPheP5ipgKg",
        "vscode": {
          "languageId": "r"
        }
      },
      "outputs": [],
      "source": [
        "library(mediation)\n"
      ]
    },
    {
      "cell_type": "markdown",
      "metadata": {
        "id": "Q1UM2Qhx6Kk-"
      },
      "source": [
        "Use the `mediate` function to determine whether `x` mediates the relationship between `age` and `c`. Use `summary()` to print the model results. *Hint: see the mediation and moderation tutorial.*"
      ]
    },
    {
      "cell_type": "code",
      "execution_count": null,
      "metadata": {
        "id": "9h1ySgXm4HWm",
        "vscode": {
          "languageId": "r"
        },
        "outputId": "32cd52fb-a6cc-457c-b8a2-242d66318585"
      },
      "outputs": [
        {
          "name": "stderr",
          "output_type": "stream",
          "text": [
            "Running nonparametric bootstrap\n",
            "\n",
            "\n"
          ]
        },
        {
          "data": {
            "text/plain": [
              "\n",
              "Causal Mediation Analysis \n",
              "\n",
              "Nonparametric Bootstrap Confidence Intervals with the Percentile Method\n",
              "\n",
              "               Estimate 95% CI Lower 95% CI Upper p-value    \n",
              "ACME              1.239        0.433         1.99   0.002 ** \n",
              "ADE               0.877        0.395         1.40  <2e-16 ***\n",
              "Total Effect      2.116        1.234         2.96  <2e-16 ***\n",
              "Prop. Mediated    0.585        0.317         0.78   0.002 ** \n",
              "---\n",
              "Signif. codes:  0 '***' 0.001 '**' 0.01 '*' 0.05 '.' 0.1 ' ' 1\n",
              "\n",
              "Sample Size Used: 100 \n",
              "\n",
              "\n",
              "Simulations: 1000 \n"
            ]
          },
          "metadata": {},
          "output_type": "display_data"
        }
      ],
      "source": [
        "mediator_mod = lm(experience ~ age, data = dat)\n",
        "lmod = lm(comprehension ~ age + experience, data = dat)\n",
        "\n",
        "med = mediate(mediator_mod, lmod, treat = \"age\", mediator = \"experience\", boot = TRUE, sims = 1000)\n",
        "\n",
        "summary(med)\n"
      ]
    },
    {
      "cell_type": "markdown",
      "metadata": {
        "id": "sYL6Pm0FOUbq"
      },
      "source": [
        "---\n",
        "## 5. Reflection (1 point)\n",
        "How do you interpret these results? Why do you think the analysis yielded this result?"
      ]
    },
    {
      "cell_type": "markdown",
      "metadata": {
        "id": "ZGVjm8AJOUbq",
        "outputId": "ccd7b03c-8619-4eb3-9752-06929c1e8ed0",
        "vscode": {
          "languageId": "r"
        }
      },
      "source": [
        "> Based on these results, it appears that experience somewhat mediates the relationship between age and reading comprehension. The average causal mediation effect (ACME) is significant (p < .05), which indicztes that reading experience improves with age, and subsequently, it improves comprehension.\n",
        ">"
      ]
    },
    {
      "cell_type": "markdown",
      "metadata": {
        "id": "C4MPECMmZXqe"
      },
      "source": [
        "**DUE:** 5pm EST, April 1, 2024"
      ]
    },
    {
      "cell_type": "markdown",
      "metadata": {
        "id": "r9GUofXN4BVy"
      },
      "source": [
        "**IMPORTANT** Did you collaborate with anyone on this assignment? If so, list their names here.\n",
        "> *Someone's Name*"
      ]
    }
  ],
  "metadata": {
    "colab": {
      "provenance": [],
      "toc_visible": true
    },
    "kernelspec": {
      "display_name": "R",
      "language": "R",
      "name": "ir"
    },
    "language_info": {
      "codemirror_mode": "r",
      "file_extension": ".r",
      "mimetype": "text/x-r-source",
      "name": "R",
      "pygments_lexer": "r",
      "version": "4.4.2"
    }
  },
  "nbformat": 4,
  "nbformat_minor": 0
}